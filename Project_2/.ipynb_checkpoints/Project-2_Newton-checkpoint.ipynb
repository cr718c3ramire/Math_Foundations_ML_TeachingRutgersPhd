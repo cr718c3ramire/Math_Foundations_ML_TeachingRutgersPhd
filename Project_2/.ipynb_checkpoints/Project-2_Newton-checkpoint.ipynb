{
 "cells": [
  {
   "cell_type": "code",
   "execution_count": 1,
   "id": "75ae9cea",
   "metadata": {},
   "outputs": [],
   "source": [
    "import numpy as np\n",
    "import matplotlib.pyplot as plt\n",
    "import pandas as pd"
   ]
  },
  {
   "cell_type": "markdown",
   "id": "f2a9b964",
   "metadata": {},
   "source": [
    "# Project 2: Newton Methods\n",
    "\n",
    "## Introduction\n",
    "\n",
    "Given a set of $2$ test scores associated to each student in a current class, we want to predict through a simple model whether a student passes the course or not. We decide to use a linear model to separate who will pass from who will fail.\n",
    "\n",
    "We use the historical test scores obtained from $m$ past students who passed/failed this course in previous years. We input these historical scores as $m$ data vectors such that $\\overline{X}_i=(x_1^{(i)}, x_2^{(i)})$ contains the 2 midterm scores of the $i$th student $1\\leq i \\leq m$. We define a set of associated binary target values $y_i\\in \\{-1,+1\\}$ ($+1$ passed, $-1$ failed) $1\\leq i \\leq m$. The goal then is to find an affine function\n",
    "\n",
    " \n",
    "\\begin{align*}\n",
    "f(x_1, x_2)=w_1 x_1 + w_2 x_2+w_3=\n",
    "\\begin{pmatrix}\n",
    "w_1 \\\\ \n",
    "w_2 \\\\ \n",
    "w_3\n",
    "\\end{pmatrix}\\cdot\n",
    "\\begin{pmatrix}\n",
    "x_1 \\\\ \n",
    "x_2 \\\\ \n",
    "1\n",
    "\\end{pmatrix}  =\\overline{W}\\cdot\\overline{X}^T,\n",
    "\\end{align*}\n",
    "\n",
    "so that $f$ may be used to predict the outcome of a different (yet unseen) score $(z_1,z_2)$ by \n",
    "\n",
    "\\begin{align*}\n",
    "f(z_1, z_2)<0&\\rightarrow \\text{fail}\\\\\n",
    "f(z_1, z_2)>0&\\rightarrow \\text{pass}\n",
    "\\end{align*}\n",
    "\n",
    "\n",
    "## Data set and associated Loss Functionals\n",
    "\n",
    "Suppose you are given the historical data set in the cell/code snippet below\n"
   ]
  },
  {
   "cell_type": "code",
   "execution_count": 2,
   "id": "228691d5",
   "metadata": {},
   "outputs": [
    {
     "data": {
      "text/plain": [
       "<matplotlib.legend.Legend at 0x7fbef3297e80>"
      ]
     },
     "execution_count": 2,
     "metadata": {},
     "output_type": "execute_result"
    },
    {
     "data": {
      "image/png": "[encoded data removed]",
      "text/plain": [
       "<Figure size 432x288 with 1 Axes>"
      ]
     },
     "metadata": {
      "needs_background": "light"
     },
     "output_type": "display_data"
    }
   ],
   "source": [
    "# Load and plot the data set\n",
    "df=pd.read_csv(\"ex2data1.txt\",header=None)\n",
    "X=df.iloc[:,:-1].values\n",
    "y=df.iloc[:,-1].values   \n",
    "y=2*y-1 # the original y-values are 0,1 this makes them be -1 or 1. \n",
    "\n",
    "pos , neg = (y==1).reshape(100,1) , (y==-1).reshape(100,1)\n",
    "plt.scatter(X[pos[:,0],0],X[pos[:,0],1],c=\"b\",marker=\"+\")\n",
    "plt.scatter(X[neg[:,0],0],X[neg[:,0],1],c=\"r\", marker=\"o\", s =10)\n",
    "plt.xlabel(\"Exam 1 score\")\n",
    "plt.ylabel(\"Exam 2 score\")\n",
    "plt.legend([\"Pass\",\"Fail\"],loc=0)"
   ]
  },
  {
   "cell_type": "markdown",
   "id": "63f7b400",
   "metadata": {},
   "source": [
    " \n",
    "Introduce the loss functionals\n",
    "\\begin{equation}\\label{1}\\tag{1}\n",
    "J_1(\\overline{W})=\\sum_{i=1}^m (1-y_i \\overline{W}\\cdot\\overline{X}_i^T)^2 \\hspace{0.2in}\n",
    "\\big( \\text{linear regression}\\big)\n",
    "\\end{equation}\n",
    "\\begin{equation}\\label{2}\\tag{2}\n",
    "J_2(\\overline{W})=\\sum_{i=1}^m \\log(1+ e^{-y_i \\overline{W}\\cdot\\overline{X}_i^T}) \\hspace{0.2in}\\big( \\text{logistic regression}\\big)\n",
    "\\end{equation}\n",
    "\n",
    "\\begin{equation}\\label{3}\\tag{3}\n",
    "J_3(\\overline{W})=\\sum_{i=1}^m \\log(1+ e^{-y_i \\overline{W}\\cdot\\overline{X}_i^T}) +\\frac{\\lambda}{2}\\|\\overline{W}\\|_2^2 \\hspace{0.2in}\\big( \\text{regularized logistic regression}\\big)\n",
    "\\end{equation}"
   ]
  },
  {
   "cell_type": "markdown",
   "id": "b8c12a41",
   "metadata": {},
   "source": [
    "## 1.  (40 pts)\n",
    "\n",
    "Calculate the gradients and the Hessians of $J_1, J_2$ and $J_3$, and represent/program each of these as a Python function. Note your function should take as argument variables $\\overline{W}$, input data points $\\overline{X}_i$, and corresponding $y_i$ values. You can put all the $\\overline{X}_i$ into a single $X$ (the $i$th row of $X$ is  $\\overline{X}_i$) and all $y_i$ into a vector $y$, whose $i$th element is $y_i$. A possible function prototype outline is "
   ]
  },
  {
   "cell_type": "code",
   "execution_count": null,
   "id": "4198a8e3",
   "metadata": {},
   "outputs": [],
   "source": [
    " def costFunction1(W, X, y):\n",
    "    \"\"\"\n",
    "    Takes in numpy array W, X and y and returns the corresponding cost function, gradient \n",
    "    and hessian  \n",
    "    \"\"\"\n",
    "    \n",
    "    \n",
    "    \n",
    "    cost = \n",
    "    grad = \n",
    "    hess =\n",
    "    \n",
    "    return cost , grad, hess"
   ]
  },
  {
   "cell_type": "markdown",
   "id": "39928c24",
   "metadata": {},
   "source": [
    "## 2. (10 pts)\n",
    "\n",
    "Are these functionals convex? Explain."
   ]
  },
  {
   "cell_type": "markdown",
   "id": "9edb907e",
   "metadata": {},
   "source": [
    "## 3. (30 pts) \n",
    "\n",
    "Using the functions you wrote in part 1., implement Newton's method to find the approximate solutions to \n",
    "\n",
    "\\begin{equation}\n",
    "\\nabla J_i(\\overline{W})=0 \\hspace{0.2in} \\text{(the respective minima)}\n",
    "\\end{equation}\n",
    "\n",
    "For a stopping criterion, use \n",
    "\n",
    "\\begin{equation}\n",
    "\\frac{|J_i(\\overline{W}_{k+1})-J_i(\\overline{W}_{k})|}{J_i(\\overline{W}_{k+1})} \\leq 10^{-7}\n",
    "\\end{equation}\n",
    "\n",
    "You may want to try different initial guesses $\\overline{W}_0$, and you may want to try different (relatively small) values for $\\lambda$ (the regularization parameter)."
   ]
  },
  {
   "cell_type": "code",
   "execution_count": null,
   "id": "c16d7b99",
   "metadata": {},
   "outputs": [],
   "source": [
    " # Your code here\n",
    "    \n",
    "    \n",
    "    \n",
    "    \n",
    "    \n",
    "    \n",
    "    \n",
    "    \n",
    "    "
   ]
  },
  {
   "cell_type": "markdown",
   "id": "e4a3e39b",
   "metadata": {},
   "source": [
    "## 4. (10 pts)\n",
    "\n",
    "How many iterations were required for $J_1, J_2$ and $J_3$? Can you explain the count obtained for $J_1$?"
   ]
  },
  {
   "cell_type": "markdown",
   "id": "c16995eb",
   "metadata": {},
   "source": [
    "## 5. (10 pts)\n",
    "\n",
    "Display the data with the \"decision boundaries\" obtained from the minimization of $J_1, J_2$ and $J_3$. "
   ]
  },
  {
   "cell_type": "code",
   "execution_count": null,
   "id": "11d668fd",
   "metadata": {},
   "outputs": [],
   "source": [
    "# Plot here\n",
    "\n",
    "\n",
    "\n",
    "\n"
   ]
  }
 ],
 "metadata": {
  "kernelspec": {
   "display_name": "Python 3",
   "language": "python",
   "name": "python3"
  },
  "language_info": {
   "codemirror_mode": {
    "name": "ipython",
    "version": 3
   },
   "file_extension": ".py",
   "mimetype": "text/x-python",
   "name": "python",
   "nbconvert_exporter": "python",
   "pygments_lexer": "ipython3",
   "version": "3.8.8"
  }
 },
 "nbformat": 4,
 "nbformat_minor": 5
}
