{
 "cells": [
  {
   "cell_type": "code",
   "execution_count": 1,
   "id": "75ae9cea",
   "metadata": {},
   "outputs": [],
   "source": [
    "import numpy as np\n",
    "import matplotlib.pyplot as plt\n",
    "import pandas as pd"
   ]
  },
  {
   "cell_type": "markdown",
   "id": "f2a9b964",
   "metadata": {},
   "source": [
    "# Project 2: Newton Methods\n",
    "\n",
    "## Introduction\n",
    "\n",
    "Given a set of $2$ test scores associated to each student in a current class, we want to predict through a simple model whether a student passes the course or not. We decide to use a linear model to separate who will pass from who will fail.\n",
    "\n",
    "We use the historical test scores obtained from $m$ past students who passed/failed this course in previous years. We input these historical scores as $m$ data vectors such that $\\overline{X}_i=(x_1^{(i)}, x_2^{(i)})$ contains the 2 midterm scores of the $i$th student $1\\leq i \\leq m$. We define a set of associated binary target values $y_i\\in \\{-1,+1\\}$ ($+1$ passed, $-1$ failed) $1\\leq i \\leq m$. The goal then is to find an affine function\n",
    "\n",
    " \n",
    "\\begin{align*}\n",
    "f(x_1, x_2)=w_1 x_1 + w_2 x_2+w_3=\n",
    "\\begin{pmatrix}\n",
    "w_1 \\\\ \n",
    "w_2 \\\\ \n",
    "w_3\n",
    "\\end{pmatrix}\\cdot\n",
    "\\begin{pmatrix}\n",
    "x_1 \\\\ \n",
    "x_2 \\\\ \n",
    "1\n",
    "\\end{pmatrix}  =\\overline{W}\\cdot\\overline{X}^T,\n",
    "\\end{align*}\n",
    "\n",
    "so that $f$ may be used to predict the outcome of a different (yet unseen) score $(z_1,z_2)$ by \n",
    "\n",
    "\\begin{align*}\n",
    "f(z_1, z_2)<0&\\rightarrow \\text{fail}\\\\\n",
    "f(z_1, z_2)>0&\\rightarrow \\text{pass}\n",
    "\\end{align*}\n",
    "\n",
    "\n",
    "## Data set and associated Loss Functionals\n",
    "\n",
    "Suppose you are given the historical data set in the cell/code snippet below\n"
   ]
  },
  {
   "cell_type": "code",
   "execution_count": 16,
   "id": "228691d5",
   "metadata": {},
   "outputs": [
    {
     "data": {
      "text/plain": [
       "<matplotlib.legend.Legend at 0x7f00b789e430>"
      ]
     },
     "execution_count": 16,
     "metadata": {},
     "output_type": "execute_result"
    },
    {
     "data": {
      "image/png": "[encoded data removed]",
      "text/plain": [
       "<Figure size 432x288 with 1 Axes>"
      ]
     },
     "metadata": {
      "needs_background": "light"
     },
     "output_type": "display_data"
    }
   ],
   "source": [
    "# Load and plot the data set\n",
    "df=pd.read_csv(\"ex2data1.txt\",header=None)\n",
    "X=df.iloc[:,:-1].values\n",
    "y=df.iloc[:,-1].values   \n",
    "y=2*y-1 # the original y-values are 0,1 this makes them be -1 or 1. \n",
    "\n",
    "pos , neg = (y==1).reshape(100,1) , (y==-1).reshape(100,1)\n",
    "plt.scatter(X[pos[:,0],0],X[pos[:,0],1],c=\"b\",marker=\"+\")\n",
    "plt.scatter(X[neg[:,0],0],X[neg[:,0],1],c=\"r\", marker=\"o\", s =10)\n",
    "plt.xlabel(\"Exam 1 score\")\n",
    "plt.ylabel(\"Exam 2 score\")\n",
    "plt.legend([\"Pass\",\"Fail\"],loc=0)"
   ]
  },
  {
   "cell_type": "markdown",
   "id": "63f7b400",
   "metadata": {},
   "source": [
    " \n",
    "Introduce the loss functionals\n",
    "\\begin{equation}\\label{1}\\tag{1}\n",
    "J_1(\\overline{W})=\\sum_{i=1}^m (1-y_i \\overline{W}\\cdot\\overline{X}_i^T)^2 \\hspace{0.2in}\n",
    "\\big( \\text{linear regression}\\big)\n",
    "\\end{equation}\n",
    "\\begin{equation}\\label{2}\\tag{2}\n",
    "J_2(\\overline{W})=\\sum_{i=1}^m \\log(1+ e^{-y_i \\overline{W}\\cdot\\overline{X}_i^T}) \\hspace{0.2in}\\big( \\text{logistic regression}\\big)\n",
    "\\end{equation}\n",
    "\n",
    "\\begin{equation}\\label{3}\\tag{3}\n",
    "J_3(\\overline{W})=\\sum_{i=1}^m \\log(1+ e^{-y_i \\overline{W}\\cdot\\overline{X}_i^T}) +\\frac{\\lambda}{2}\\|\\overline{W}\\|_2^2 \\hspace{0.2in}\\big( \\text{regularized logistic regression}\\big)\n",
    "\\end{equation}"
   ]
  },
  {
   "cell_type": "markdown",
   "id": "b8c12a41",
   "metadata": {},
   "source": [
    "## 1.  (40 pts)\n",
    "\n",
    "Calculate the gradients and the Hessians of $J_1, J_2$ and $J_3$, and represent/program each of these as a Python function. Note your function should take as argument variables $\\overline{W}$, input data points $\\overline{X}_i$, and corresponding $y_i$ values. You can put all the $\\overline{X}_i$ into a single $X$ (the $i$th row of $X$ is  $\\overline{X}_i$) and all $y_i$ into a vector $y$, whose $i$th element is $y_i$. A possible function prototype outline is "
   ]
  },
  {
   "cell_type": "code",
   "execution_count": 17,
   "id": "33915e97",
   "metadata": {},
   "outputs": [],
   "source": [
    "# Note students have to append the 1 to X\n",
    "\n",
    "m , d = X.shape[0], X.shape[1]\n",
    "X= np.append(np.ones((m,1)),X,axis=1)\n",
    "y=y.reshape(m,1)"
   ]
  },
  {
   "cell_type": "code",
   "execution_count": 24,
   "id": "4198a8e3",
   "metadata": {},
   "outputs": [],
   "source": [
    "def CostLinReg(W, X, y):\n",
    "    \"\"\"\n",
    "    Takes in numpy array W, X and y and returns the corresponding cost function, gradient \n",
    "    and hessian  \n",
    "    \"\"\"\n",
    "    \n",
    "    # The W parameter is our initial Guess. X is the data matrix D in [Aggarwal] notation\n",
    "    \n",
    "    m=len(y)\n",
    "    difference=X@W-y\n",
    "    cost = difference.T@difference\n",
    "    grad = X.T@X@W-X.T@y\n",
    "    hess =X.T@X\n",
    "    \n",
    "    return cost , grad, hess"
   ]
  },
  {
   "cell_type": "code",
   "execution_count": 25,
   "id": "3ab72d93",
   "metadata": {},
   "outputs": [],
   "source": [
    " def sigmoid(z):\n",
    "    return 1/ (1 + np.exp(-z))\n",
    "    \n",
    "def CostLogReg(W, X, y):\n",
    "    \"\"\"\n",
    "    Takes in numpy array W, X and y and returns the corresponding cost function, gradient \n",
    "    and hessian  \n",
    "    \"\"\"\n",
    "    \n",
    "    # The W parameter is our initial Guess. X is the data matrix D in [Aggarwal] notation\n",
    "  \n",
    "    predictions = sigmoid(np.multiply(-y,np.dot(X,W))) #<---the matrix P in my Latex notes NOTE: np.multiply is elementwise!\n",
    "    error =  -np.log(sigmoid(np.multiply(y,np.dot(X,W)))) #note it is -log(sigmoid), not log(sigmoid)! \n",
    "    P=np.diagflat(predictions)\n",
    "    cost = sum(error)\n",
    "\n",
    "    grad =  -X.T@P@y\n",
    "    hess = np.dot(X.T, predictions*(1-predictions)*X) #<---this was causing the probblem! \n",
    " \n",
    "\n",
    "    \n",
    "    return cost, grad, hess"
   ]
  },
  {
   "cell_type": "code",
   "execution_count": 55,
   "id": "4cf5b614",
   "metadata": {},
   "outputs": [],
   "source": [
    "def CostLogR2Reg(W, lambd, X, y):\n",
    "    \"\"\"\n",
    "    Takes in numpy array W, X and y and returns the corresponding cost function, gradient \n",
    "    and hessian  \n",
    "    \"\"\"\n",
    "    d=W.shape[0]\n",
    "    I=np.eye(d)\n",
    "    # The W parameter is our initial Guess. X is the data matrix D in [Aggarwal] notation\n",
    "    cost, grad, hess=CostLogReg(W,X,y)\n",
    "    cost+=np.asscalar(lambd*W.T@W)\n",
    "    grad+=2*lambd*W\n",
    "    hess+=2*lambd*I\n",
    " \n",
    "\n",
    "    \n",
    "    return cost, grad, hess"
   ]
  },
  {
   "cell_type": "markdown",
   "id": "39928c24",
   "metadata": {},
   "source": [
    "## 2. (10 pts)\n",
    "\n",
    "Are these functionals convex? Explain."
   ]
  },
  {
   "cell_type": "markdown",
   "id": "9edb907e",
   "metadata": {},
   "source": [
    "## 3. (30 pts) \n",
    "\n",
    "Using the functions you wrote in part 1., implement Newton's method to find the approximate solutions to \n",
    "\n",
    "\\begin{equation}\n",
    "\\nabla J_i(\\overline{W})=0 \\hspace{0.2in} \\text{(the respective minima)}\n",
    "\\end{equation}\n",
    "\n",
    "For a stopping criterion, use \n",
    "\n",
    "\\begin{equation}\n",
    "\\frac{|J_i(\\overline{W}_{k+1})-J_i(\\overline{W}_{k})|}{J_i(\\overline{W}_{k+1})} \\leq 10^{-7}\n",
    "\\end{equation}\n",
    "\n",
    "You may want to try different initial guesses $\\overline{W}_0$, and you may want to try different (relatively small) values for $\\lambda$ (the regularization parameter)."
   ]
  },
  {
   "cell_type": "code",
   "execution_count": 4,
   "id": "c16d7b99",
   "metadata": {},
   "outputs": [],
   "source": [
    " # Your code here \n",
    "def newton_method(costFunction, X, y, W, tol=1e-8, max_it=100):\n",
    "    num_it = 0\n",
    "    cost_prev = 0\n",
    "    while num_it<max_it:\n",
    "        # J(x) * delta = fun(x)  <==> delta = J^{-1}fun(x)\n",
    "        cost, grad, hess = costFunction(W,X,y)\n",
    "        print(\"cost is now: \", cost)\n",
    "        delta = np.linalg.solve(hess, grad)\n",
    "        W -= delta\n",
    "        rel_error = abs(cost-cost_prev)/cost\n",
    "        if rel_error<tol:\n",
    "            print('Newton method converges in %d iteration.' %num_it)\n",
    "            return W\n",
    "        cost_prev = cost\n",
    "        num_it+=1\n",
    "        print(\"Finished step \", num_it)\n",
    "    \n",
    "    print('Newton method does not converge in %d iteration.' %max_it)\n",
    "    return W    "
   ]
  },
  {
   "cell_type": "code",
   "execution_count": 18,
   "id": "081ebd96",
   "metadata": {},
   "outputs": [],
   "source": [
    "def costFunction2(W, X, y):\n",
    "    \"\"\"\n",
    "    Takes in numpy array W, X and y and returns the corresponding cost function, gradient \n",
    "    and hessian  \n",
    "    \"\"\"\n",
    "    cost=0\n",
    "    grad = np.zeros((W.shape[0], 1))\n",
    "    hess = np.zeros((W.shape[0], W.shape[0]))\n",
    "     \n",
    "    for i in range(0, len(y)):\n",
    "        Xi = X[i,:].reshape(-1, 1)\n",
    "        cost = cost + np.log(1 + np.exp(-y[i, 0]*(np.dot(W.T, Xi))))\n",
    "        p = 1/(1+np.exp(y[i, 0]*np.dot(W.T, Xi)))\n",
    "        g0 = y[i, 0]*p*Xi\n",
    "        grad = grad - g0\n",
    "        #    grad[i, 0] = -y[i, 0]*1/(1+exp(y[i, 0]*(np.dot(W.T, Xi.T)))\n",
    "        hess = hess + p*(1-p)*np.dot(Xi, Xi.T)\n",
    "    \n",
    "    return cost, grad, hess"
   ]
  },
  {
   "cell_type": "code",
   "execution_count": 31,
   "id": "61436dc8",
   "metadata": {},
   "outputs": [
    {
     "name": "stdout",
     "output_type": "stream",
     "text": [
      "Cost of initial theta is [[69.31471806]]\n",
      "Gradient at initial theta (zeros): [[  -10.        ]\n",
      " [-1200.92165893]\n",
      " [-1126.28422055]]\n",
      "Hessian at initial theta (zeros): [[2.50000000e+01 1.64110685e+03 1.65554995e+03]\n",
      " [1.64110685e+03 1.17100173e+05 1.08465593e+05]\n",
      " [1.65554995e+03 1.08465593e+05 1.18180491e+05]]\n",
      "cost is now:  [[69.31471806]]\n",
      "Finished step  1\n",
      "cost is now:  [[33.14730143]]\n",
      "Finished step  2\n",
      "cost is now:  [[24.78669815]]\n",
      "Finished step  3\n",
      "cost is now:  [[21.38704675]]\n",
      "Finished step  4\n",
      "cost is now:  [[20.44686107]]\n",
      "Finished step  5\n",
      "cost is now:  [[20.3510804]]\n",
      "Finished step  6\n",
      "cost is now:  [[20.34977045]]\n",
      "Finished step  7\n",
      "cost is now:  [[20.34977016]]\n",
      "Finished step  8\n",
      "cost is now:  [[20.34977016]]\n",
      "Newton method converges in 8 iteration.\n",
      "log regression W Han Mi code is  [[-25.16133357]\n",
      " [  0.20623171]\n",
      " [  0.2014716 ]]\n"
     ]
    },
    {
     "data": {
      "text/plain": [
       "<matplotlib.legend.Legend at 0x7f00b7214c10>"
      ]
     },
     "execution_count": 31,
     "metadata": {},
     "output_type": "execute_result"
    },
    {
     "data": {
      "image/png": "[encoded data removed]",
      "text/plain": [
       "<Figure size 432x288 with 1 Axes>"
      ]
     },
     "metadata": {
      "needs_background": "light"
     },
     "output_type": "display_data"
    }
   ],
   "source": [
    "initial_theta = np.zeros((d+1,1))\n",
    "\n",
    "cost, grad, hess= costFunction2(initial_theta,X,y)\n",
    "print(\"Cost of initial theta is\",cost)\n",
    "print(\"Gradient at initial theta (zeros):\",grad)\n",
    "print(\"Hessian at initial theta (zeros):\",hess)\n",
    "\n",
    "theta0 = newton_method(costFunction2,X, y, initial_theta)\n",
    "print('log regression W Han Mi code is ', theta0)\n",
    "\n",
    "# plot decision boundary with parameters theta in part c)\n",
    " \n",
    "plt.scatter(X[pos[:,0],1],X[pos[:,0],2],c=\"b\",marker=\"+\")\n",
    "plt.scatter(X[neg[:,0],1],X[neg[:,0],2],c=\"r\", marker=\"o\", s =10)\n",
    "x_value= np.array([np.min(X[:,1]),np.max(X[:,1])])\n",
    "y_value=-(theta0[0] +theta0[1]*x_value)/theta0[2]\n",
    "plt.plot(x_value,y_value, \"g\")\n",
    "plt.xlabel(\"Exam 1 score\")\n",
    "plt.ylabel(\"Exam 2 score\")\n",
    "plt.legend([\"log reg Han Mi function\",\"Pass\",\"Fail\"],loc=0)"
   ]
  },
  {
   "cell_type": "code",
   "execution_count": 35,
   "id": "83f46ab2",
   "metadata": {},
   "outputs": [
    {
     "name": "stdout",
     "output_type": "stream",
     "text": [
      "Cost of initial theta is [[1826071.83352504]]\n",
      "Gradient at initial theta (zeros): [[ 13266.62721454]\n",
      " [906425.64781871]\n",
      " [910953.97025075]]\n",
      "Hessian at initial theta (zeros): [[1.00000000e+02 6.56442741e+03 6.62219981e+03]\n",
      " [6.56442741e+03 4.68400691e+05 4.33862373e+05]\n",
      " [6.62219981e+03 4.33862373e+05 4.72721966e+05]]\n",
      "cost is now:  [[1826071.83352504]]\n",
      "Finished step  1\n",
      "cost is now:  [[37.7975725]]\n",
      "Finished step  2\n",
      "cost is now:  [[37.7975725]]\n",
      "Newton method converges in 2 iteration.\n",
      "lin regression W is  [[-3.59499387]\n",
      " [ 0.02968175]\n",
      " [ 0.02788434]]\n"
     ]
    },
    {
     "data": {
      "text/plain": [
       "<matplotlib.legend.Legend at 0x7f00b710ce50>"
      ]
     },
     "execution_count": 35,
     "metadata": {},
     "output_type": "execute_result"
    },
    {
     "data": {
      "image/png": "[encoded data removed]",
      "text/plain": [
       "<Figure size 432x288 with 1 Axes>"
      ]
     },
     "metadata": {
      "needs_background": "light"
     },
     "output_type": "display_data"
    }
   ],
   "source": [
    "initial_theta = np.ones((d+1,1))\n",
    "cost, grad, hess= CostLinReg(initial_theta,X,y)\n",
    "print(\"Cost of initial theta is\",cost)\n",
    "print(\"Gradient at initial theta (zeros):\",grad)\n",
    "print(\"Hessian at initial theta (zeros):\",hess)\n",
    "\n",
    "theta0 = newton_method(CostLinReg,X, y, initial_theta)\n",
    "print('lin regression W is ', theta0)\n",
    "\n",
    "# plot decision boundary with parameters theta in part c)\n",
    " \n",
    "plt.scatter(X[pos[:,0],1],X[pos[:,0],2],c=\"b\",marker=\"+\")\n",
    "plt.scatter(X[neg[:,0],1],X[neg[:,0],2],c=\"r\", marker=\"o\", s =10)\n",
    "x_value= np.array([np.min(X[:,1]),np.max(X[:,1])])\n",
    "y_value=-(theta0[0] +theta0[1]*x_value)/theta0[2]\n",
    "plt.plot(x_value,y_value, \"g\")\n",
    "plt.xlabel(\"Exam 1 score\")\n",
    "plt.ylabel(\"Exam 2 score\")\n",
    "plt.legend([\"linear reg separator\",\"Pass\",\"Fail\"],loc=0)\n"
   ]
  },
  {
   "cell_type": "code",
   "execution_count": 53,
   "id": "27900943",
   "metadata": {},
   "outputs": [
    {
     "name": "stdout",
     "output_type": "stream",
     "text": [
      "Cost of initial theta is [71.32616875]\n",
      "Gradient at initial theta (zeros): [[ 13.10585786]\n",
      " [315.84560696]\n",
      " [403.83185468]]\n",
      "Hessian at initial theta (zeros): [[1.96611933e+01 1.29064476e+03 1.30200351e+03]\n",
      " [1.29064476e+03 9.20931653e+04 8.53025199e+04]\n",
      " [1.30200351e+03 8.53025199e+04 9.29427796e+04]]\n",
      "cost is now:  [71.32616875]\n",
      "Finished step  1\n",
      "cost is now:  [29.86287778]\n",
      "Finished step  2\n",
      "cost is now:  [23.38033978]\n",
      "Finished step  3\n",
      "cost is now:  [20.92125495]\n",
      "Finished step  4\n",
      "cost is now:  [20.3837612]\n",
      "Finished step  5\n",
      "cost is now:  [20.3499451]\n",
      "Finished step  6\n",
      "cost is now:  [20.34977016]\n",
      "Finished step  7\n",
      "cost is now:  [20.34977016]\n",
      "Newton method converges in 7 iteration.\n",
      "\n",
      "******************************************** \n",
      "After Newton method: \n",
      "******************************************** \n",
      "Cost is [20.34977016]\n",
      "W for logistic= [[-25.16133357]\n",
      " [  0.20623171]\n",
      " [  0.2014716 ]]\n"
     ]
    },
    {
     "data": {
      "text/plain": [
       "<matplotlib.legend.Legend at 0x7f00b6a565b0>"
      ]
     },
     "execution_count": 53,
     "metadata": {},
     "output_type": "execute_result"
    },
    {
     "data": {
      "image/png": "[encoded data removed]",
      "text/plain": [
       "<Figure size 432x288 with 1 Axes>"
      ]
     },
     "metadata": {
      "needs_background": "light"
     },
     "output_type": "display_data"
    }
   ],
   "source": [
    "\n",
    "# Logistic regression cost function\n",
    "initial_theta = np.zeros((d+1,1))\n",
    "initial_theta[0]=1\n",
    "initial_theta[1]=0\n",
    "initial_theta[2]=0 \n",
    "cost, grad, hess= CostLogReg(initial_theta,X,y)\n",
    "print(\"Cost of initial theta is\",cost)\n",
    "print(\"Gradient at initial theta (zeros):\",grad)\n",
    "print(\"Hessian at initial theta (zeros):\",hess)\n",
    "\n",
    "W_logistic = newton_method(CostLogReg,X, y, initial_theta)\n",
    "\n",
    "\n",
    "print(\"\\n******************************************** \")\n",
    "print(\"After Newton method: \")\n",
    "print(\"******************************************** \")\n",
    "\n",
    "new_cost, new_grad, new_hess= CostLogReg(W_logistic,X,y)\n",
    "print(\"Cost is\", new_cost)\n",
    "\n",
    "\n",
    "\n",
    "print('W for logistic=', W_logistic)\n",
    "\n",
    "# plot decision boundary with parameters theta in part c)\n",
    " \n",
    "plt.scatter(X[pos[:,0],1],X[pos[:,0],2],c=\"b\",marker=\"+\")\n",
    "plt.scatter(X[neg[:,0],1],X[neg[:,0],2],c=\"r\", marker=\"o\", s =10)\n",
    "x_value= np.array([np.min(X[:,1]),np.max(X[:,1])])\n",
    "y_value_log=-(W_logistic[0] +W_logistic[1]*x_value)/W_logistic[2]\n",
    "\n",
    "plt.plot(x_value,y_value_log, \"g\")\n",
    "plt.plot(x_value,y_value, \"m\")\n",
    "plt.xlabel(\"Exam 1 score\")\n",
    "plt.ylabel(\"Exam 2 score\")\n",
    "plt.legend([\"lin reg\", \"log reg\",\"Pass\",\"Fail\"],loc=0)\n"
   ]
  },
  {
   "cell_type": "code",
   "execution_count": 57,
   "id": "1c129dbc",
   "metadata": {},
   "outputs": [
    {
     "name": "stdout",
     "output_type": "stream",
     "text": [
      "Cost of initial theta is [69.31471806]\n",
      "Gradient at initial theta (zeros): [[  -10.        ]\n",
      " [-1200.92165893]\n",
      " [-1126.28422055]]\n",
      "Hessian at initial theta (zeros): [[2.50200000e+01 1.64110685e+03 1.65554995e+03]\n",
      " [1.64110685e+03 1.17100193e+05 1.08465593e+05]\n",
      " [1.65554995e+03 1.08465593e+05 1.18180511e+05]]\n",
      "cost is now:  [69.31471806]\n",
      "Finished step  1\n",
      "cost is now:  [33.92631157]\n",
      "Finished step  2\n",
      "cost is now:  [26.77844604]\n",
      "Finished step  3\n",
      "cost is now:  [24.80156875]\n",
      "Finished step  4\n",
      "cost is now:  [24.5929192]\n",
      "Finished step  5\n",
      "cost is now:  [24.59031405]\n",
      "Finished step  6\n",
      "cost is now:  [24.59031362]\n",
      "Finished step  7\n",
      "cost is now:  [24.59031362]\n",
      "Newton method converges in 7 iteration.\n",
      "\n",
      "******************************************** \n",
      "After Newton method: \n",
      "******************************************** \n",
      "W for Tikhonov logistic= [[-17.61811209]\n",
      " [  0.14597798]\n",
      " [  0.14042727]]\n"
     ]
    },
    {
     "name": "stderr",
     "output_type": "stream",
     "text": [
      "<ipython-input-55-4156de559d4c>:10: DeprecationWarning: np.asscalar(a) is deprecated since NumPy v1.16, use a.item() instead\n",
      "  cost+=np.asscalar(lambd*W.T@W)\n"
     ]
    },
    {
     "data": {
      "text/plain": [
       "(array([24.59031362]),\n",
       " array([[9.76996262e-15],\n",
       "        [4.73000111e-13],\n",
       "        [6.02895772e-13]]),\n",
       " array([[8.65611758e+00, 5.37018734e+02, 5.29685065e+02],\n",
       "        [5.37018734e+02, 3.59635727e+04, 3.09516772e+04],\n",
       "        [5.29685065e+02, 3.09516772e+04, 3.49898883e+04]]))"
      ]
     },
     "execution_count": 57,
     "metadata": {},
     "output_type": "execute_result"
    }
   ],
   "source": [
    "def newton_method2(costFunction, X, y, W, tol=1e-8, max_it=100):\n",
    "    num_it = 0\n",
    "    cost_prev = 0\n",
    "    while num_it<max_it:\n",
    "        # J(x) * delta = fun(x)  <==> delta = J^{-1}fun(x)\n",
    "        cost, grad, hess = costFunction(W,lambd, X,y)\n",
    "        print(\"cost is now: \", cost)\n",
    "        delta = np.linalg.solve(hess, grad)\n",
    "        W -= delta\n",
    "        rel_error = abs(cost-cost_prev)/cost\n",
    "        if rel_error<tol:\n",
    "            print('Newton method converges in %d iteration.' %num_it)\n",
    "            return W\n",
    "        cost_prev = cost\n",
    "        num_it+=1\n",
    "        print(\"Finished step \", num_it)\n",
    "    \n",
    "    print('Newton method does not converge in %d iteration.' %max_it)\n",
    "    return W\n",
    "\n",
    "lambd=0.01\n",
    "\n",
    "initial_theta = np.zeros((d+1,1))\n",
    "cost, grad, hess= CostLogR2Reg(initial_theta, lambd,X,y)\n",
    "print(\"Cost of initial theta is\",cost)\n",
    "print(\"Gradient at initial theta (zeros):\",grad)\n",
    "print(\"Hessian at initial theta (zeros):\",hess)\n",
    "\n",
    "W_r2 = newton_method2(CostLogR2Reg,X, y, initial_theta)\n",
    "\n",
    "\n",
    "print(\"\\n******************************************** \")\n",
    "print(\"After Newton method: \")\n",
    "print(\"******************************************** \")\n",
    " \n",
    "\n",
    "\n",
    "print('W for Tikhonov logistic=', W_r2)\n",
    "CostLogR2Reg(W_r2, lambd, X, y)\n"
   ]
  },
  {
   "cell_type": "code",
   "execution_count": 164,
   "id": "3aba3843",
   "metadata": {},
   "outputs": [
    {
     "data": {
      "text/plain": [
       "<matplotlib.legend.Legend at 0x7f0f02977670>"
      ]
     },
     "execution_count": 164,
     "metadata": {},
     "output_type": "execute_result"
    },
    {
     "data": {
      "image/png": "[encoded data removed]",
      "text/plain": [
       "<Figure size 432x288 with 1 Axes>"
      ]
     },
     "metadata": {
      "needs_background": "light"
     },
     "output_type": "display_data"
    }
   ],
   "source": [
    "# plot decision boundary with parameters theta in part c)\n",
    " \n",
    "plt.scatter(X[pos[:,0],1],X[pos[:,0],2],c=\"b\",marker=\"+\")\n",
    "plt.scatter(X[neg[:,0],1],X[neg[:,0],2],c=\"r\", marker=\"o\", s =10)\n",
    "x_value= np.array([np.min(X[:,1]),np.max(X[:,1])])\n",
    "y_value_r2=-(W_r2[0] +W_r2[1]*x_value)/W_r2[2]\n",
    "\n",
    "plt.plot(x_value,y_value_r2, \"g\")\n",
    " \n",
    "plt.xlabel(\"Exam 1 score\")\n",
    "plt.ylabel(\"Exam 2 score\")\n",
    "plt.legend([\"r2\",\"Pass\",\"Fail\"],loc=0)"
   ]
  },
  {
   "cell_type": "markdown",
   "id": "e4a3e39b",
   "metadata": {},
   "source": [
    "## 4. (10 pts)\n",
    "\n",
    "How many iterations were required for $J_1, J_2$ and $J_3$? Can you explain the count obtained for $J_1$?"
   ]
  },
  {
   "cell_type": "markdown",
   "id": "c16995eb",
   "metadata": {},
   "source": [
    "## 5. (10 pts)\n",
    "\n",
    "Display the data with the \"decision boundaries\" obtained from the minimization of $J_1, J_2$ and $J_3$. "
   ]
  },
  {
   "cell_type": "code",
   "execution_count": null,
   "id": "11d668fd",
   "metadata": {},
   "outputs": [],
   "source": [
    "# Plot here\n",
    "\n",
    "\n",
    "\n",
    "\n"
   ]
  }
 ],
 "metadata": {
  "kernelspec": {
   "display_name": "Python 3",
   "language": "python",
   "name": "python3"
  },
  "language_info": {
   "codemirror_mode": {
    "name": "ipython",
    "version": 3
   },
   "file_extension": ".py",
   "mimetype": "text/x-python",
   "name": "python",
   "nbconvert_exporter": "python",
   "pygments_lexer": "ipython3",
   "version": "3.8.8"
  }
 },
 "nbformat": 4,
 "nbformat_minor": 5
}
