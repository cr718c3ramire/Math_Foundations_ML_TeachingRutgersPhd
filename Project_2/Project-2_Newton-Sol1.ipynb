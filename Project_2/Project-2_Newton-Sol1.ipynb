{
 "cells": [
  {
   "cell_type": "code",
   "execution_count": 1,
   "id": "75ae9cea",
   "metadata": {},
   "outputs": [],
   "source": [
    "import numpy as np\n",
    "import matplotlib.pyplot as plt\n",
    "import pandas as pd"
   ]
  },
  {
   "cell_type": "markdown",
   "id": "f2a9b964",
   "metadata": {},
   "source": [
    "# Project 2: Newton Methods\n",
    "\n",
    "## Introduction\n",
    "\n",
    "Given a set of $2$ test scores associated to each student in a current class, we want to predict through a simple model whether a student passes the course or not. We decide to use a linear model to separate who will pass from who will fail.\n",
    "\n",
    "We use the historical test scores obtained from $m$ past students who passed/failed this course in previous years. We input these historical scores as $m$ data vectors such that $\\overline{X}_i=(x_1^{(i)}, x_2^{(i)})$ contains the 2 midterm scores of the $i$th student $1\\leq i \\leq m$. We define a set of associated binary target values $y_i\\in \\{-1,+1\\}$ ($+1$ passed, $-1$ failed) $1\\leq i \\leq m$. The goal then is to find an affine function\n",
    "\n",
    " \n",
    "\\begin{align*}\n",
    "f(x_1, x_2)=w_1 x_1 + w_2 x_2+w_3=\n",
    "\\begin{pmatrix}\n",
    "w_1 \\\\ \n",
    "w_2 \\\\ \n",
    "w_3\n",
    "\\end{pmatrix}\\cdot\n",
    "\\begin{pmatrix}\n",
    "x_1 \\\\ \n",
    "x_2 \\\\ \n",
    "1\n",
    "\\end{pmatrix}  =\\overline{W}\\cdot\\overline{X}^T,\n",
    "\\end{align*}\n",
    "\n",
    "so that $f$ may be used to predict the outcome of a different (yet unseen) score $(z_1,z_2)$ by \n",
    "\n",
    "\\begin{align*}\n",
    "f(z_1, z_2)<0&\\rightarrow \\text{fail}\\\\\n",
    "f(z_1, z_2)>0&\\rightarrow \\text{pass}\n",
    "\\end{align*}\n",
    "\n",
    "\n",
    "## Data set and associated Loss Functionals\n",
    "\n",
    "Suppose you are given the historical data set in the cell/code snippet below\n"
   ]
  },
  {
   "cell_type": "code",
   "execution_count": 16,
   "id": "228691d5",
   "metadata": {},
   "outputs": [
    {
     "data": {
      "text/plain": [
       "<matplotlib.legend.Legend at 0x7f00b789e430>"
      ]
     },
     "execution_count": 16,
     "metadata": {},
     "output_type": "execute_result"
    },
    {
     "data": {
      "image/png": "[encoded data removed]",
      "text/plain": [
       "<Figure size 432x288 with 1 Axes>"
      ]
     },
     "metadata": {
      "needs_background": "light"
     },
     "output_type": "display_data"
    }
   ],
   "source": [
    "# Load and plot the data set\n",
    "df=pd.read_csv(\"ex2data1.txt\",header=None)\n",
    "X=df.iloc[:,:-1].values\n",
    "y=df.iloc[:,-1].values   \n",
    "y=2*y-1 # the original y-values are 0,1 this makes them be -1 or 1. \n",
    "\n",
    "pos , neg = (y==1).reshape(100,1) , (y==-1).reshape(100,1)\n",
    "plt.scatter(X[pos[:,0],0],X[pos[:,0],1],c=\"b\",marker=\"+\")\n",
    "plt.scatter(X[neg[:,0],0],X[neg[:,0],1],c=\"r\", marker=\"o\", s =10)\n",
    "plt.xlabel(\"Exam 1 score\")\n",
    "plt.ylabel(\"Exam 2 score\")\n",
    "plt.legend([\"Pass\",\"Fail\"],loc=0)"
   ]
  },
  {
   "cell_type": "markdown",
   "id": "63f7b400",
   "metadata": {},
   "source": [
    " \n",
    "Introduce the loss functionals\n",
    "\\begin{equation}\\label{1}\\tag{1}\n",
    "J_1(\\overline{W})=\\sum_{i=1}^m (1-y_i \\overline{W}\\cdot\\overline{X}_i^T)^2 \\hspace{0.2in}\n",
    "\\big( \\text{linear regression}\\big)\n",
    "\\end{equation}\n",
    "\\begin{equation}\\label{2}\\tag{2}\n",
    "J_2(\\overline{W})=\\sum_{i=1}^m \\log(1+ e^{-y_i \\overline{W}\\cdot\\overline{X}_i^T}) \\hspace{0.2in}\\big( \\text{logistic regression}\\big)\n",
    "\\end{equation}\n",
    "\n",
    "\\begin{equation}\\label{3}\\tag{3}\n",
    "J_3(\\overline{W})=\\sum_{i=1}^m \\log(1+ e^{-y_i \\overline{W}\\cdot\\overline{X}_i^T}) +\\frac{\\lambda}{2}\\|\\overline{W}\\|_2^2 \\hspace{0.2in}\\big( \\text{regularized logistic regression}\\big)\n",
    "\\end{equation}"
   ]
  },
  {
   "cell_type": "markdown",
   "id": "b8c12a41",
   "metadata": {},
   "source": [
    "## 1.  (40 pts)\n",
    "\n",
    "Calculate the gradients and the Hessians of $J_1, J_2$ and $J_3$, and represent/program each of these as a Python function. Note your function should take as argument variables $\\overline{W}$, input data points $\\overline{X}_i$, and corresponding $y_i$ values. You can put all the $\\overline{X}_i$ into a single $X$ (the $i$th row of $X$ is  $\\overline{X}_i$) and all $y_i$ into a vector $y$, whose $i$th element is $y_i$. A possible function prototype outline is "
   ]
  },
  {
   "cell_type": "code",
   "execution_count": 17,
   "id": "33915e97",
   "metadata": {},
   "outputs": [],
   "source": [
    "# Note students have to append the 1 to X\n",
    "\n",
    "m , d = X.shape[0], X.shape[1]\n",
    "X= np.append(np.ones((m,1)),X,axis=1)\n",
    "y=y.reshape(m,1)"
   ]
  },
  {
   "cell_type": "code",
   "execution_count": 107,
   "id": "4198a8e3",
   "metadata": {},
   "outputs": [],
   "source": [
    "def CostLinReg(W, X, y): # 10 pts TOTAL correct CostLinReg\n",
    "    \"\"\"\n",
    "    Takes in numpy array W, X and y and returns the corresponding cost function, gradient \n",
    "    and hessian  \n",
    "    \"\"\"\n",
    "    \n",
    "    # The W parameter is our initial Guess. X is the data matrix D in [Aggarwal] notation\n",
    "    \n",
    "    m=len(y)\n",
    "    difference=X@W-y\n",
    "    cost = 0.5*difference.T@difference # 2 pts\n",
    "    grad = X.T@X@W-X.T@y # 4\n",
    "    hess =X.T@X # 4pts\n",
    "    \n",
    "    return cost , grad, hess"
   ]
  },
  {
   "cell_type": "code",
   "execution_count": 108,
   "id": "3ab72d93",
   "metadata": {},
   "outputs": [],
   "source": [
    " def sigmoid(z):\n",
    "    return 1/ (1 + np.exp(-z))\n",
    "    \n",
    "def CostLogReg(W, X, y):  # 20 PTS TOTAL\n",
    "    \"\"\"\n",
    "    Takes in numpy array W, X and y and returns the corresponding cost function, gradient \n",
    "    and hessian  \n",
    "    \"\"\"\n",
    "    \n",
    "    # The W parameter is our initial Guess. X is the data matrix D in [Aggarwal] notation\n",
    "  \n",
    "    # note below I use np.multiply(col,col)=col vector consisting of elementwise multiplication of arrays\n",
    "    predictions = sigmoid(np.multiply(-y,np.dot(X,W))) #<---the matrix P in my Latex notes NOTE: np.multiply is elementwise!\n",
    "    error =  -np.log(sigmoid(np.multiply(y,np.dot(X,W)))) #note it is -log(sigmoid), not log(sigmoid)! \n",
    "    P=np.diagflat(predictions)\n",
    "    cost = sum(error)\n",
    "\n",
    "    grad =  -X.T@P@y #10 pts gradient \n",
    "    hess = np.dot(X.T, predictions*(1-predictions)*X) #<---this was causing the probblem! #10 pts Hessian\n",
    " \n",
    "\n",
    "    \n",
    "    return cost, grad, hess"
   ]
  },
  {
   "cell_type": "code",
   "execution_count": 109,
   "id": "4cf5b614",
   "metadata": {},
   "outputs": [],
   "source": [
    "def CostLogR2Reg(W, lambd, X, y): #10 pts TOTAL\n",
    "    \"\"\"\n",
    "    Takes in numpy array W, X and y and returns the corresponding cost function, gradient \n",
    "    and hessian  \n",
    "    \"\"\"\n",
    "    d=W.shape[0]\n",
    "    I=np.eye(d)\n",
    "    # The W parameter is our initial Guess. X is the data matrix D in [Aggarwal] notation\n",
    "    cost, grad, hess=CostLogReg(W,X,y)\n",
    "    cost+=(lambd*W.T@W)[0]\n",
    "    grad+=2*lambd*W\n",
    "    hess+=2*lambd*I\n",
    " \n",
    "\n",
    "    \n",
    "    return cost, grad, hess"
   ]
  },
  {
   "cell_type": "markdown",
   "id": "39928c24",
   "metadata": {},
   "source": [
    "## 2. (10 pts)\n",
    "\n",
    "Are these functionals convex? Explain."
   ]
  },
  {
   "cell_type": "markdown",
   "id": "9edb907e",
   "metadata": {},
   "source": [
    "## 3. (30 pts) \n",
    "\n",
    "Using the functions you wrote in part 1., implement Newton's method to find the approximate solutions to \n",
    "\n",
    "\\begin{equation}\n",
    "\\nabla J_i(\\overline{W})=0 \\hspace{0.2in} \\text{(the respective minima)}\n",
    "\\end{equation}\n",
    "\n",
    "For a stopping criterion, use \n",
    "\n",
    "\\begin{equation}\n",
    "\\frac{|J_i(\\overline{W}_{k+1})-J_i(\\overline{W}_{k})|}{J_i(\\overline{W}_{k+1})} \\leq 10^{-7}\n",
    "\\end{equation}\n",
    "\n",
    "You may want to try different initial guesses $\\overline{W}_0$, and you may want to try different (relatively small) values for $\\lambda$ (the regularization parameter)."
   ]
  },
  {
   "cell_type": "code",
   "execution_count": 75,
   "id": "c16d7b99",
   "metadata": {},
   "outputs": [],
   "source": [
    " # Your code here \n",
    "def newton_method(costFunction, X, y, W, tol=1e-8, max_it=100):\n",
    "    num_it = 0\n",
    "    cost_prev = 0\n",
    "    rel_error=1\n",
    "    cost, grad, hess = costFunction(W,X,y)\n",
    "    while rel_error>=tol and num_it<max_it: # <---10 pts for putting correct tolerance in a WHILE loop\n",
    "        # J(x) * delta = fun(x)  <==> delta = J^{-1}fun(x)\n",
    "        cost_prev = cost\n",
    "        print(\"cost is now: \", cost)\n",
    "        delta = np.linalg.solve(hess, grad) # <---10pts correct delta to add to W_{k} to get W_{k+1} \n",
    "        W -= delta\n",
    "        cost, grad, hess = costFunction(W,X,y) #<---reevaluate with new W 5 pts \n",
    "        rel_error = np.abs(cost-cost_prev)/cost #<---10 pts correct relative error with correct prev value\n",
    "        num_it+=1\n",
    "        print(\"Finished step \", num_it)\n",
    "    if rel_error<tol:\n",
    "            print('Newton method converges in %d iteration.' %num_it) #<\n",
    "    else:\n",
    "            print('Newton method does not converge in %d iteration.' %max_it)\n",
    "            \n",
    "    return W    "
   ]
  },
  {
   "cell_type": "code",
   "execution_count": 110,
   "id": "83f46ab2",
   "metadata": {},
   "outputs": [
    {
     "name": "stdout",
     "output_type": "stream",
     "text": [
      "Cost of initial theta is [[913035.91676252]]\n",
      "cost is now:  [[534.38553252]]\n",
      "Finished step  1\n",
      "cost is now:  [[18.89878625]]\n",
      "Finished step  2\n",
      "Newton method converges in 2 iteration.\n",
      "lin regression W is  [[-3.59499387]\n",
      " [ 0.02968175]\n",
      " [ 0.02788434]]\n"
     ]
    },
    {
     "data": {
      "text/plain": [
       "<matplotlib.legend.Legend at 0x7f00b5e4c7f0>"
      ]
     },
     "execution_count": 110,
     "metadata": {},
     "output_type": "execute_result"
    },
    {
     "data": {
      "image/png": "[encoded data removed]",
      "text/plain": [
       "<Figure size 432x288 with 1 Axes>"
      ]
     },
     "metadata": {
      "needs_background": "light"
     },
     "output_type": "display_data"
    }
   ],
   "source": [
    "initial_W = np.ones((d+1,1))\n",
    "cost, grad, hess= CostLinReg(initial_W,X,y)\n",
    "print(\"Cost of initial theta is\",cost)\n",
    "\n",
    "W0 = newton_method(CostLinReg,X, y, initial_theta)\n",
    "print('lin regression W is ', W0)\n",
    "\n",
    "# plot decision boundary with parameters theta in part c)\n",
    " \n",
    "plt.scatter(X[pos[:,0],1],X[pos[:,0],2],c=\"b\",marker=\"+\")\n",
    "plt.scatter(X[neg[:,0],1],X[neg[:,0],2],c=\"r\", marker=\"o\", s =10)\n",
    "x_value= np.array([np.min(X[:,1]),np.max(X[:,1])])\n",
    "y_value_lin_reg=-(W0[0] +W0[1]*x_value)/W0[2]\n",
    "plt.plot(x_value,y_value_lin_reg, \"g\")\n",
    "plt.xlabel(\"Exam 1 score\")\n",
    "plt.ylabel(\"Exam 2 score\")\n",
    "plt.legend([\"linear reg separator\",\"Pass\",\"Fail\"],loc=0)\n"
   ]
  },
  {
   "cell_type": "code",
   "execution_count": 111,
   "id": "27900943",
   "metadata": {},
   "outputs": [
    {
     "name": "stdout",
     "output_type": "stream",
     "text": [
      "Cost of initial theta is [71.32616875]\n",
      "cost is now:  [71.32616875]\n",
      "Finished step  1\n",
      "cost is now:  [29.86287778]\n",
      "Finished step  2\n",
      "cost is now:  [23.38033978]\n",
      "Finished step  3\n",
      "cost is now:  [20.92125495]\n",
      "Finished step  4\n",
      "cost is now:  [20.3837612]\n",
      "Finished step  5\n",
      "cost is now:  [20.3499451]\n",
      "Finished step  6\n",
      "cost is now:  [20.34977016]\n",
      "Finished step  7\n",
      "Newton method converges in 7 iteration.\n",
      "\n",
      "******************************************** \n",
      "After Newton method: \n",
      "******************************************** \n",
      "Cost is [20.34977016]\n",
      "W for logistic= [[-25.16133355]\n",
      " [  0.20623171]\n",
      " [  0.2014716 ]]\n"
     ]
    },
    {
     "data": {
      "text/plain": [
       "<matplotlib.legend.Legend at 0x7f00b5d5a850>"
      ]
     },
     "execution_count": 111,
     "metadata": {},
     "output_type": "execute_result"
    },
    {
     "data": {
      "image/png": "[encoded data removed]",
      "text/plain": [
       "<Figure size 432x288 with 1 Axes>"
      ]
     },
     "metadata": {
      "needs_background": "light"
     },
     "output_type": "display_data"
    }
   ],
   "source": [
    "\n",
    "# Logistic regression cost function\n",
    "initial_W = np.zeros((d+1,1))\n",
    "initial_W[0]=1\n",
    "initial_W[1]=0\n",
    "initial_W[2]=0 \n",
    "cost, grad, hess= CostLogReg(initial_W,X,y)\n",
    "print(\"Cost of initial theta is\",cost)\n",
    " \n",
    "\n",
    "W_logistic = newton_method(CostLogReg,X, y, initial_W)\n",
    "\n",
    "\n",
    "print(\"\\n******************************************** \")\n",
    "print(\"After Newton method: \")\n",
    "print(\"******************************************** \")\n",
    "\n",
    "new_cost, new_grad, new_hess= CostLogReg(W_logistic,X,y)\n",
    "print(\"Cost is\", new_cost)\n",
    "\n",
    "print('W for logistic=', W_logistic)\n",
    "\n",
    "# plot decision boundary for logistic AND LINEAR REG boundary to compare\n",
    " \n",
    "plt.scatter(X[pos[:,0],1],X[pos[:,0],2],c=\"b\",marker=\"+\")\n",
    "plt.scatter(X[neg[:,0],1],X[neg[:,0],2],c=\"r\", marker=\"o\", s =10)\n",
    "x_value= np.array([np.min(X[:,1]),np.max(X[:,1])])\n",
    "y_value_log=-(W_logistic[0] +W_logistic[1]*x_value)/W_logistic[2]\n",
    "\n",
    "plt.plot(x_value,y_value_log, \"g\")\n",
    "plt.plot(x_value,y_value_lin_reg, \"m\")  #<---note I plot linear regression's separating line to compare\n",
    "plt.xlabel(\"Exam 1 score\")\n",
    "plt.ylabel(\"Exam 2 score\")\n",
    "plt.legend([\"lin reg\", \"log reg\",\"Pass\",\"Fail\"],loc=0)\n"
   ]
  },
  {
   "cell_type": "code",
   "execution_count": 112,
   "id": "1c129dbc",
   "metadata": {},
   "outputs": [
    {
     "name": "stdout",
     "output_type": "stream",
     "text": [
      "Cost of initial theta is [69.31471806]\n",
      "cost is now:  [69.31471806]\n",
      "Finished step  1\n",
      "cost is now:  [33.92631157]\n",
      "Finished step  2\n",
      "cost is now:  [26.77844604]\n",
      "Finished step  3\n",
      "cost is now:  [24.80156875]\n",
      "Finished step  4\n",
      "cost is now:  [24.5929192]\n",
      "Finished step  5\n",
      "cost is now:  [24.59031405]\n",
      "Finished step  6\n",
      "cost is now:  [24.59031362]\n",
      "Finished step  7\n",
      "Newton method converges in 7 iteration.\n",
      "\n",
      "******************************************** \n",
      "After Newton method: \n",
      "******************************************** \n",
      "W for Tikhonov logistic= [[-17.61811209]\n",
      " [  0.14597798]\n",
      " [  0.14042727]]\n"
     ]
    },
    {
     "data": {
      "text/plain": [
       "(array([24.59031362]),\n",
       " array([[-5.38458167e-15],\n",
       "        [-3.51229896e-13],\n",
       "        [-3.70549078e-13]]),\n",
       " array([[8.65611758e+00, 5.37018734e+02, 5.29685065e+02],\n",
       "        [5.37018734e+02, 3.59635727e+04, 3.09516772e+04],\n",
       "        [5.29685065e+02, 3.09516772e+04, 3.49898883e+04]]))"
      ]
     },
     "execution_count": 112,
     "metadata": {},
     "output_type": "execute_result"
    }
   ],
   "source": [
    "# Just for ease, since above functions don't require a lambda parameter and this regularized Tikhonov does.\n",
    "# we modify its corresponding Newton method. Other options would have been something like if lambda=0 or\n",
    "# if lambda=FALSE, call Newton in a certain manner and otherwise \n",
    "\n",
    "def newton_method2(costFunction, X, y, W, lambd, tol=1e-8, max_it=100):\n",
    "    num_it = 0\n",
    "    cost_prev = 0\n",
    "    rel_error=1\n",
    "    cost, grad, hess = costFunction(W, lambd, X,y)\n",
    "    while rel_error>=tol and num_it<max_it:\n",
    "        # J(x) * delta = fun(x)  <==> delta = J^{-1}fun(x)\n",
    "        cost_prev = cost\n",
    "        print(\"cost is now: \", cost)\n",
    "        delta = np.linalg.solve(hess, grad)\n",
    "        W -= delta\n",
    "        cost, grad, hess = costFunction(W,lambd, X,y)\n",
    "        rel_error = np.abs(cost-cost_prev)/cost\n",
    "        num_it+=1\n",
    "        print(\"Finished step \", num_it)\n",
    "    if rel_error<tol:\n",
    "            print('Newton method converges in %d iteration.' %num_it) #<\n",
    "    else:\n",
    "            print('Newton method does not converge in %d iteration.' %max_it)\n",
    "            \n",
    "    return W  \n",
    "\n",
    " \n",
    "\n",
    "lambd=0.01\n",
    "\n",
    "initial_theta = np.zeros((d+1,1))\n",
    "cost, grad, hess= CostLogR2Reg(initial_theta, lambd,X,y)\n",
    "print(\"Cost of initial theta is\",cost)\n",
    "\n",
    "\n",
    "W_r2 = newton_method2(CostLogR2Reg,X, y, initial_theta, lambd)\n",
    "\n",
    "\n",
    "print(\"\\n******************************************** \")\n",
    "print(\"After Newton method: \")\n",
    "print(\"******************************************** \")\n",
    " \n",
    "\n",
    "\n",
    "print('W for Tikhonov logistic=', W_r2)\n",
    "CostLogR2Reg(W_r2, lambd, X, y)\n"
   ]
  },
  {
   "cell_type": "code",
   "execution_count": 105,
   "id": "3aba3843",
   "metadata": {},
   "outputs": [
    {
     "data": {
      "text/plain": [
       "<matplotlib.legend.Legend at 0x7f00b5f4e430>"
      ]
     },
     "execution_count": 105,
     "metadata": {},
     "output_type": "execute_result"
    },
    {
     "data": {
      "image/png": "[encoded data removed]",
      "text/plain": [
       "<Figure size 432x288 with 1 Axes>"
      ]
     },
     "metadata": {
      "needs_background": "light"
     },
     "output_type": "display_data"
    }
   ],
   "source": [
    "# plot decision boundary with parameters theta in part c)\n",
    " \n",
    "plt.scatter(X[pos[:,0],1],X[pos[:,0],2],c=\"b\",marker=\"+\")\n",
    "plt.scatter(X[neg[:,0],1],X[neg[:,0],2],c=\"r\", marker=\"o\", s =10)\n",
    "x_value= np.array([np.min(X[:,1]),np.max(X[:,1])])\n",
    "y_value_r2=-(W_r2[0] +W_r2[1]*x_value)/W_r2[2]\n",
    "\n",
    "plt.plot(x_value,y_value_r2, \"g\")\n",
    " \n",
    "plt.xlabel(\"Exam 1 score\")\n",
    "plt.ylabel(\"Exam 2 score\")\n",
    "plt.legend([\"r2\",\"Pass\",\"Fail\"],loc=0)"
   ]
  },
  {
   "cell_type": "markdown",
   "id": "e4a3e39b",
   "metadata": {},
   "source": [
    "## 4. (10 pts)\n",
    "\n",
    "How many iterations were required for $J_1, J_2$ and $J_3$? Can you explain the count obtained for $J_1$?"
   ]
  },
  {
   "cell_type": "markdown",
   "id": "d56f1f4a",
   "metadata": {},
   "source": [
    "ANSWER Q4: To get full marks, you must explain (3pts) 1 iteration (I give 2 pts for 2 iterations), and for the rest of points you must show you relate the gradient of $J_1$, $\\nabla J_1(w)=X^T X w-X^T y$ and the Hessian $\\text{Hess}(J_1)(w)= X^T X$ and plug it into the Newton iteration step $w_{k+1}=w_k-(\\text{Hess}(J_1))^{-1}\\nabla J_1(w_k)$"
   ]
  },
  {
   "cell_type": "markdown",
   "id": "c16995eb",
   "metadata": {},
   "source": [
    "## 5. (10 pts)\n",
    "\n",
    "Display the data with the \"decision boundaries\" obtained from the minimization of $J_1, J_2$ and $J_3$. "
   ]
  },
  {
   "cell_type": "code",
   "execution_count": 113,
   "id": "11d668fd",
   "metadata": {},
   "outputs": [
    {
     "data": {
      "text/plain": [
       "<matplotlib.legend.Legend at 0x7f00b5cdbd30>"
      ]
     },
     "execution_count": 113,
     "metadata": {},
     "output_type": "execute_result"
    },
    {
     "data": {
      "image/png": "[encoded data removed]",
      "text/plain": [
       "<Figure size 432x288 with 1 Axes>"
      ]
     },
     "metadata": {
      "needs_background": "light"
     },
     "output_type": "display_data"
    }
   ],
   "source": [
    "# Plot here\n",
    "\n",
    "# plot decision boundary fo rALL to compare\n",
    " \n",
    "plt.scatter(X[pos[:,0],1],X[pos[:,0],2],c=\"b\",marker=\"+\")\n",
    "plt.scatter(X[neg[:,0],1],X[neg[:,0],2],c=\"r\", marker=\"o\", s =10)\n",
    " \n",
    "plt.plot(x_value,y_value_r2, \"k\")\n",
    "plt.plot(x_value,y_value_log, \"g\")\n",
    "plt.plot(x_value,y_value_lin_reg, \"m\")  #<---note I plot linear regression's separating line to compare\n",
    "plt.xlabel(\"Exam 1 score\")\n",
    "plt.ylabel(\"Exam 2 score\")\n",
    "plt.legend([\"Tikhonov reg\", \"log reg\", \"lin reg\" , \"Pass\",\"Fail\"],loc=0)\n",
    "\n",
    "\n"
   ]
  },
  {
   "cell_type": "code",
   "execution_count": null,
   "id": "fc2fe1b8",
   "metadata": {},
   "outputs": [],
   "source": []
  }
 ],
 "metadata": {
  "kernelspec": {
   "display_name": "Python 3",
   "language": "python",
   "name": "python3"
  },
  "language_info": {
   "codemirror_mode": {
    "name": "ipython",
    "version": 3
   },
   "file_extension": ".py",
   "mimetype": "text/x-python",
   "name": "python",
   "nbconvert_exporter": "python",
   "pygments_lexer": "ipython3",
   "version": "3.8.8"
  }
 },
 "nbformat": 4,
 "nbformat_minor": 5
}
