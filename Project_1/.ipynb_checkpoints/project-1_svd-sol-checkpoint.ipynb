{
 "cells": [
  {
   "cell_type": "code",
   "execution_count": 6,
   "id": "7165e8b1",
   "metadata": {},
   "outputs": [],
   "source": [
    "import numpy as np\n",
    "import numpy.linalg as LA\n",
    "import scipy.linalg as la\n",
    "import matplotlib.pyplot as plt"
   ]
  },
  {
   "cell_type": "markdown",
   "id": "741a38cd",
   "metadata": {},
   "source": [
    "# Project 1 SVD\n",
    "\n",
    "The singular value decomposition (SVD) of an $m\\times d$ matrix $A$ is a factorization of the form\n",
    "\n",
    "\\begin{equation}\\label{eq1}\\tag{1}\n",
    "A=V\\Sigma U^T\n",
    "\\end{equation}\n",
    "\n",
    "where $V$ is an $m\\times m$ orthogonal matrix and $U$ is a $d\\times d$ orthogonal matrix. $\\Sigma$ is an $m\\times d$ diagonal matrix with nonnegative real numbers $\\sigma_i$ on the diagonal.\n",
    "\n",
    "Alternatively this expresses $A$ as a sum of rank 1 matrices\n",
    "\n",
    "\\begin{equation}\\label{eq2}\\tag{2}\n",
    "A=\\sum_{i=1}^r \\sigma_i \\mathbf{v}_i\\mathbf{u}_i^T\n",
    "\\end{equation}\n",
    "\n",
    "where $\\sigma_i$ $i=1,...,r$ are the positive diagonal entries of $\\Sigma$ and $\\mathbf{v}_i, \\mathbf{u}_i$ are the $i$th column vectors of $V$ and $U$, respectively."
   ]
  },
  {
   "cell_type": "markdown",
   "id": "b4d1942b",
   "metadata": {},
   "source": [
    "# Problems\n",
    "\n",
    "**Parts (a)-(c) can be handwritten somewhere else and attached as a separate file (or typed in Latex). If you know how to type Latex within a Jupyter notebook, you are welcome to type it here as long as its done in Latex notation.**\n",
    "\n",
    "\n",
    "#### a) [5pt] \n",
    "\n",
    "\n",
    "Show that the columns of $U$ form an orthonormal basis in $\\mathbb{R}^d$ of eigenvectors of $A^TA$. Show that the columns of $V$ form an orthonormal basis in $\\mathbb{R}^m$ of eigenvectors of $AA^T$.\n",
    "\n"
   ]
  },
  {
   "cell_type": "markdown",
   "id": "628ead4d",
   "metadata": {},
   "source": [
    "\n",
    "#### b) [5pt]\n",
    "\n",
    "Use the fact that $U^T A^T AU=\\Sigma^T \\Sigma$ to show that \n",
    "\n",
    "\\begin{equation}\\label{eq3}\\tag{3}\n",
    "U_1^T A^T AU_1=\\Sigma_1^2\n",
    "\\end{equation}\n",
    "\n",
    "where $U_1=[\\mathbf{u}_1\\;\\, \\mathbf{u}_2 \\cdots \\mathbf{u}_r]$ and $\\Sigma_1$ is the $r\\times r$ diagonal matrix with all positive $\\sigma_i$ on the diagonal. \n",
    "How does one find the $m\\times r$ matrix \n",
    "\n",
    "$$V_1=[\\mathbf{v}_1\\;\\, \\mathbf{v}_2 \\cdots \\mathbf{v}_r]$$ \n",
    "\n",
    "based on $A$, $U_1$ and $\\Sigma_1$?\n",
    "\n"
   ]
  },
  {
   "cell_type": "markdown",
   "id": "b1fb6251",
   "metadata": {},
   "source": [
    "#### c) [20pt] \n",
    "\n",
    "(Two simple examples) With \n",
    "\n",
    "$$ A_1=\n",
    "\\begin{bmatrix}\n",
    "   2 & 1\\\\\n",
    "   1 & 2\n",
    "   \\end{bmatrix}\n",
    "   $$\n",
    "and \n",
    "$$ A_2=\n",
    "\\begin{bmatrix}\n",
    "   2 & 1/2\\\\\n",
    "   2 & 2\n",
    "   \\end{bmatrix}\n",
    "   $$\n",
    "   \n",
    "find the eigenvectors and eigenvalues of $A_1$ and $A_2$. Find matrices $C_1$ and $C_2$ such that\n",
    "\n",
    "\\begin{equation}\n",
    "A_i=C_i \\Sigma_i C_i^{-1}\\;\\;\\; i=1,2.\n",
    "\\end{equation}\n",
    "\n",
    "Use this decomposition to write $A_1$ and $A_2$ as a sum of rank 1 matrices. Find the SVD of $A_1$ and $A_2$. Can you explain the differences (and similarities) in what you found above?\n"
   ]
  },
  {
   "cell_type": "code",
   "execution_count": null,
   "id": "7f80ee52",
   "metadata": {},
   "outputs": [],
   "source": []
  },
  {
   "cell_type": "markdown",
   "id": "620344e0",
   "metadata": {},
   "source": [
    "\n",
    "#### d) [30 pts]\n",
    "Write a python function that, given a matrix $A$, performs the QR algorithm applied to $A^T A$ and returns $U$ and $\\Sigma^T \\Sigma$. You may use Hessenberg form in Python (la.hessenberg) and QR decomposition (la.qr) in the scipy.linalg module. Type help(la.hessenberg) and help(la.qr) for more details. Note by itself, this is not the SVD decomposition yet, but is an important step in it. **No credit if you use the la.svd directly**!  \n",
    "  "
   ]
  },
  {
   "cell_type": "code",
   "execution_count": 7,
   "id": "723f6758",
   "metadata": {},
   "outputs": [],
   "source": [
    "def SVD(A, tol=1e-4, max_it=1000):\n",
    "    # write your code here\n",
    "    \n",
    "    M = np.dot(A.T, A)\n",
    "    H, Q = la.hessenberg(M,calc_q=True) #<--[5 PTS] for hessenberg first \n",
    "    U = Q #<--keep track of U change of basis matrix, they should update below\n",
    "    B = H #<---B is an intermediate placeholder for H_{k} so when we update H=H_{k+1}\n",
    "          #     in the next step, we compare |H_{k+1}-H_k|\n",
    "    \n",
    "    num_it = 0 # count the number of iterations of QR algorithm\n",
    "    err = 1\n",
    "    \n",
    "    while err>tol: #<--[+5 PTS] some correct tol criteria, NOTE NEED max iterations anyway\n",
    "        num_it +=1\n",
    "        Q,R = la.qr(H) #<--- [5PTS] qet a new Q to add to recursive product \n",
    "        U = np.dot(U, Q) # update U by U=(Q_1*Q_2...*Q_k)*Q_{k+1} #<--- [5PTS ] \n",
    "        H = np.dot(R,Q) #<--- [5PTS] correct flip/swap product\n",
    "        err = LA.norm(H - B, np.inf) #<--[5 PTS] some error computed\n",
    "        B = H  \n",
    "      \n",
    "        if num_it>max_it:  \n",
    "            print('The QR decomposition does not converge in %d iterations!' % max_it)\n",
    "            break\n",
    " \n",
    "    return U, H"
   ]
  },
  {
   "cell_type": "markdown",
   "id": "b2e1d0e3",
   "metadata": {},
   "source": [
    "#### e) [10 pts]\n",
    "\n",
    "As a modification, try to shift the QR algorithm. That is, instead of \n",
    "\n",
    "\\begin{equation}\n",
    "H^{(0)}=Q_0 R_0 \\rightarrow H^{(1)}=R_0 Q_0,\n",
    "\\end{equation}\n",
    "\n",
    "iterate this time on $H^{(0)}-\\tau I$:\n",
    "\n",
    "\\begin{equation}\n",
    "H^{(0)}-\\tau I=Q_0 R_0 \\rightarrow H^{(1)}=R_0 Q_0+\\tau I.\n",
    "\\end{equation}\n",
    "\n",
    "You may, for instance start with\n",
    "\n",
    "\\begin{equation}\n",
    "\\tau= H_{dd}^{(0)}\n",
    "\\end{equation}\n",
    "\n",
    "and change to $H_{d-1 d-1}^{(k)}$ when the off diagonal elements of the $d$th row of $H^{(k)}$ ($H_{d d-1}^{(k)}$) are sufficiently small, and so on...\n",
    "\n"
   ]
  },
  {
   "cell_type": "code",
   "execution_count": 11,
   "id": "524b22da",
   "metadata": {},
   "outputs": [],
   "source": [
    "#This version cannot be correct, the one in the next cel is correct...\n",
    "def SVD_shift(A, tol=1e-4, max_it=1000):\n",
    "    # write your code here\n",
    "    \n",
    "    M = np.dot(A.T, A)\n",
    "    H, Q = la.hessenberg(M,calc_q=True) #<--5 PTS for hessenberg first \n",
    "    U = Q #<--keep track of U change of basis matrix\n",
    "    n=H.shape[0]\n",
    "    I=np.eye(n)\n",
    "    for i in range(n):\n",
    "        #shift=H[n-i-1,n-i-1]\n",
    "        num_it = 0 # count the number of iterations of QR algorithm\n",
    " \n",
    "        while np.abs(H[n-i-1,n-i-2])>tol*(np.abs(H[n-i-1,n-i-1])+ np.abs(H[n-i-2,n-i-2])):\n",
    "            num_it +=1\n",
    "            shift=H[n-i-1,n-i-1]\n",
    "            Q,R  = la.qr(H-shift*I) #<--- 5PTS qet a new Q to add to recursive product \n",
    "            H = np.dot(R,Q)+shift*I #<--- 5PTS\n",
    "            U  = np.dot(U, Q) # update U by U=(Q_1*Q_2...*Q_k)*Q_{k+1} #<--- 5PTS  \n",
    "            if num_it>max_it: #<--+5 PTS some correct tol criteria\n",
    "                print('The QR decomposition on this shift does not converge in %d iterations!' % max_it)\n",
    "                break\n",
    "\n",
    "    return U, H"
   ]
  },
  {
   "cell_type": "code",
   "execution_count": 19,
   "id": "4b8f3b96",
   "metadata": {},
   "outputs": [],
   "source": [
    "#Could not get Quateroni version of shift to work\n",
    "\n",
    "def SVD_shift2(A, tol=1e-4, max_it=1000):\n",
    "    # write your code here\n",
    "    \n",
    "    M = np.dot(A.T, A)\n",
    "    H, Q = la.hessenberg(M,calc_q=True) #<--5 PTS for hessenberg first \n",
    "    U = Q #<--keep track of U change of basis matrix\n",
    "    \n",
    "    num_it = 0 # count the number of iterations of QR algorithm\n",
    "    err = 1\n",
    "    n=H.shape[0]\n",
    "    R=np.eye(n) #<--this time initialize R and we redefine its submatrices\n",
    "    for i in range(n):\n",
    "        I=np.eye(n-i)\n",
    "        shift=H[n-i-1,n-i-1]\n",
    "        num_it = 0 # count the number of iterations of QR algorithm\n",
    "        while np.abs(H[n-i-1,n-i-2])>tol*(np.abs(H[n-i-1,n-i-1])+ np.abs(H[n-i-2,n-i-2])):\n",
    "            num_it +=1\n",
    "            shift=H[n-i-1,n-i-1]\n",
    "            Q[0:n-i,0:n-i],R[0:n-i,0:n-i] = la.qr(H[0:n-i,0:n-i]-shift*I) #<--- 5PTS qet a new Q to add to recursive product \n",
    "            H[0:n-i,0:n-i] = np.dot(R[0:n-i,0:n-i],Q[0:n-i,0:n-i])+shift*I #<--- 5PTS\n",
    "            U[0:n-i,0:n-i] = np.dot(U[0:n-i,0:n-i], Q[0:n-i,0:n-i]) # update U by U=(Q_1*Q_2...*Q_k)*Q_{k+1} #<--- 5PTS  \n",
    "            if num_it>max_it: #<--+5 PTS some correct tol criteria\n",
    "                print('The QR decomposition on this shift does not converge in %d iterations!' % max_it)\n",
    "                break\n",
    "\n",
    "    return U, H"
   ]
  },
  {
   "cell_type": "markdown",
   "id": "d986ae23",
   "metadata": {},
   "source": [
    "# Image compression step\n",
    "\n",
    "The following code snippet (in the cell below this one) loads the file image.npy as the matrix $A$ (this is a pixel image of the digit 3)."
   ]
  },
  {
   "cell_type": "code",
   "execution_count": 14,
   "id": "e3286888",
   "metadata": {},
   "outputs": [
    {
     "name": "stdout",
     "output_type": "stream",
     "text": [
      "[[1. 0. 0.]\n",
      " [0. 1. 0.]\n",
      " [0. 0. 1.]]\n"
     ]
    }
   ],
   "source": [
    "i=np.eye(3)\n",
    "print(i)"
   ]
  },
  {
   "cell_type": "code",
   "execution_count": 12,
   "id": "035d0728",
   "metadata": {},
   "outputs": [
    {
     "data": {
      "image/png": "[encoded data removed]",
      "text/plain": [
       "<Figure size 432x288 with 1 Axes>"
      ]
     },
     "metadata": {
      "needs_background": "light"
     },
     "output_type": "display_data"
    }
   ],
   "source": [
    "# Code here imports the image and plots the original. Note it is \n",
    "# a 28x28 numpy array\n",
    "\n",
    "A = np.load('image.npy')\n",
    "plt.imshow(A, cmap=\"binary\")\n",
    "plt.axis(\"off\")\n",
    "plt.show()"
   ]
  },
  {
   "cell_type": "code",
   "execution_count": 20,
   "id": "7062cc0e",
   "metadata": {},
   "outputs": [
    {
     "name": "stdout",
     "output_type": "stream",
     "text": [
      "[3, 2167.8393412553432]\n",
      "[4, 1268.190632431491]\n",
      "[5, 819.2278199106125]\n",
      "[6, 640.7615915727948]\n",
      "[7, 494.5186867842619]\n",
      "[8, 308.27397667875374]\n",
      "[9, 215.60924674016178]\n",
      "[10, 157.88188470022416]\n",
      "[11, 137.56991407519715]\n",
      "[12, 116.50390831734116]\n",
      "[13, 109.13857170370275]\n",
      "[14, 83.0956851196862]\n",
      "[15, 88.08301501818103]\n",
      "[16, 70.54452943324695]\n",
      "[17, 44.201394462660105]\n",
      "[18, 29.666455045815866]\n",
      "[19, 20.28642694546504]\n",
      "[20, 13.553731158617172]\n",
      "[21, 1.6331208834195894]\n",
      "[22, 3.8957206477792]\n"
     ]
    }
   ],
   "source": [
    "U, SSt= SVD_shift2(A) \n",
    "for i in range(28):\n",
    "    for j in range(28):\n",
    "        if(np.abs(SSt[i,j])<10e-4):\n",
    "            SSt[i,j]=0\n",
    "positive_values=[]\n",
    "for i in range(28):\n",
    "    if(SSt[i,i]>0):\n",
    "        positive_values.append([i, np.sqrt(SSt[i,i])])\n",
    "        \n",
    "for i in range(len(positive_values)):\n",
    "    print(positive_values[i])  "
   ]
  },
  {
   "cell_type": "markdown",
   "id": "19bc1725",
   "metadata": {},
   "source": [
    "#### f) [30 pts]\n",
    "\n",
    " Use the python function from d) or e), whichever you prefer, to find\n",
    "\n",
    "\\begin{equation}\\label{eq4}\\tag{4}\n",
    "\\Sigma_1, U_1, V_1\n",
    "\\end{equation}\n",
    "\n",
    "from the matrix $A$ resulting from the file image.npy. Then for the following values of $k$, obtain the rank-$k$ approximations:\n",
    "\n",
    "\\begin{equation}\\label{eq5}\\tag{5}\n",
    "A_k=\\sum_{i=1}^k \\sigma_i \\mathbf{v}_i\\mathbf{u}_i^T,\\;\\;k=4, 10 \\text{ and } r\n",
    "\\end{equation}\n",
    "\n",
    "and plot the corresponding images for each value of $k$ used.\n",
    "\n",
    "Here $\\sigma_i$ $i=1,...,r$ are the positive singular values in decreasing order. Calculate the Frobenius norm of $A-A_k$ for $k=4, 10$ and $r$. You may use a Python built-in function to compute the Frobenius norm. The Frobenius norm of matrix $A$ is defined as\n",
    "$$\n",
    "\\| A \\|_F = \\sqrt{\\sum_{i,j=1}^{i=m,j=d} a_{ij}^2}.\n",
    "$$\n"
   ]
  },
  {
   "cell_type": "code",
   "execution_count": 5,
   "id": "0bf753b3",
   "metadata": {},
   "outputs": [
    {
     "name": "stdout",
     "output_type": "stream",
     "text": [
      "[3, 2167.8393412553414]\n",
      "[4, 1268.1906324315341]\n",
      "[5, 819.2278208057652]\n",
      "[6, 640.7615904282347]\n",
      "[7, 494.5186867842626]\n",
      "[8, 308.2739766787532]\n",
      "[9, 215.60924755774167]\n",
      "[10, 157.8818835846827]\n",
      "[11, 137.5699146308704]\n",
      "[12, 116.50390765991239]\n",
      "[13, 109.13857170769433]\n",
      "[14, 88.08301502539186]\n",
      "[15, 83.09568511057482]\n",
      "[16, 70.54452988535635]\n",
      "[17, 44.20139373389638]\n",
      "[18, 29.666455046296086]\n",
      "[19, 20.286426944763065]\n",
      "[20, 13.553731158649038]\n",
      "[21, 3.8957206477792936]\n",
      "[22, 1.633120883120655]\n"
     ]
    }
   ],
   "source": [
    "U, SSt= SVD(A) \n",
    "for i in range(28):\n",
    "    for j in range(28):\n",
    "        if(np.abs(SSt[i,j])<10e-4):\n",
    "            SSt[i,j]=0\n",
    "positive_values=[]\n",
    "for i in range(28):\n",
    "    if(SSt[i,i]>0):\n",
    "        positive_values.append([i, np.sqrt(SSt[i,i])])\n",
    "        \n",
    "for i in range(len(positive_values)):\n",
    "    print(positive_values[i])  "
   ]
  },
  {
   "cell_type": "markdown",
   "id": "50389b57",
   "metadata": {},
   "source": [
    "# Define $U_1, V_1$\n",
    "\n",
    "We get $V_1=A U_1 \\Sigma_1^{-1}$, then I compute the product $V_1 \\Sigma_1 U_1^T$, and plot it just to double check"
   ]
  },
  {
   "cell_type": "code",
   "execution_count": 114,
   "id": "b15fed9f",
   "metadata": {},
   "outputs": [
    {
     "name": "stdout",
     "output_type": "stream",
     "text": [
      "A_rank_r.shape= (28, 28)\n"
     ]
    },
    {
     "data": {
      "image/png": "[encoded data removed]",
      "text/plain": [
       "<Figure size 432x288 with 1 Axes>"
      ]
     },
     "metadata": {
      "needs_background": "light"
     },
     "output_type": "display_data"
    }
   ],
   "source": [
    "# Here everything is square so I can define\n",
    "r=len(positive_values)\n",
    "U1=np.zeros([28,r])\n",
    "sigma_1=np.zeros([r,r])\n",
    "for k in range(r):\n",
    "    i=positive_values[k][0]\n",
    "    #print('k=', k, 'i=', i)\n",
    "    U1[:,k]=U[:,i]\n",
    "    sigma_1[k,k]=positive_values[k][1]\n",
    "    \n",
    "V1=A@U1@LA.inv(sigma_1) \n",
    "\n",
    "A_rank_r=V1@sigma_1@U1.T\n",
    "print('A_rank_r.shape=', A_rank_r.shape) \n",
    "plt.imshow(A_rank_r, cmap=\"binary\")\n",
    "plt.axis(\"off\")\n",
    "plt.show()"
   ]
  },
  {
   "cell_type": "code",
   "execution_count": 108,
   "id": "e72323a7",
   "metadata": {},
   "outputs": [
    {
     "data": {
      "text/plain": [
       "<matplotlib.image.AxesImage at 0x7fcd2cd4aca0>"
      ]
     },
     "execution_count": 108,
     "metadata": {},
     "output_type": "execute_result"
    },
    {
     "data": {
      "image/png": "[encoded data removed]",
      "text/plain": [
       "<Figure size 864x504 with 3 Axes>"
      ]
     },
     "metadata": {
      "needs_background": "light"
     },
     "output_type": "display_data"
    }
   ],
   "source": [
    "#Now we compress the previous \n",
    "\n",
    "SUT=sigma_1@U1.T\n",
    "n=SUT.shape[0]\n",
    "k=4;                                                \n",
    "\n",
    "Theta = sorted([LA.norm(row) for row in SUT], reverse=True)[k-1] #<--This returns reverse-sorted list of vectors by norm\n",
    "                                                                 #  and then grabs the last one, i.e. smallest norm?  \n",
    "for i in range(n):\n",
    "    if LA.norm(SUT[i])<Theta:\n",
    "        SUT[i] = np.zeros(28) #<----Replace with zeros, the ROWS of SVT that have smaller norm \n",
    "tilde_A = np.dot(V1, SUT) #<--smaller rank than rank A\n",
    "fig, axes = plt.subplots(1, 3, figsize=(12, 7))\n",
    "ax = axes.ravel()\n",
    "ax[0].title.set_text('Original A matrix/image')\n",
    "ax[1].title.set_text('Full rank r')\n",
    "ax[2].title.set_text('Rank-k approximation')\n",
    " \n",
    "ax[0].imshow(A, cmap='binary')\n",
    "ax[1].imshow(A_rank_r, cmap='binary')\n",
    "ax[2].imshow(tilde_A, cmap='binary')\n",
    "\n",
    " "
   ]
  },
  {
   "cell_type": "code",
   "execution_count": 115,
   "id": "5d4da7a6",
   "metadata": {},
   "outputs": [
    {
     "data": {
      "text/plain": [
       "<matplotlib.image.AxesImage at 0x7fcd2ca7dee0>"
      ]
     },
     "execution_count": 115,
     "metadata": {},
     "output_type": "execute_result"
    },
    {
     "data": {
      "image/png": "[encoded data removed]",
      "text/plain": [
       "<Figure size 864x504 with 3 Axes>"
      ]
     },
     "metadata": {
      "needs_background": "light"
     },
     "output_type": "display_data"
    }
   ],
   "source": [
    "#Now we compress the previous different way\n",
    "\n",
    "SUT=sigma_1@U1.T\n",
    "n=SUT.shape[0]\n",
    "k=10;  \n",
    "\n",
    "for i in range(k, n):\n",
    "    sigma_1[i,i]=0;\n",
    "\n",
    "tilde_A = V1@ sigma_1@ U1.T #<--smaller rank than rank A\n",
    "fig, axes = plt.subplots(1, 3, figsize=(12, 7))\n",
    "ax = axes.ravel()\n",
    "ax[0].title.set_text('Original A matrix/image')\n",
    "ax[1].title.set_text('Full rank r')\n",
    "ax[2].title.set_text('Rank-k approximation')\n",
    " \n",
    "ax[0].imshow(A, cmap='binary')\n",
    "ax[1].imshow(A_rank_r, cmap='binary')\n",
    "ax[2].imshow(tilde_A, cmap='binary')\n"
   ]
  },
  {
   "cell_type": "code",
   "execution_count": null,
   "id": "3e961956",
   "metadata": {},
   "outputs": [],
   "source": [
    "# With function (f):\n",
    "\n",
    "U, SSt= SVD_shift(A) \n",
    "for i in range(28):\n",
    "    for j in range(28):\n",
    "        if(np.abs(SSt[i,j])<10e-6):\n",
    "            SSt[i,j]=0\n",
    "positive_values=[]\n",
    "for i in range(28):\n",
    "    if(SSt[i,i]>0):\n",
    "        positive_values.append([i, np.sqrt(SSt[i,i])])\n",
    "        \n",
    "for i in range(len(positive_values)):\n",
    "    print(positive_values[i])  "
   ]
  }
 ],
 "metadata": {
  "kernelspec": {
   "display_name": "Python 3",
   "language": "python",
   "name": "python3"
  },
  "language_info": {
   "codemirror_mode": {
    "name": "ipython",
    "version": 3
   },
   "file_extension": ".py",
   "mimetype": "text/x-python",
   "name": "python",
   "nbconvert_exporter": "python",
   "pygments_lexer": "ipython3",
   "version": "3.8.8"
  }
 },
 "nbformat": 4,
 "nbformat_minor": 5
}
