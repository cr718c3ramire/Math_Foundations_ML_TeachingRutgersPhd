{
 "cells": [
  {
   "cell_type": "code",
   "execution_count": 1,
   "id": "handy-adaptation",
   "metadata": {},
   "outputs": [],
   "source": [
    "import time\n",
    "import math\n",
    "import scipy.sparse as sp\n",
    "import scipy.linalg as la\n",
    "from scipy.sparse import csc_matrix, linalg as sla\n",
    "\n",
    "import numpy as np\n",
    "\n"
   ]
  },
  {
   "cell_type": "markdown",
   "id": "hollow-looking",
   "metadata": {},
   "source": [
    "## LU decomposition of sparse matrix \n",
    "LU decomposition of sparse matrix is not sparse in general. "
   ]
  },
  {
   "cell_type": "code",
   "execution_count": 2,
   "id": "breeding-circle",
   "metadata": {},
   "outputs": [
    {
     "name": "stdout",
     "output_type": "stream",
     "text": [
      "number of non-zeros in L&U: 395751\n",
      "number of non-zeros in a: 5998\n"
     ]
    },
    {
     "name": "stderr",
     "output_type": "stream",
     "text": [
      "/home/cesar/anaconda3/lib/python3.8/site-packages/scipy/sparse/linalg/dsolve/linsolve.py:318: SparseEfficiencyWarning: splu requires CSC matrix format\n",
      "  warn('splu requires CSC matrix format', SparseEfficiencyWarning)\n"
     ]
    }
   ],
   "source": [
    "N = 1000  # N, number of nonzero elements in a=O(N)\n",
    "d = 0.005\n",
    "a = sp.rand(N, N, d)+sp.identity(N)\n",
    "\n",
    "lu = sla.splu(a)\n",
    "print('number of non-zeros in L&U:', lu.nnz)\n",
    "print('number of non-zeros in a:', a.nnz)\n"
   ]
  },
  {
   "cell_type": "markdown",
   "id": "patent-orbit",
   "metadata": {},
   "source": [
    "## Preconditioning Conjugate Gradient \n",
    "The matrix $A$ is a $n\\times n$ symmetric positive definite matrix with all zeros except \n",
    "$a_{ii} = 0.5 + \\sqrt i$ on the diagonal,\n",
    "$a_{ij} = 1$ \n",
    "on the sub- and superdiagonal, and \n",
    "$a_{ij} = 1$ on the 100th sub- and superdiagonals, i.e., for $|i − j| = 100$. \n",
    "The right-hand side vector is $b = [1, \\cdots, 1]^T$. \n",
    "We observe that the basic CG algorithm converges very slowly, whereas the Jacobi-preconditioned method converges much faster."
   ]
  },
  {
   "cell_type": "code",
   "execution_count": 3,
   "id": "marine-biography",
   "metadata": {},
   "outputs": [],
   "source": [
    "n = 1000000\n",
    "diagonal = [1/2+math.sqrt(i) for i in range(n)]\n",
    "subdiag = np.ones(n-1)\n",
    "subdiag100 = np.ones(n-100)\n",
    "diagonals = [diagonal, subdiag, subdiag, subdiag100, subdiag100]"
   ]
  },
  {
   "cell_type": "code",
   "execution_count": 4,
   "id": "possible-retrieval",
   "metadata": {},
   "outputs": [],
   "source": [
    "A = sp.diags(diagonals, [0,1,-1, 100, -100]).tocsc()\n",
    "b = np.ones(n)"
   ]
  },
  {
   "cell_type": "code",
   "execution_count": 5,
   "id": "labeled-vermont",
   "metadata": {},
   "outputs": [
    {
     "name": "stdout",
     "output_type": "stream",
     "text": [
      "Computational time of solving by LU decomposition: 3.5468759536743164\n"
     ]
    }
   ],
   "source": [
    "t = time.time()\n",
    "lu = sla.splu(A)\n",
    "x = lu.solve(b)\n",
    "elapsed = time.time() - t\n",
    "print('Computational time of solving by LU decomposition:', elapsed)"
   ]
  },
  {
   "cell_type": "code",
   "execution_count": 6,
   "id": "private-permit",
   "metadata": {},
   "outputs": [
    {
     "name": "stdout",
     "output_type": "stream",
     "text": [
      "Computational time of solving by Conjugate Gradient: 4.7844014167785645\n"
     ]
    }
   ],
   "source": [
    "t = time.time()\n",
    "y,k = sla.cg(A, b)\n",
    "elapsed = time.time() - t\n",
    "print('Computational time of solving by Conjugate Gradient:', elapsed)"
   ]
  },
  {
   "cell_type": "code",
   "execution_count": 7,
   "id": "piano-episode",
   "metadata": {},
   "outputs": [
    {
     "name": "stdout",
     "output_type": "stream",
     "text": [
      "Computational time of solving by Conjugate Gradient with Jacobi preconditioning: 0.41562318801879883\n"
     ]
    }
   ],
   "source": [
    "t = time.time()\n",
    "M = sp.diags([1/d for d in diagonal]).tocsc()\n",
    "y,k = sla.cg(A, b, M = M)\n",
    "elapsed = time.time() - t\n",
    "print('Computational time of solving by Conjugate Gradient with Jacobi preconditioning:', elapsed)"
   ]
  },
  {
   "cell_type": "code",
   "execution_count": null,
   "id": "fd958b67",
   "metadata": {},
   "outputs": [],
   "source": []
  }
 ],
 "metadata": {
  "kernelspec": {
   "display_name": "Python 3",
   "language": "python",
   "name": "python3"
  },
  "language_info": {
   "codemirror_mode": {
    "name": "ipython",
    "version": 3
   },
   "file_extension": ".py",
   "mimetype": "text/x-python",
   "name": "python",
   "nbconvert_exporter": "python",
   "pygments_lexer": "ipython3",
   "version": "3.8.8"
  }
 },
 "nbformat": 4,
 "nbformat_minor": 5
}
