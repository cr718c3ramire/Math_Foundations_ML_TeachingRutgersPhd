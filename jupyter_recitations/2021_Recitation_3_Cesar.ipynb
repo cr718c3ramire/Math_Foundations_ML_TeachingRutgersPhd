{
 "cells": [
  {
   "cell_type": "markdown",
   "id": "f83577b4",
   "metadata": {},
   "source": [
    "# Sparse matrices\n",
    "\n",
    "In the broad sense, by \"sparse matrices\" we mean matrices with \"most\" entries zero, or few non-zero\n",
    "entries. Examples are diagonal matrices, or matrices like\n",
    " \n",
    "\\begin{align*}\n",
    "\\begin{pmatrix}\n",
    "7 & 0 & 1 & 0 & 12 \\\\ \n",
    "0 & 0 & 1 & 0 & 0 \\\\ \n",
    "0 & 3 & 1 & 0 & 1 \\\\ \n",
    "0 & 0 & 0 & 2 & 0\n",
    "\\end{pmatrix} \n",
    "\\end{align*}\n",
    "\n",
    "or \n",
    "\n",
    "\\begin{align*}\n",
    "\\begin{pmatrix}\n",
    "3 & 1 & 0 &   0 \\\\ \n",
    "0 & 1 & 22 &   0 \\\\ \n",
    "0 & 0 & 2 &   -1 \\\\ \n",
    "0 & 0 & 0 &   7   \n",
    "\\end{pmatrix} \n",
    "\\end{align*}\n",
    "\n",
    "They appear in numerous applications where modeling requires the representation of a large amount of interactions that occur among FEW local neighbors, or where we have lots of data but at each given moment, only a few local contributions are relevant to the effects. For instance, in network applications you might model a huge network where at each node, only a few of the \"local\" neighbors are relevant to the connection at that node. These situations occur in machine learning, for instance. Sparse matrices for the same reason show up in numerically solving differential equations, when we solve at a given node in a grid division, based on information from only a couple of local neighboring nodes. "
   ]
  },
  {
   "cell_type": "code",
   "execution_count": 2,
   "id": "50814071",
   "metadata": {},
   "outputs": [
    {
     "name": "stdout",
     "output_type": "stream",
     "text": [
      "[[ 1  4  0]\n",
      " [ 8  0 -1]\n",
      " [ 0  0  9]]\n"
     ]
    }
   ],
   "source": [
    "# Python program to create\n",
    "# sparse matrix using csr_matrix(). Note csr matrix is more efficient for storing \"longer rows\" than columns.\n",
    "# For matrices having \"longer columns\" than rows, use csc_matrix, which is \"columnwise\" more efficient\n",
    "  \n",
    "# Import required package\n",
    "import numpy as np\n",
    "from scipy.sparse import csr_matrix \n",
    "\n",
    "\n",
    "#Remember zero-based indices. rows vector gives (i,) component and columns give\n",
    "# (,j) component, you need row and column components to specify non-zero elements\n",
    "\n",
    "# Note the following 2 lines make at [1,2] the operation 5+6=11\n",
    "row = np.array([0, 0, 1, 1, 2, 1])  \n",
    "col = np.array([0, 1, 2, 0, 2, 2])\n",
    "  \n",
    "# taking data\n",
    "data = np.array([1, 4, 5, 8, 9, -6]) #this is how you specify nonzero elements of sparse array\n",
    "  \n",
    "# creating sparse matrix\n",
    "sparseMatrix = csr_matrix((data, (row, col)), \n",
    "                          shape = (3, 3)).toarray()\n",
    "  \n",
    "# print the sparse matrix\n",
    "print(sparseMatrix)  #note how an 11 shows up at position [1,2]"
   ]
  },
  {
   "cell_type": "code",
   "execution_count": 3,
   "id": "46e38da2",
   "metadata": {},
   "outputs": [
    {
     "name": "stdout",
     "output_type": "stream",
     "text": [
      "Dense matrix representation: \n",
      " [[-1  0  0  0  0  1]\n",
      " [ 0  0  2  0  0  1]\n",
      " [ 0  0  0  2  0  0]]\n",
      "Sparse matrix: \n",
      "   (0, 0)\t-1\n",
      "  (0, 5)\t1\n",
      "  (1, 2)\t2\n",
      "  (1, 5)\t1\n",
      "  (2, 3)\t2\n"
     ]
    }
   ],
   "source": [
    "# Another way to do the previous is giving as argument a normal np.array\n",
    "#to create an \"easy\" to type 2-D representation of the matrix\n",
    "A = np.array([[-1, 0, 0, 0, 0, 1], [0, 0, 2, 0, 0, 1],\\\n",
    " [0, 0, 0, 2, 0, 0]])\n",
    "print(\"Dense matrix representation: \\n\", A)\n",
    "\n",
    "# convert to sparse matrix representation \n",
    "S = csr_matrix(A)\n",
    "print(\"Sparse matrix: \\n\",S)"
   ]
  },
  {
   "cell_type": "markdown",
   "id": "1a2d7f3c",
   "metadata": {},
   "source": [
    "# Exercise \n",
    "Create the sparse matrix using scipy.sparse below:\n",
    "\n",
    "The matrix to create is \n",
    "\\begin{align*}\n",
    "\\begin{pmatrix}\n",
    "7 & 0 & 1 & 0 & 12 \\\\ \n",
    "0 & 0 & 1 & 0 & 0 \\\\ \n",
    "0 & 3 & 1 & 0 & 1 \\\\ \n",
    "0 & 0 & 0 & 2 & 0\n",
    "\\end{pmatrix} \n",
    "\\end{align*}\n"
   ]
  },
  {
   "cell_type": "code",
   "execution_count": null,
   "id": "a27a5872",
   "metadata": {},
   "outputs": [],
   "source": [
    "# Your code here"
   ]
  },
  {
   "cell_type": "code",
   "execution_count": 5,
   "id": "d6d748fa",
   "metadata": {},
   "outputs": [
    {
     "name": "stdout",
     "output_type": "stream",
     "text": [
      "A=\n",
      " [[-11   0   0   0   0   1]\n",
      " [  0   0   2   0   0   1]\n",
      " [  0   0   0   2   0   0]\n",
      " [  0   2   0   0   1   0]]\n",
      "\n",
      "\n",
      "\n",
      "\n",
      "L= [[ 1.  0.  0.  0.]\n",
      " [-0.  1.  0.  0.]\n",
      " [-0.  0.  1.  0.]\n",
      " [-0.  0.  0.  1.]]\n",
      "\n",
      "\n",
      "U= [[-11.   0.   0.   0.   0.   1.]\n",
      " [  0.   2.   0.   0.   1.   0.]\n",
      " [  0.   0.   2.   0.   0.   1.]\n",
      " [  0.   0.   0.   2.   0.   0.]]\n",
      "Verification: L*U= P^T*A \n",
      " [[-11.   0.   0.   0.   0.   1.]\n",
      " [  0.   2.   0.   0.   1.   0.]\n",
      " [  0.   0.   2.   0.   0.   1.]\n",
      " [  0.   0.   0.   2.   0.   0.]]\n"
     ]
    }
   ],
   "source": [
    "import scipy.linalg as la\n",
    "import numpy as np\n",
    "\n",
    "A = np.array([[-11, 0, 0, 0, 0, 1], [0, 0, 2, 0, 0, 1],\\\n",
    " [0, 0, 0, 2, 0, 0], [0, 2, 0, 0, 1, 0]])\n",
    "\n",
    "print('A=\\n', A)\n",
    "P, L, U = la.lu(A)   \n",
    "print('\\n')\n",
    "\n",
    "print('\\n')\n",
    "print('L=', L)\n",
    "print('\\n')\n",
    "print('U=', U)\n",
    "print('Verification: L*U= P^T*A \\n',  np.dot(L, U) )"
   ]
  },
  {
   "cell_type": "markdown",
   "id": "114b0201",
   "metadata": {},
   "source": [
    "# Next class/week iterative methods for sparse matrices\n",
    "\n",
    "Instead of LU factorization, iterative methods are more efficient for sparse matrices.\n",
    "\n",
    "Sometimes it's better to get a \"quick\" approximation to a solution"
   ]
  },
  {
   "cell_type": "markdown",
   "id": "cd0f62b5",
   "metadata": {},
   "source": [
    "# Norms in Python\n",
    "Either of SciPy or NumPy contain methods to compute vector and matrix norms"
   ]
  },
  {
   "cell_type": "code",
   "execution_count": 6,
   "id": "58e984dc",
   "metadata": {},
   "outputs": [
    {
     "name": "stdout",
     "output_type": "stream",
     "text": [
      "[ 1 -2  4  0  0  2]\n"
     ]
    }
   ],
   "source": [
    "import numpy.linalg as LA\n",
    "\n",
    "a_vector=[1,-2,4,0,0,2]\n",
    "a_vector=np.array(a_vector)\n",
    "print(a_vector)"
   ]
  },
  {
   "cell_type": "code",
   "execution_count": 7,
   "id": "d4c26b12",
   "metadata": {},
   "outputs": [],
   "source": [
    "import numpy.linalg as LA"
   ]
  },
  {
   "cell_type": "code",
   "execution_count": 8,
   "id": "1d2c77d1",
   "metadata": {},
   "outputs": [
    {
     "data": {
      "text/plain": [
       "5.0"
      ]
     },
     "execution_count": 8,
     "metadata": {},
     "output_type": "execute_result"
    }
   ],
   "source": [
    "LA.norm(a_vector) #numpy.linalg.norm() function with default Euclidean norm"
   ]
  },
  {
   "cell_type": "code",
   "execution_count": 9,
   "id": "86fb05d6",
   "metadata": {},
   "outputs": [
    {
     "data": {
      "text/plain": [
       "5.0"
      ]
     },
     "execution_count": 9,
     "metadata": {},
     "output_type": "execute_result"
    }
   ],
   "source": [
    "LA.norm(a_vector,2)  # LA.norm(x, p) p varies as in the p norms"
   ]
  },
  {
   "cell_type": "code",
   "execution_count": 10,
   "id": "428253bb",
   "metadata": {},
   "outputs": [
    {
     "data": {
      "text/plain": [
       "9.0"
      ]
     },
     "execution_count": 10,
     "metadata": {},
     "output_type": "execute_result"
    }
   ],
   "source": [
    "LA.norm(a_vector,1 )"
   ]
  },
  {
   "cell_type": "code",
   "execution_count": 11,
   "id": "7426bcd5",
   "metadata": {},
   "outputs": [
    {
     "data": {
      "text/plain": [
       "4.0"
      ]
     },
     "execution_count": 11,
     "metadata": {},
     "output_type": "execute_result"
    }
   ],
   "source": [
    "LA.norm(a_vector,np.inf) #infinity norm, note I use np.inf"
   ]
  },
  {
   "cell_type": "markdown",
   "id": "c55f71f6",
   "metadata": {},
   "source": [
    "## Same norms syntax works on matrices  \n",
    "Using once again the matrix $A$ we defined above, we have \n",
    " \n",
    "\\begin{align*}\n",
    "A=\\begin{pmatrix}\n",
    "-11 & 0 &0 & 0 & 0 & 1\\\\ \n",
    "0 & 0 & 2 & 0 & 0 & 1\\\\ \n",
    "0 & 0 & 0 & 2 & 0 & 0 \\\\ \n",
    "0 & 2& 0 & 0  & 1 & 0\n",
    "\\end{pmatrix} \n",
    "\\end{align*}"
   ]
  },
  {
   "cell_type": "code",
   "execution_count": 12,
   "id": "82538818",
   "metadata": {},
   "outputs": [
    {
     "data": {
      "text/plain": [
       "11.661903789690601"
      ]
     },
     "execution_count": 12,
     "metadata": {},
     "output_type": "execute_result"
    }
   ],
   "source": [
    "LA.norm(A)  #default is 2-norm"
   ]
  },
  {
   "cell_type": "code",
   "execution_count": 13,
   "id": "fda33430",
   "metadata": {},
   "outputs": [
    {
     "data": {
      "text/plain": [
       "11.0"
      ]
     },
     "execution_count": 13,
     "metadata": {},
     "output_type": "execute_result"
    }
   ],
   "source": [
    "LA.norm(A, 1)"
   ]
  },
  {
   "cell_type": "code",
   "execution_count": 14,
   "id": "e7c7fc6f",
   "metadata": {},
   "outputs": [
    {
     "data": {
      "text/plain": [
       "12.0"
      ]
     },
     "execution_count": 14,
     "metadata": {},
     "output_type": "execute_result"
    }
   ],
   "source": [
    "LA.norm(A, np.inf)"
   ]
  },
  {
   "cell_type": "code",
   "execution_count": 15,
   "id": "bb087c05",
   "metadata": {},
   "outputs": [
    {
     "data": {
      "text/plain": [
       "11.661903789690601"
      ]
     },
     "execution_count": 15,
     "metadata": {},
     "output_type": "execute_result"
    }
   ],
   "source": [
    "#note here SciPy's linalg library is being used, not Numpy\n",
    "la.norm(A)"
   ]
  },
  {
   "cell_type": "code",
   "execution_count": null,
   "id": "5cb96a06",
   "metadata": {},
   "outputs": [],
   "source": []
  }
 ],
 "metadata": {
  "kernelspec": {
   "display_name": "Python 3",
   "language": "python",
   "name": "python3"
  },
  "language_info": {
   "codemirror_mode": {
    "name": "ipython",
    "version": 3
   },
   "file_extension": ".py",
   "mimetype": "text/x-python",
   "name": "python",
   "nbconvert_exporter": "python",
   "pygments_lexer": "ipython3",
   "version": "3.8.8"
  }
 },
 "nbformat": 4,
 "nbformat_minor": 5
}
