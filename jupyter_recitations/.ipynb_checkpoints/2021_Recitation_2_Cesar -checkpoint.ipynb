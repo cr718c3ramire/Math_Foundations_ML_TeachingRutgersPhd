{
 "cells": [
  {
   "cell_type": "markdown",
   "id": "a15f59af",
   "metadata": {},
   "source": [
    "# NumPy Basics\n",
    "\n",
    "Short for Numerical Python, it is one of the most important foundational packages for numerical computing in Python. You will very likely encounter this package throughout your software experience, including AI methods such as machine learning. NumPy provides:\n",
    "\n",
    "-np.array: a function to convert objects of Python into \"ndarrays\", which are the Python equivalent of a Matlab matrix\n",
    "\n",
    "-array functions and methods that make for easy manipulation of matrices as seen in linear algebra, along with operations one takes for granted on matrices, such as addition, multiplication, etc. \n",
    "\n",
    "-NumPy provides functions that can easily operate on matrices, for vectorizing code or applying function on a by-element basis, as Matlab does (instead of applying LOOPS to each element of a matrix). For instance, the Python math module called as **import math** has its own natural logarithm function, math.log(). But this logarithm function does not overload to arrays. NumPy has np.log() which allows you to operate on arrays, where if A is an array, np.log(A) applies the natural log to each element of A. You will see more functions as we proceed. \n",
    "\n",
    "-other linear algebra methods and algorithms\n",
    "\n",
    "-other capabilities, such as random number generation, Fourier transforms, etc\n",
    "\n",
    "\n"
   ]
  },
  {
   "cell_type": "markdown",
   "id": "f0148a9f",
   "metadata": {},
   "source": [
    "# Import numpy as np\n",
    "\n",
    "We write **import numpy as np** to call numpy functions using np.*Numpy_function_name_here*(). You could write **import numpy as WHATEVER** and call, say the log function as WHATEVER.log(), but it has become custom to use \"np\". There are ways to import numpy functions/methods without using any pre-qualifier like 'np.log' and just use 'log', but this is not recommended, since many numpy functions have the same name as other Python functions or those in other modules you might import, creating potential naming conflicts. An example is the logarithm function, which math.log() calls the log from the math module, and np.log() calls the log function from the NumPy module. "
   ]
  },
  {
   "cell_type": "code",
   "execution_count": 1,
   "id": "a4d90640",
   "metadata": {},
   "outputs": [],
   "source": [
    "import numpy as np"
   ]
  },
  {
   "cell_type": "markdown",
   "id": "1275c707",
   "metadata": {},
   "source": [
    "\n",
    "# Python lists vs np.array: An introduction to Python containers\n",
    "\n",
    " Python has by default a list structure, which can be assigned, an its respective elements accessed using the following example syntax (note Python is zero-based in its indices, unlike Matlab) "
   ]
  },
  {
   "cell_type": "code",
   "execution_count": 2,
   "id": "626f8713",
   "metadata": {},
   "outputs": [
    {
     "name": "stdout",
     "output_type": "stream",
     "text": [
      "[2, 0, 1]\n",
      "1\n",
      "=========================\n",
      "2\n",
      "0\n",
      "1\n"
     ]
    }
   ],
   "source": [
    "a_list=[2,0,1]\n",
    "print(a_list)\n",
    "print(a_list[2])\n",
    "print('=========================')\n",
    "\n",
    "for i in range(3):\n",
    "    print(a_list[i])"
   ]
  },
  {
   "cell_type": "markdown",
   "id": "b5e5cb30",
   "metadata": {},
   "source": [
    "**Python lists are limited!** Note Python lists are not suitable objects for operating on them like vectors are, you can reassign values to lists, but you cannot add 2 lists:"
   ]
  },
  {
   "cell_type": "code",
   "execution_count": 3,
   "id": "bfdbbb0e",
   "metadata": {
    "scrolled": true
   },
   "outputs": [
    {
     "name": "stdout",
     "output_type": "stream",
     "text": [
      "[-2, 0, 1]\n",
      "[-2, 0, 1, -1, -10, 0]\n"
     ]
    }
   ],
   "source": [
    "a_list[0]=-2\n",
    "print(a_list)\n",
    "another_list=[-1, -10, 0]\n",
    "\n",
    "print(a_list+another_list)  #<---does not work like vector addition does! (Instead concatenates lists)"
   ]
  },
  {
   "cell_type": "markdown",
   "id": "ffa19f2e",
   "metadata": {},
   "source": [
    "Instead, thanks to the \"import numpy as np\" command we typed into one of the above cells, we can **from a list**, obtain a \"true vector\", called a \"numpy array\" or \"ndarray\" (We will use the words 'numpy arrays', 'NumPy arrays', 'ndarrays' interchangebly). We use the np.array() function on a list to convert it into an array, and now they act like vectors:"
   ]
  },
  {
   "cell_type": "code",
   "execution_count": 21,
   "id": "19a19842",
   "metadata": {},
   "outputs": [
    {
     "name": "stdout",
     "output_type": "stream",
     "text": [
      "[ -4 -20   1]\n"
     ]
    }
   ],
   "source": [
    "vector_1=np.array(a_list)\n",
    "vector_2=np.array(another_list)\n",
    "print(vector_1+2*vector_2)"
   ]
  },
  {
   "cell_type": "markdown",
   "id": "6f419085",
   "metadata": {},
   "source": [
    "**What about matrices?** Similar to \"raw Python lists\" vs numpy array structures, we can note that the following matrix-looking object does not really behave like a matrix:"
   ]
  },
  {
   "cell_type": "code",
   "execution_count": 22,
   "id": "1c4a35a8",
   "metadata": {},
   "outputs": [
    {
     "name": "stdout",
     "output_type": "stream",
     "text": [
      "[[1, 2, 3], [4, 5, 6], [1, 0, 0], [1, 2, 3], [4, 5, 6], [1, 0, 0]]\n"
     ]
    }
   ],
   "source": [
    "array_looking_thing=[[1,2,3],\n",
    "                     [4,5,6],\n",
    "                     [1,0,0]]  #list of lists\n",
    "\n",
    "print(2*array_looking_thing)"
   ]
  },
  {
   "cell_type": "code",
   "execution_count": 23,
   "id": "b8af78fd",
   "metadata": {},
   "outputs": [
    {
     "name": "stdout",
     "output_type": "stream",
     "text": [
      "[[ 2  4  6]\n",
      " [ 8 10 12]\n",
      " [ 2  0  0]]\n"
     ]
    }
   ],
   "source": [
    "array=np.array(array_looking_thing) #numpy array/ ndarray\n",
    "print(2*array)"
   ]
  },
  {
   "cell_type": "markdown",
   "id": "237d8cc6",
   "metadata": {},
   "source": [
    "The Numpy array has many more capabilities than the above shown. Also, these NumPy arrays, also known as *ndarrays*, use a more efficient internal memory representation and save memory use. \n",
    "\n",
    "It is important to know that in programming languages, under the hood, manipulating arrays is not such a trivial memory operation as it would seem. (Try finding what similar structure/object, to say, 2x2 arrays (of Python, Matlab, etc) are used in C++!)\n",
    "\n",
    "On the other hand, you can overload NumPy functions to numpy arrays. Let us do the following, we import the math module and use its natural log function, which works well on scalar numbers, **but not on higher dimension ndarrays:**"
   ]
  },
  {
   "cell_type": "code",
   "execution_count": 4,
   "id": "12f3ebe3",
   "metadata": {},
   "outputs": [
    {
     "data": {
      "text/plain": [
       "1.0986122886681098"
      ]
     },
     "execution_count": 4,
     "metadata": {},
     "output_type": "execute_result"
    }
   ],
   "source": [
    "import math  # <---includes standard math functions such as log, trig functions\n",
    "math.log(3)"
   ]
  },
  {
   "cell_type": "code",
   "execution_count": 25,
   "id": "bdda7439",
   "metadata": {},
   "outputs": [
    {
     "ename": "TypeError",
     "evalue": "only size-1 arrays can be converted to Python scalars",
     "output_type": "error",
     "traceback": [
      "\u001b[0;31m---------------------------------------------------------------------------\u001b[0m",
      "\u001b[0;31mTypeError\u001b[0m                                 Traceback (most recent call last)",
      "\u001b[0;32m<ipython-input-25-5d36d214f6ec>\u001b[0m in \u001b[0;36m<module>\u001b[0;34m\u001b[0m\n\u001b[1;32m      1\u001b[0m \u001b[0mlist\u001b[0m\u001b[0;34m=\u001b[0m\u001b[0;34m[\u001b[0m\u001b[0;36m3\u001b[0m\u001b[0;34m,\u001b[0m\u001b[0;36m9\u001b[0m\u001b[0;34m,\u001b[0m\u001b[0;36m1\u001b[0m\u001b[0;34m]\u001b[0m\u001b[0;34m\u001b[0m\u001b[0;34m\u001b[0m\u001b[0m\n\u001b[1;32m      2\u001b[0m \u001b[0marray\u001b[0m\u001b[0;34m=\u001b[0m\u001b[0mnp\u001b[0m\u001b[0;34m.\u001b[0m\u001b[0marray\u001b[0m\u001b[0;34m(\u001b[0m\u001b[0mlist\u001b[0m\u001b[0;34m)\u001b[0m\u001b[0;34m\u001b[0m\u001b[0;34m\u001b[0m\u001b[0m\n\u001b[0;32m----> 3\u001b[0;31m \u001b[0mmath\u001b[0m\u001b[0;34m.\u001b[0m\u001b[0mlog\u001b[0m\u001b[0;34m(\u001b[0m\u001b[0marray\u001b[0m\u001b[0;34m)\u001b[0m\u001b[0;34m\u001b[0m\u001b[0;34m\u001b[0m\u001b[0m\n\u001b[0m\u001b[1;32m      4\u001b[0m \u001b[0mmath\u001b[0m\u001b[0;34m.\u001b[0m\u001b[0mlog\u001b[0m\u001b[0;34m(\u001b[0m\u001b[0mlist\u001b[0m\u001b[0;34m)\u001b[0m\u001b[0;34m\u001b[0m\u001b[0;34m\u001b[0m\u001b[0m\n",
      "\u001b[0;31mTypeError\u001b[0m: only size-1 arrays can be converted to Python scalars"
     ]
    }
   ],
   "source": [
    "list=[3,9,1]\n",
    "array=np.array(list)\n",
    "math.log(array)\n",
    "math.log(list)\n"
   ]
  },
  {
   "cell_type": "markdown",
   "id": "af2d8b07",
   "metadata": {},
   "source": [
    "But the LOGARITHM function within the numpy library, namely np.log(), works perfectly well with both naked lists and numpy arrays:"
   ]
  },
  {
   "cell_type": "code",
   "execution_count": 26,
   "id": "5cd8b286",
   "metadata": {},
   "outputs": [
    {
     "name": "stdout",
     "output_type": "stream",
     "text": [
      "[1.09861229 2.19722458 0.        ]\n",
      "[1.09861229 2.19722458 0.        ]\n"
     ]
    }
   ],
   "source": [
    " print(np.log(array))  # <----numpy version of the log function, called as np.log (np.log vs math.log)\n",
    "print(np.log(list))  # <---np.log() can operate on arrays/lists,etc\n"
   ]
  },
  {
   "cell_type": "code",
   "execution_count": 7,
   "id": "e75524fb",
   "metadata": {},
   "outputs": [
    {
     "name": "stdout",
     "output_type": "stream",
     "text": [
      "[[1 2 3]\n",
      " [4 5 6]\n",
      " [1 0 0]]\n"
     ]
    }
   ],
   "source": [
    "# As seen above, we can create arrays from lists and then using np.array() on the \n",
    "# list to convert it into a numpy array. Once again let us do this:\n",
    "list=[[1,2,3], [4,5,6], [1,0,0]]\n",
    "arr=np.array(list)  #initialize an array from the list\n",
    "print(arr)"
   ]
  },
  {
   "cell_type": "markdown",
   "id": "aa3cfe59",
   "metadata": {},
   "source": [
    "We can access the dimensions and their respective values, of the numpy arrays, as follows:"
   ]
  },
  {
   "cell_type": "code",
   "execution_count": 9,
   "id": "8ff14d4e",
   "metadata": {},
   "outputs": [
    {
     "name": "stdout",
     "output_type": "stream",
     "text": [
      "We have that arr.dim= 2\n",
      "(3, 3)\n"
     ]
    }
   ],
   "source": [
    "\n",
    "print('We have that arr.dim=', arr.ndim)   \n",
    "print(arr.shape)  #this gives the actual values of these two dimensions"
   ]
  },
  {
   "cell_type": "markdown",
   "id": "54152d32",
   "metadata": {},
   "source": [
    "Either of np.identity( *size* ) or np.eye( *size* ) create a *size* $\\times$ *size* identity matrix:"
   ]
  },
  {
   "cell_type": "code",
   "execution_count": 9,
   "id": "6c5b9e5e",
   "metadata": {},
   "outputs": [
    {
     "name": "stdout",
     "output_type": "stream",
     "text": [
      "[[1. 0. 0. 0.]\n",
      " [0. 1. 0. 0.]\n",
      " [0. 0. 1. 0.]\n",
      " [0. 0. 0. 1.]]\n",
      "\n",
      "\n",
      "[[1. 0. 0.]\n",
      " [0. 1. 0.]\n",
      " [0. 0. 1.]]\n"
     ]
    }
   ],
   "source": [
    "A=np.eye(4)\n",
    "B=np.identity(3)\n",
    "print(A)\n",
    "print('\\n')\n",
    "print(B)"
   ]
  },
  {
   "cell_type": "code",
   "execution_count": 18,
   "id": "62d2a837",
   "metadata": {},
   "outputs": [],
   "source": [
    "def lu(A):\n",
    "    \n",
    "    #Get the number of rows\n",
    "    n = A.shape[0]\n",
    "    \n",
    "    U = A.copy()\n",
    "    L = np.eye(n, dtype=np.double)\n",
    "    \n",
    "    #Loop over rows\n",
    "    for i in range(n):\n",
    "            \n",
    "        #Eliminate entries below i with row operations \n",
    "        #on U and reverse the row operations to \n",
    "        #manipulate L\n",
    "        factor = U[i+1:, i] / U[i, i]\n",
    "        L[i+1:, i] = factor\n",
    "        #U[i+1:] -= factor[:, np.newaxis]*U[i] #command np.newaxis pretty similar to A=A.reshape(-1,1)\n",
    "                                                # which makes a column vector\n",
    "            \n",
    "        U[i+1:] -= factor.reshape(-1,1) * U[i] #<--by above comment, this also works!     \n",
    "        \n",
    "    return L, U  #Does not return a permutation matrix P!\n"
   ]
  },
  {
   "cell_type": "code",
   "execution_count": 19,
   "id": "d38dc97e",
   "metadata": {},
   "outputs": [
    {
     "name": "stdout",
     "output_type": "stream",
     "text": [
      "A= [[ 3.5   7.    8.3 ]\n",
      " [ 5.73  0.   -5.  ]\n",
      " [ 4.   18.   22.  ]] \n",
      "\n",
      "L= [[ 1.          0.          0.        ]\n",
      " [ 1.63714286  1.          0.        ]\n",
      " [ 1.14285714 -0.87260035  1.        ]]\n",
      "\n",
      "\n",
      "U= [[  3.5          7.           8.3       ]\n",
      " [  0.         -11.46       -18.58828571]\n",
      " [  0.           0.          -3.70585889]]\n",
      "\n",
      "\n",
      "Verification: LU=\n",
      " [[ 3.5   7.    8.3 ]\n",
      " [ 5.73  0.   -5.  ]\n",
      " [ 4.   18.   22.  ]]\n"
     ]
    }
   ],
   "source": [
    "A = np.array([[3.5, 7., 8.3], [5.73, 0., -5.], [4., 18., 22.]])\n",
    "[L,U]=lu(A)\n",
    "print('A=', A, '\\n')\n",
    "print('L=', L)\n",
    "print('\\n')\n",
    "print('U=', U)\n",
    "print('\\n')\n",
    "print('Verification: LU=\\n',  np.dot(L, U))  #matrix product L*U np.dot(L,U)"
   ]
  },
  {
   "cell_type": "code",
   "execution_count": 36,
   "id": "52f83a40",
   "metadata": {},
   "outputs": [],
   "source": [
    "def lu(A):\n",
    "    \n",
    "    #Get the number of rows\n",
    "    n = A.shape[0]\n",
    "    \n",
    "    U = A.copy()\n",
    "    L = np.eye(n, dtype=np.double)\n",
    "    \n",
    "    #Loop over rows\n",
    "    for i in range(n):\n",
    "            \n",
    "        #Eliminate entries below i with row operations \n",
    "        #on U and reverse the row operations to \n",
    "        #manipulate L\n",
    "        factor = U[i+1:, i] / U[i, i]\n",
    "        L[i+1:, i] = factor\n",
    "        #U[i+1:] -= factor[:, np.newaxis]*U[i] #command np.newaxis pretty similar to A=A.reshape(-1,1)\n",
    "                                                # which makes a column vector\n",
    "            \n",
    "         \n",
    "        U[i+1:] -= factor.reshape(-1,1)* U[i] #<--by above comment, this also works! This is weird product!? \n",
    "        \n",
    "    return L, U  #Does not return a permutation matrix P!"
   ]
  },
  {
   "cell_type": "code",
   "execution_count": 37,
   "id": "f77ca3e9",
   "metadata": {},
   "outputs": [
    {
     "name": "stdout",
     "output_type": "stream",
     "text": [
      "U[i+1:].shape= (2, 3)\n",
      "U[i+1:].shape= (1, 3)\n",
      "U[i+1:].shape= (0, 3)\n",
      "A= [[ 3.5   7.    8.3 ]\n",
      " [ 5.73  0.   -5.  ]\n",
      " [ 4.   18.   22.  ]] \n",
      "\n",
      "L= [[ 1.          0.          0.        ]\n",
      " [ 1.63714286  1.          0.        ]\n",
      " [ 1.14285714 -0.87260035  1.        ]]\n",
      "\n",
      "\n",
      "U= [[  3.5          7.           8.3       ]\n",
      " [  0.         -11.46       -18.58828571]\n",
      " [  0.           0.          -3.70585889]]\n",
      "\n",
      "\n",
      "Verification: LU=\n",
      " [[ 3.5   7.    8.3 ]\n",
      " [ 5.73  0.   -5.  ]\n",
      " [ 4.   18.   22.  ]]\n"
     ]
    }
   ],
   "source": [
    "A = np.array([[3.5, 7., 8.3], [5.73, 0., -5.], [4., 18., 22.]])\n",
    "[L,U]=lu(A)\n",
    "print('A=', A, '\\n')\n",
    "print('L=', L)\n",
    "print('\\n')\n",
    "print('U=', U)\n",
    "print('\\n')\n",
    "print('Verification: LU=\\n',  np.dot(L, U))  #matrix product L*U np.dot(L,U)"
   ]
  },
  {
   "cell_type": "markdown",
   "id": "41e7209f",
   "metadata": {},
   "source": [
    "# SciPy\n",
    "\n",
    "Let us mention SciPy, which is a collection of packages for some standard applications used in scientific computing. It includes\n",
    "* scipy.integrate: Numerical integration routines and differential equation solvers\n",
    "* scipy.linalg: Linear algebra routines and matrix decompositions extending beyond what NumPy offers in \n",
    "numpy.linalg\n",
    "* scipy.optimize: function optimizers and root finding algorithms\n",
    "* scipy.stats: standard continuous and discrete probability distribution functions, statistical tests, etc\n",
    "\n",
    "## Read a little before using other libraries and their functions\n",
    "\n",
    "Before using different methods/algorithms to the ones used/taught/programmed in class,\n",
    "sometimes it pays to read to avoid confusions. Let us use the LU-decomposition of scipy.linalg\n",
    "to explain"
   ]
  },
  {
   "cell_type": "code",
   "execution_count": 13,
   "id": "30383658",
   "metadata": {},
   "outputs": [
    {
     "name": "stdout",
     "output_type": "stream",
     "text": [
      "A=\n",
      " [[ 3.5   7.    8.3 ]\n",
      " [ 5.73  0.   -5.  ]\n",
      " [ 4.   18.   22.  ]]\n",
      "\n",
      "\n",
      "P^T*A= [[ 5.73  0.   -5.  ]\n",
      " [ 4.   18.   22.  ]\n",
      " [ 3.5   7.    8.3 ]]\n",
      "\n",
      "\n",
      "L= [[1.         0.         0.        ]\n",
      " [0.69808028 1.         0.        ]\n",
      " [0.61082024 0.38888889 1.        ]]\n",
      "\n",
      "\n",
      "U= [[ 5.73        0.         -5.        ]\n",
      " [ 0.         18.         25.4904014 ]\n",
      " [ 0.          0.          1.44116735]]\n",
      "\n",
      "\n",
      "Verification: L*U= P^T*A \n",
      " [[ 5.73  0.   -5.  ]\n",
      " [ 4.   18.   22.  ]\n",
      " [ 3.5   7.    8.3 ]]\n"
     ]
    }
   ],
   "source": [
    "import scipy.linalg as la\n",
    "print('A=\\n', A)\n",
    "P, L, U = la.lu(A)  # Not the same lu(A) function that Professor Wujun wrote!, called as la.lu(A), DOES RETURN a P!\n",
    "print('\\n')\n",
    "print('P^T*A=', np.dot(P.T, A)) #np.dot(P.T, A)  (P.T gives gives transpose matrix of P)\n",
    "print('\\n')\n",
    "print('L=', L)\n",
    "print('\\n')\n",
    "print('U=', U)\n",
    "print('\\n')\n",
    "print('Verification: L*U= P^T*A \\n',  np.dot(L, U) )"
   ]
  },
  {
   "cell_type": "markdown",
   "id": "4cc5dfe3",
   "metadata": {},
   "source": [
    "# For loop\n",
    "The general form of a Python for statement/loop is:\n",
    "\n",
    "**for** *variable* **in** *sequence* **:**\n",
    "\n",
    "          CODE BLOCK HERE\n",
    "          \n",
    " Where to give a quick example:\n",
    "\n",
    "           "
   ]
  },
  {
   "cell_type": "code",
   "execution_count": 16,
   "id": "bbe65205",
   "metadata": {},
   "outputs": [
    {
     "name": "stdout",
     "output_type": "stream",
     "text": [
      "91\n"
     ]
    }
   ],
   "source": [
    " total=0\n",
    " for num in (77,11,3):\n",
    "     total=total+num\n",
    " print(total)"
   ]
  },
  {
   "cell_type": "markdown",
   "id": "2e03fb09",
   "metadata": {},
   "source": [
    "# Note that indentation matters in Python! \n",
    "\n",
    "This does not happen say in C++ or Matlab, but Python can be a little special/picky about indentation. Note how the indentation in the above for loop was carried out. Try running instead:"
   ]
  },
  {
   "cell_type": "code",
   "execution_count": 17,
   "id": "f9a4bb26",
   "metadata": {},
   "outputs": [
    {
     "name": "stdout",
     "output_type": "stream",
     "text": [
      "77\n",
      "88\n",
      "91\n"
     ]
    }
   ],
   "source": [
    "total=0\n",
    "for num in (77,11,3):\n",
    "     total=total+num\n",
    "     print(total)"
   ]
  },
  {
   "cell_type": "markdown",
   "id": "fcd3751e",
   "metadata": {},
   "source": [
    "and note how putting the \"print\" statement within a slightly deeper indentation, makes it print the running sum at each iterate of the FOR loop. This is supposed to be a notational convenience to make Python easily portable and shareable when working with many developers and users on the same code.  "
   ]
  },
  {
   "cell_type": "markdown",
   "id": "135d62a7",
   "metadata": {},
   "source": [
    "The expression (77,11,3) is called a **tuple** in Python, and it is different from a **Python list**, /[77, 11, 3/] where tuples are in between parentheses (*tuple elements here*), and lists are in square brackets \\[ *list contents here* \\]. At the moment this difference is of little relevance to us, but it is useful to keep it in mind, since lists in Python are *mutable*, whereas tuples are *immutable*. \n",
    "\n",
    "The above code snippet would run apparently the same though, if we had used a list instead of a tuple:"
   ]
  },
  {
   "cell_type": "code",
   "execution_count": 18,
   "id": "c75cb15c",
   "metadata": {},
   "outputs": [
    {
     "name": "stdout",
     "output_type": "stream",
     "text": [
      "91\n"
     ]
    }
   ],
   "source": [
    "total=0\n",
    "for num in [77,11,3]:\n",
    "     total=total+num\n",
    "print(total)"
   ]
  },
  {
   "cell_type": "markdown",
   "id": "9679d1d8",
   "metadata": {},
   "source": [
    "At the moment, the differences seem trivial, but let us quickly give an example of what we mean by 'immutability' of tuples vs mutability of lists\n",
    "\n"
   ]
  },
  {
   "cell_type": "code",
   "execution_count": 19,
   "id": "3ce769de",
   "metadata": {},
   "outputs": [
    {
     "name": "stdout",
     "output_type": "stream",
     "text": [
      "[1, 2, 77, 4, 5]\n"
     ]
    }
   ],
   "source": [
    "values_list=[1,2,3,4,5]\n",
    "values_tuple=(1,2,3,4,5)\n",
    "\n",
    "#let us redefine a value of the list:\n",
    "values_list[2]=77  # remember Python has zero-based indices! \n",
    "print(values_list)\n"
   ]
  },
  {
   "cell_type": "code",
   "execution_count": 20,
   "id": "254784a6",
   "metadata": {},
   "outputs": [
    {
     "ename": "TypeError",
     "evalue": "'tuple' object does not support item assignment",
     "output_type": "error",
     "traceback": [
      "\u001b[0;31m---------------------------------------------------------------------------\u001b[0m",
      "\u001b[0;31mTypeError\u001b[0m                                 Traceback (most recent call last)",
      "\u001b[0;32m<ipython-input-20-f9274613274e>\u001b[0m in \u001b[0;36m<module>\u001b[0;34m\u001b[0m\n\u001b[1;32m      1\u001b[0m \u001b[0;31m#Trying to redefine a value of the tuple gives an ERROR:\u001b[0m\u001b[0;34m\u001b[0m\u001b[0;34m\u001b[0m\u001b[0;34m\u001b[0m\u001b[0m\n\u001b[0;32m----> 2\u001b[0;31m \u001b[0mvalues_tuple\u001b[0m\u001b[0;34m[\u001b[0m\u001b[0;36m2\u001b[0m\u001b[0;34m]\u001b[0m\u001b[0;34m=\u001b[0m\u001b[0;36m77\u001b[0m\u001b[0;34m\u001b[0m\u001b[0;34m\u001b[0m\u001b[0m\n\u001b[0m",
      "\u001b[0;31mTypeError\u001b[0m: 'tuple' object does not support item assignment"
     ]
    }
   ],
   "source": [
    "#Trying to redefine a value of the tuple gives an ERROR:\n",
    "values_tuple[2]=77"
   ]
  },
  {
   "cell_type": "markdown",
   "id": "cd271a0f",
   "metadata": {},
   "source": [
    "# Using range()\n",
    "\n",
    "Python has the range function which creates an object with values over which we can iterate:"
   ]
  },
  {
   "cell_type": "code",
   "execution_count": 24,
   "id": "e4434b64",
   "metadata": {},
   "outputs": [
    {
     "name": "stdout",
     "output_type": "stream",
     "text": [
      "I like candy 0\n",
      "I like candy 1\n",
      "I like candy 2\n",
      "I like candy 3\n",
      "I like candy 4\n",
      "I like candy 5\n",
      "I like candy 6\n",
      "I like candy 7\n",
      "I like candy 8\n",
      "I like candy 9\n"
     ]
    }
   ],
   "source": [
    "\n",
    "for i in range(10): # REMEMBER PYTHON IS ZERO-based!\n",
    "    print('I like candy', i)"
   ]
  },
  {
   "cell_type": "markdown",
   "id": "71258e14",
   "metadata": {},
   "source": [
    "Note that range() is a strange function, because it does \n",
    "range(*begin, end, jump size*) **(with default begin=0, and default jump size=1)** but it does not reach the end, as you could see in the previous FOR loop, it did not get to *end*=10, but rather, to *end*-1=9. That's why:"
   ]
  },
  {
   "cell_type": "code",
   "execution_count": 27,
   "id": "b38de593",
   "metadata": {},
   "outputs": [
    {
     "data": {
      "text/plain": [
       "True"
      ]
     },
     "execution_count": 27,
     "metadata": {},
     "output_type": "execute_result"
    }
   ],
   "source": [
    "range(0,10,2)==range(0,9,2)  # <--Evaluates to TRUE! 0,2,4,6,8"
   ]
  },
  {
   "cell_type": "markdown",
   "id": "3171c988",
   "metadata": {},
   "source": [
    "We can have negative jump sizes, so that we can have stuff like the following:"
   ]
  },
  {
   "cell_type": "code",
   "execution_count": 25,
   "id": "e084db4c",
   "metadata": {},
   "outputs": [
    {
     "name": "stdout",
     "output_type": "stream",
     "text": [
      "i= 10\n",
      "i= 9\n",
      "i= 8\n",
      "i= 7\n",
      "i= 6\n",
      "i= 5\n",
      "i= 4\n",
      "i= 3\n",
      "i= 2\n"
     ]
    }
   ],
   "source": [
    "for i in range(10,1, -1):\n",
    "    print('i=', i)"
   ]
  },
  {
   "cell_type": "markdown",
   "id": "3cb7f2c0",
   "metadata": {},
   "source": [
    "And once again, note how END is not reached with a -1=*jump size*. This is quite confusing about Python, so get used to it. range() DOES respect ORDER though, so even if the same numbers indices are involved (namely, 0, 2, 4, 6 vs 6, 4, 2, 0) the following evaluates to FALSE:"
   ]
  },
  {
   "cell_type": "code",
   "execution_count": 28,
   "id": "db5f980a",
   "metadata": {},
   "outputs": [
    {
     "data": {
      "text/plain": [
       "False"
      ]
     },
     "execution_count": 28,
     "metadata": {},
     "output_type": "execute_result"
    }
   ],
   "source": [
    "range(0,7,2)==range(6,-1, -2)"
   ]
  },
  {
   "cell_type": "markdown",
   "id": "da268331",
   "metadata": {},
   "source": [
    "# Array indexing\n",
    "We now show some of the basic ways to access elements of NumPy arrays. Take special note of where indices begin and end when they are selected."
   ]
  },
  {
   "cell_type": "code",
   "execution_count": 29,
   "id": "729bdfa4",
   "metadata": {},
   "outputs": [
    {
     "name": "stdout",
     "output_type": "stream",
     "text": [
      "[0 1 2 3 4 5 6 7 8 9]\n"
     ]
    }
   ],
   "source": [
    "# Illustrate np.arange(), which is like range() but for array creation\n",
    "arr=np.arange(10)\n",
    "print(arr)"
   ]
  },
  {
   "cell_type": "code",
   "execution_count": 30,
   "id": "1fdea84c",
   "metadata": {},
   "outputs": [
    {
     "data": {
      "text/plain": [
       "0"
      ]
     },
     "execution_count": 30,
     "metadata": {},
     "output_type": "execute_result"
    }
   ],
   "source": [
    "arr[0]"
   ]
  },
  {
   "cell_type": "code",
   "execution_count": 31,
   "id": "5a3f9d00",
   "metadata": {},
   "outputs": [
    {
     "data": {
      "text/plain": [
       "array([6, 7, 8])"
      ]
     },
     "execution_count": 31,
     "metadata": {},
     "output_type": "execute_result"
    }
   ],
   "source": [
    "arr[6:9]  # <---note does not include upper index, element arr[9] when displaying below:"
   ]
  },
  {
   "cell_type": "code",
   "execution_count": 32,
   "id": "f44e8c52",
   "metadata": {},
   "outputs": [
    {
     "name": "stdout",
     "output_type": "stream",
     "text": [
      "[13 13  2  3  4  5  6  7  8  9]\n"
     ]
    }
   ],
   "source": [
    "arr[0:2]=13  #re-assignment of a subset of the array's elements \n",
    "print(arr)"
   ]
  },
  {
   "cell_type": "markdown",
   "id": "32507c57",
   "metadata": {},
   "source": [
    "## Array Slicing\n",
    "Using notation like arr\\[6:9\\] generates a subslice of the array arr from its indices \\[6,9) or 6,7,8. For a two-dimensional array, we show what slicing can do:"
   ]
  },
  {
   "cell_type": "code",
   "execution_count": 33,
   "id": "a3bec4cc",
   "metadata": {},
   "outputs": [
    {
     "name": "stdout",
     "output_type": "stream",
     "text": [
      "[[1 2 3]\n",
      " [4 5 6]\n",
      " [7 8 9]]\n"
     ]
    }
   ],
   "source": [
    "arr2d=np.array([[1,2,3],[4,5,6],[7,8,9]] )\n",
    "print(arr2d)"
   ]
  },
  {
   "cell_type": "markdown",
   "id": "dcfd2d35",
   "metadata": {},
   "source": [
    "Note that these are equivalent ways to access this array's elements:"
   ]
  },
  {
   "cell_type": "code",
   "execution_count": 34,
   "id": "74ac620e",
   "metadata": {},
   "outputs": [
    {
     "data": {
      "text/plain": [
       "2"
      ]
     },
     "execution_count": 34,
     "metadata": {},
     "output_type": "execute_result"
    }
   ],
   "source": [
    "arr2d[0][1]"
   ]
  },
  {
   "cell_type": "code",
   "execution_count": 35,
   "id": "1fa8bc13",
   "metadata": {},
   "outputs": [
    {
     "data": {
      "text/plain": [
       "2"
      ]
     },
     "execution_count": 35,
     "metadata": {},
     "output_type": "execute_result"
    }
   ],
   "source": [
    "arr2d[0,1]"
   ]
  },
  {
   "cell_type": "markdown",
   "id": "bbf92930",
   "metadata": {},
   "source": [
    "This is because"
   ]
  },
  {
   "cell_type": "code",
   "execution_count": 36,
   "id": "da6c4cd5",
   "metadata": {},
   "outputs": [
    {
     "data": {
      "text/plain": [
       "array([1, 2, 3])"
      ]
     },
     "execution_count": 36,
     "metadata": {},
     "output_type": "execute_result"
    }
   ],
   "source": [
    "arr2d[0]"
   ]
  },
  {
   "cell_type": "markdown",
   "id": "edcd2256",
   "metadata": {},
   "source": [
    "So that arr2d\\[0\\]\\[1\\] accesses element 1 of arr2d\\[0\\]. Now a bit more slicing techniques:"
   ]
  },
  {
   "cell_type": "code",
   "execution_count": 37,
   "id": "d540c0fd",
   "metadata": {},
   "outputs": [
    {
     "data": {
      "text/plain": [
       "array([2, 5, 8])"
      ]
     },
     "execution_count": 37,
     "metadata": {},
     "output_type": "execute_result"
    }
   ],
   "source": [
    "arr2d[:, 1]"
   ]
  },
  {
   "cell_type": "markdown",
   "id": "4c8c6296",
   "metadata": {},
   "source": [
    "The previous means \"all rows of column 1\", which **it prints as a row vector**. You can transpose an array using arr2d.T. Print it out to see. In the case of a vector, it displays it as a row vector even after transposing though. It is to the Python interpreter treated as the transpose though, even if it prints out the same"
   ]
  },
  {
   "cell_type": "code",
   "execution_count": 40,
   "id": "2faf1d60",
   "metadata": {},
   "outputs": [
    {
     "name": "stdout",
     "output_type": "stream",
     "text": [
      "[[1 4 7]\n",
      " [2 5 8]\n",
      " [3 6 9]]\n",
      "[2 5 8]\n",
      "[2 5 8]\n"
     ]
    }
   ],
   "source": [
    "print(arr2d.T)\n",
    "vector=arr2d[:, 1]\n",
    "print(vector.T)\n",
    "print(vector)"
   ]
  },
  {
   "cell_type": "markdown",
   "id": "fd69c16e",
   "metadata": {},
   "source": [
    "Note the use of indexing like:"
   ]
  },
  {
   "cell_type": "code",
   "execution_count": 41,
   "id": "f8863ad5",
   "metadata": {},
   "outputs": [
    {
     "data": {
      "text/plain": [
       "array([[2, 3],\n",
       "       [5, 6]])"
      ]
     },
     "execution_count": 41,
     "metadata": {},
     "output_type": "execute_result"
    }
   ],
   "source": [
    "arr2d[:2, 1:]"
   ]
  },
  {
   "cell_type": "markdown",
   "id": "c25f83a9",
   "metadata": {},
   "source": [
    "# About numerical accuracy on computers\n",
    "\n",
    "Care must be taken when one starts to learn how to implement numerical analysis techniques on a computer and program algorithms, because some basic mathematical rules we take for granted, are not so straightforward on a computer. It all comes down to the way in which numbers are represented in a computer, a finite digit machine. "
   ]
  },
  {
   "cell_type": "code",
   "execution_count": null,
   "id": "371822a6",
   "metadata": {},
   "outputs": [],
   "source": []
  },
  {
   "cell_type": "code",
   "execution_count": null,
   "id": "6d2fe534",
   "metadata": {},
   "outputs": [],
   "source": []
  },
  {
   "cell_type": "code",
   "execution_count": 43,
   "id": "c5df7ad9",
   "metadata": {},
   "outputs": [
    {
     "name": "stdout",
     "output_type": "stream",
     "text": [
      "0.1 is not 1.0\n",
      "False\n",
      "0.2 is not 1.0\n",
      "False\n",
      "0.30000000000000004 is not 1.0\n",
      "False\n",
      "0.4 is not 1.0\n",
      "False\n",
      "0.5 is not 1.0\n",
      "False\n",
      "0.6 is not 1.0\n",
      "False\n",
      "0.7 is not 1.0\n",
      "False\n",
      "0.7999999999999999 is not 1.0\n",
      "False\n",
      "0.8999999999999999 is not 1.0\n",
      "False\n",
      "0.9999999999999999 is not 1.0\n",
      "False\n"
     ]
    }
   ],
   "source": [
    "x=0.0\n",
    "for i in range(10):\n",
    "    x=x+0.1\n",
    "    if x==1.0:  #careful when running \"equality tests\"\n",
    "        print(x, '=1.0')\n",
    "    else:\n",
    "        print(x, 'is not 1.0')\n",
    "        print(x==10.0*0.1)\n",
    "            "
   ]
  },
  {
   "cell_type": "markdown",
   "id": "6c48d577",
   "metadata": {},
   "source": [
    "The previous code snippet is saying that, to the Python interpreter, it is false that \n",
    "$\\underbrace{0.1+0.1+\\cdots +0.1}_{10\\;\\text{times}}=10.0*(0.1)$! For the record, note that to the Python shell, running 10.0*(0.1) gives"
   ]
  },
  {
   "cell_type": "code",
   "execution_count": 44,
   "id": "965ac7b2",
   "metadata": {},
   "outputs": [
    {
     "name": "stdout",
     "output_type": "stream",
     "text": [
      "1.0\n"
     ]
    }
   ],
   "source": [
    "number=10.0*(0.1)\n",
    "print(number)"
   ]
  },
  {
   "cell_type": "markdown",
   "id": "1fa14588",
   "metadata": {},
   "source": [
    "This simple example shows how we cannot take for granted that what we learned in elementary school math holds on a computer. For the Python interpreter, adding ten times 0.1, is not the same as multiplying 0.1 by 10. \n",
    "\n",
    "Of course, before you decide to quit numerical analysis, or lose hope in programming with numbers involved, we must try to understand what is happening here.\n",
    "\n",
    "The lesson here is that **one must worry about tests for numerical EQUALITY**. As seen above, using == to compare two floating point numbers can produce unintuitive results, and it can be easy for the non-experienced to forget these simple nuances.\n",
    "\n",
    "It is almost always more appropriate to ask whether two floating point numbers are **close enough to each other, and not if they are \"identical\"**. It's better to ask if abs(x-y)<0.0001, rather than if x==y. "
   ]
  },
  {
   "cell_type": "code",
   "execution_count": null,
   "id": "b7ba5cdd",
   "metadata": {},
   "outputs": [],
   "source": [
    "x=0  #just noticing it still happens even if I write x=0 (integer?)\n",
    "for i in range(10):\n",
    "    x=x+0.1  #<---I think this line creates the conversion of x to float\n",
    "    if x==1:\n",
    "        print(x, '=1.0')\n",
    "    else:\n",
    "        print(x, 'is not 1.0')\n",
    "        print(x==10.0*0.1)"
   ]
  },
  {
   "cell_type": "markdown",
   "id": "cf031520",
   "metadata": {},
   "source": [
    "The reason this happens is because of the binary representation of the numbers in the computer. Remember that an integer $x$ can be represented in binary as\n",
    "$$x=\\sum_{j=0}d_j 2^j.$$ For instance, the number 6 is \n",
    "$$6=1*2^2+1*2^1+ 0*2^0, $$ which is written in binary as 110, where here 0 is the rightmost bit, corresponding to $0*2^0$, and the leftmost bit of 1 indicates the highest power of 2 involved was $2^2$. \n",
    "\n",
    "Now, in normal (to us humans, since elementary school) decimal point notation, we can represent the number 1.949 as the pair $(1949, -3)$ which is shorthand for\n",
    "$$1.949=1949*10^{-3}$$\n",
    "\n",
    "The number of significant digits determines the precision with which numbers can be represented. If there were only *two significant digits*, the number 1.949 would not be possible to represent exactly. Best we would be able to do is to approximate it as 1.9, or in the pair notation: $(19, -1)$. This is called the rounded value.\n",
    "\n",
    "Back to binary notation, the significant digits and exponents (exponent to which we raise 2) are expressed in binary notation. For example, the number 0.625=5/8 is represented as\n",
    "$$.625\\Leftrightarrow (101, -11)$$ because 101 is the binary representation of 5 and -11 the binary representation of -3, so the pair\n",
    "$$(101, -11)\\Leftrightarrow  5*2^{-3}=5/8=0.625$$\n",
    "\n",
    "# Mini exercise:\n",
    "* Convince yourself that there do not exist integers $s, e\\in\\mathbb{Z}$ such that\n",
    "$$0.1=s\\cdot 2^e$$\n",
    "\n",
    "So no matter how many bits Python, or any other programming language use to represent floating-point numbers, it can only approximate 0.1. If one checks the best approximation Python can do to 0.1, most likely it is slightly larger than 0.1. \n",
    "\n",
    "But still, the loop above gave us a number SMALLER than 1.0! This is because Python had to do some additional rounding downwards during the loop."
   ]
  },
  {
   "cell_type": "markdown",
   "id": "06080619",
   "metadata": {},
   "source": [
    "# Don't lose sleep over the previous\n",
    "\n",
    "The previous is no reason to become a paranoid though. It only means we have to be a little bit careful. The commonly/widespread used functions or the ones coming in common Python distributions and packages like numpy, scipy, etc have been built to be safe and deal with these numerical problems one can potentially face. Checking a statement like the residue of dividing, say 132 by 11 and 12 and using 132%12==0 and 132%11==0, is a safe thing to do, for instance: "
   ]
  },
  {
   "cell_type": "code",
   "execution_count": 45,
   "id": "9595264b",
   "metadata": {},
   "outputs": [
    {
     "name": "stdout",
     "output_type": "stream",
     "text": [
      "132 is divisible by 11 and 12\n"
     ]
    }
   ],
   "source": [
    "x=1\n",
    "while True: \n",
    "    if x%11==0 and x%12==0:\n",
    "        break   # <---note a FOR or WHILE loop can be exited using BREAK\n",
    "    x=x+1\n",
    "print(x, 'is divisible by 11 and 12')"
   ]
  },
  {
   "cell_type": "markdown",
   "id": "ad7d651d",
   "metadata": {},
   "source": [
    "...The previous is not something to fear because implicitly, the modulo function % used on the integers in the previous WHILE loop is designed to work with Python's concept of what it really means (i.e., what it numerically, DIGITALLY means) to have 132%12==0. Likewise for other of Python's base functions and those in widely used packages that have stood the test of time. But not every program is well-designed, or tested enough to handle these potential numerical surprises, (sometimes there is a reason to be willing to run the risk of potential numerical confusions) and so it is in certain cases, like the ones illsutrated above, that we must be careful about using an == sign when trying to compare values that could have critical consequences. "
   ]
  },
  {
   "cell_type": "code",
   "execution_count": null,
   "id": "a087a942",
   "metadata": {},
   "outputs": [],
   "source": []
  }
 ],
 "metadata": {
  "kernelspec": {
   "display_name": "Python 3",
   "language": "python",
   "name": "python3"
  },
  "language_info": {
   "codemirror_mode": {
    "name": "ipython",
    "version": 3
   },
   "file_extension": ".py",
   "mimetype": "text/x-python",
   "name": "python",
   "nbconvert_exporter": "python",
   "pygments_lexer": "ipython3",
   "version": "3.8.8"
  }
 },
 "nbformat": 4,
 "nbformat_minor": 5
}
