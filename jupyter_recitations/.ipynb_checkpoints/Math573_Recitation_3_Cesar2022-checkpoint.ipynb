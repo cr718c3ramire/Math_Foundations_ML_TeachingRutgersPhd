{
 "cells": [
  {
   "cell_type": "markdown",
   "id": "7d2ac8ae",
   "metadata": {},
   "source": [
    "# Numpy array dimensions and shapes\n",
    "\n",
    "As noted in the last recitation, the concept of \"array dimension\" means something perhaps slightly different from what we have in mind from vector calculus or standard undergraduate linear algebra courses. For example, note the dimensions of the following arrays"
   ]
  },
  {
   "cell_type": "code",
   "execution_count": 1,
   "id": "00e9f37a",
   "metadata": {},
   "outputs": [
    {
     "name": "stdout",
     "output_type": "stream",
     "text": [
      "v= [1. 1. 1. 1. 1. 1. 1. 1. 1. 1.] , has Python array dimension v.ndim= 1  and array shape v.shape= (10,) \n",
      "\n",
      "\n",
      "the transpose of v does nothing to it when it has dimensions like (n,): \n",
      " v.T= [1. 1. 1. 1. 1. 1. 1. 1. 1. 1.]\n",
      "------------------------------------------------------------------------------------------------------ \n",
      "\n",
      "On the other hand:\n",
      " v2= [[1. 1. 1. 1. 1. 1. 1. 1. 1. 1.]] , has Python array dimension v2.ndim= 2  and array shape v2.shape= (1, 10) \n",
      "\n",
      "\n",
      "This time transposing v2 does the following: \n",
      " v2.T= [[1.]\n",
      " [1.]\n",
      " [1.]\n",
      " [1.]\n",
      " [1.]\n",
      " [1.]\n",
      " [1.]\n",
      " [1.]\n",
      " [1.]\n",
      " [1.]]\n",
      "------------------------------------------------------------------------------------------------------ \n",
      "\n"
     ]
    }
   ],
   "source": [
    "import numpy as np\n",
    "\n",
    "v=np.ones(10)\n",
    "print('v=', v, ', has Python array dimension v.ndim=', v.ndim, ' and array shape v.shape=', v.shape, '\\n\\n')\n",
    "#transposing an array with dimensions (n,) does nothing to it\n",
    "print('the transpose of v does nothing to it when it has dimensions like (n,): \\n v.T=', v.T)\n",
    "print('------------------------------------------------------------------------------------------------------ \\n')\n",
    "v2=np.ones((1,10))\n",
    "print('On the other hand:\\n v2=', v2, ', has Python array dimension v2.ndim=', v2.ndim, \n",
    "      ' and array shape v2.shape=', v2.shape, '\\n\\n')\n",
    "print('This time transposing v2 does the following: \\n v2.T=', v2.T)\n",
    "print('------------------------------------------------------------------------------------------------------ \\n')"
   ]
  },
  {
   "cell_type": "markdown",
   "id": "111031c4",
   "metadata": {},
   "source": [
    "Therefore it is important to understand what dimension of an array means in Python. Note how it encloses vector v above with only one pair of square brackets '\\[ \\]', while for the numpy array v2, it encloses it in **double** square braces '\\[\\[  \\]\\]'. What we consider \"a vector\", namely, v, is considered by Python to have **shape** in the form (n,) and array dimension v.ndim=1. \n",
    "\n",
    "On the other hand, it considers v2 an array of shape (n,1) and v2.ndim=2. *it is important to get used to these minor-looking, but important differences in the way Python assigns things*. \n",
    "\n",
    "Note what we consider a matrix in our introductory linear algebra courses, is also considere to have array dimension .ndim=2:"
   ]
  },
  {
   "cell_type": "code",
   "execution_count": 2,
   "id": "602c6b15",
   "metadata": {},
   "outputs": [
    {
     "name": "stdout",
     "output_type": "stream",
     "text": [
      "A= [[1. 0. 0. 0. 0.]\n",
      " [0. 1. 0. 0. 0.]\n",
      " [0. 0. 1. 0. 0.]\n",
      " [0. 0. 0. 1. 0.]\n",
      " [0. 0. 0. 0. 1.]] \n",
      "\n",
      "A has array dimension A.ndim= 2\n"
     ]
    }
   ],
   "source": [
    "A=np.eye(5)\n",
    "print('A=', A, '\\n')\n",
    "print('A has array dimension A.ndim=', A.ndim)"
   ]
  },
  {
   "cell_type": "markdown",
   "id": "785c5623",
   "metadata": {},
   "source": [
    "Nonetheless what matters to make the distinction between v2 and A is that A has different **shape** from that of v2:"
   ]
  },
  {
   "cell_type": "code",
   "execution_count": 3,
   "id": "a4832cd0",
   "metadata": {},
   "outputs": [
    {
     "name": "stdout",
     "output_type": "stream",
     "text": [
      "A.shape= (5, 5)  while v2.shape= (1, 10)\n"
     ]
    }
   ],
   "source": [
    "print('A.shape=', A.shape, ' while v2.shape=', v2.shape)"
   ]
  },
  {
   "cell_type": "markdown",
   "id": "775da9ea",
   "metadata": {},
   "source": [
    "## Turning a row numpy array (1,n) into a column array (n,1):\n",
    "\n",
    "Note if we use the following reshape command, it turns v2 into a numpy column array:"
   ]
  },
  {
   "cell_type": "code",
   "execution_count": 4,
   "id": "8d4500cc",
   "metadata": {},
   "outputs": [
    {
     "name": "stdout",
     "output_type": "stream",
     "text": [
      "Initially v2= [[1. 1. 1. 1. 1. 1. 1. 1. 1. 1.]]  with v2.shape= (1, 10) \n",
      "\n",
      "After reshaping, v2=\n",
      " [[1.]\n",
      " [1.]\n",
      " [1.]\n",
      " [1.]\n",
      " [1.]\n",
      " [1.]\n",
      " [1.]\n",
      " [1.]\n",
      " [1.]\n",
      " [1.]] \n",
      "\n",
      "v2 now has properties: v2.shape= (10, 1) \n",
      " Of course it is still the case that v2.ndim= 2\n"
     ]
    }
   ],
   "source": [
    "v2=np.ones((1,10))\n",
    "print('Initially v2=', v2, ' with v2.shape=', v2.shape, '\\n')\n",
    "v2=v2.reshape(10,1)\n",
    "print('After reshaping, v2=\\n', v2, '\\n')\n",
    "print('v2 now has properties: v2.shape=', v2.shape, '\\n Of course it is still the case that v2.ndim=', v2.ndim)"
   ]
  },
  {
   "cell_type": "markdown",
   "id": "7b2923bb",
   "metadata": {},
   "source": [
    "**Observation:** *The previous reshaping method required knowing the shape of v2, namely, knowing that it had 10 columns in v2.shape=(1,10)*. It will not always be easy to know the shape of an array after manipulations or being modified by functions. \n",
    "\n",
    "One could ask for v2.shape to extract v2's (# rows, #columns) parameters. Another way is to just reshape v2 from a row array to a column array using the \"strange syntax\" reshape(-1,1) as follows:"
   ]
  },
  {
   "cell_type": "code",
   "execution_count": 5,
   "id": "89b8e253",
   "metadata": {},
   "outputs": [
    {
     "name": "stdout",
     "output_type": "stream",
     "text": [
      "Initially v2= [[1. 1. 1. 1. 1. 1. 1. 1. 1. 1.]] \n",
      "\n",
      "Now v2=\n",
      " [[1.]\n",
      " [1.]\n",
      " [1.]\n",
      " [1.]\n",
      " [1.]\n",
      " [1.]\n",
      " [1.]\n",
      " [1.]\n",
      " [1.]\n",
      " [1.]]\n"
     ]
    }
   ],
   "source": [
    "v2=np.ones((1,10))\n",
    "print('Initially v2=', v2, '\\n')\n",
    "v2=v2.reshape(-1,1) #<---this reshaping has the advantage that you do not require to know the shape of v2\n",
    "print('Now v2=\\n', v2)"
   ]
  },
  {
   "cell_type": "markdown",
   "id": "bc2ccdf4",
   "metadata": {},
   "source": [
    " # What about numpy arrays with shape (n, )?\n",
    " \n",
    "Using the reshape method, you can upgrade a vector type array v of v.ndim=1 and v.shape=(n,) to act like a row or column vector v' with new parameters v'.ndim=2, v'.shape=(1,n) or v'.shape=(n,1), respectively. \n",
    "\n",
    "*NOTES:\n",
    "1. WE SHOW the reshape(1,-1) makes a row vector, and reshape(-1,1) makes a column vector. \n",
    "2. Just typing v.reshape(-1,1) does not reshape v. It creates something like a copy of v and reshapes that copy, but does not modify v. You must type v=v.reshape(-1,1)"
   ]
  },
  {
   "cell_type": "code",
   "execution_count": 6,
   "id": "d14e3ab1",
   "metadata": {},
   "outputs": [
    {
     "name": "stdout",
     "output_type": "stream",
     "text": [
      "v= [1. 1. 1. 1. 1. 1. 1. 1. 1. 1.]  initially has Python array dimension v.ndim= 1  and array shape v.shape= (10,) \n",
      "\n",
      "\n",
      "the transpose of v does nothing to it when it has dimensions like (n,): \n",
      " v.T= [1. 1. 1. 1. 1. 1. 1. 1. 1. 1.]\n",
      "------------------------------------------------------------------------------------------------------ \n",
      "\n",
      "v= [[1. 1. 1. 1. 1. 1. 1. 1. 1. 1.]] now has has v.ndim= 2 and array shape v.shape= (1, 10) \n",
      "\n",
      "\n",
      "the transpose of v now does the following:\n",
      " v.T=\n",
      " [[1.]\n",
      " [1.]\n",
      " [1.]\n",
      " [1.]\n",
      " [1.]\n",
      " [1.]\n",
      " [1.]\n",
      " [1.]\n",
      " [1.]\n",
      " [1.]]\n",
      "------------------------------------------------------------------------------------------------------ \n",
      "\n"
     ]
    }
   ],
   "source": [
    "v=np.ones(10)\n",
    "\n",
    "print('v=', v, ' initially has Python array dimension v.ndim=', v.ndim, ' and array shape v.shape=', v.shape, '\\n\\n')\n",
    "#transposing an array with dimensions (n,) does nothing to it\n",
    "print('the transpose of v does nothing to it when it has dimensions like (n,): \\n v.T=', v.T)\n",
    "print('------------------------------------------------------------------------------------------------------ \\n')\n",
    "\n",
    "v=v.reshape(1,-1) #<---turns v into row type numpy array\n",
    "print('v=', v, 'now has has v.ndim=', v.ndim, 'and array shape v.shape=', v.shape, '\\n\\n')\n",
    "#transposing an array with dimensions (n,) does nothing to it\n",
    "print('the transpose of v now does the following:\\n v.T=\\n', v.T)\n",
    "print('------------------------------------------------------------------------------------------------------ \\n')\n"
   ]
  },
  {
   "cell_type": "code",
   "execution_count": 7,
   "id": "0ea46e5c",
   "metadata": {},
   "outputs": [
    {
     "name": "stdout",
     "output_type": "stream",
     "text": [
      "v= [1. 1. 1. 1. 1. 1. 1. 1. 1. 1.] originally has v.ndim= 1 and v.shape= (10,) \n",
      "\n",
      "v= [[1.]\n",
      " [1.]\n",
      " [1.]\n",
      " [1.]\n",
      " [1.]\n",
      " [1.]\n",
      " [1.]\n",
      " [1.]\n",
      " [1.]\n",
      " [1.]] now has has v.ndim= 2 and array shape v.shape= (10, 1) \n",
      "\n",
      "\n",
      "the transpose of v now does the following:\n",
      " v.T=\n",
      " [[1. 1. 1. 1. 1. 1. 1. 1. 1. 1.]]\n",
      "------------------------------------------------------------------------------------------------------ \n",
      "\n"
     ]
    }
   ],
   "source": [
    "v=np.ones(10)\n",
    "print('v=', v, 'originally has v.ndim=', v.ndim, 'and v.shape=', v.shape, '\\n')\n",
    "v=v.reshape(-1,1) #<---now a column array\n",
    "print('v=', v, 'now has has v.ndim=', v.ndim, 'and array shape v.shape=', v.shape, '\\n\\n')\n",
    "#transposing an array with dimensions (n,) does nothing to it\n",
    "print('the transpose of v now does the following:\\n v.T=\\n', v.T)\n",
    "print('------------------------------------------------------------------------------------------------------ \\n')\n"
   ]
  },
  {
   "cell_type": "markdown",
   "id": "4e39202a",
   "metadata": {},
   "source": [
    " Another quick method, which you might see in other codes, is to use the argument np.newaxis parameter. It adds a new dimension to an array. We illustrate the difference between v\\[np.newaxis, :\\] and v\\[:,np.newaxis\\] as follows"
   ]
  },
  {
   "cell_type": "code",
   "execution_count": 8,
   "id": "930b9bae",
   "metadata": {},
   "outputs": [
    {
     "name": "stdout",
     "output_type": "stream",
     "text": [
      "v= [1. 1. 1. 1. 1. 1. 1. 1. 1. 1.] originally has v.ndim= 1 and v.shape= (10,) \n",
      "\n",
      "v= [[1. 1. 1. 1. 1. 1. 1. 1. 1. 1.]] now has has v.ndim= 2 and array shape v.shape= (1, 10) \n",
      "\n",
      "\n"
     ]
    }
   ],
   "source": [
    "v=np.ones(10)\n",
    "print('v=', v, 'originally has v.ndim=', v.ndim, 'and v.shape=', v.shape, '\\n')\n",
    "v=v[np.newaxis, :] #<---turns v into a row array this time, with higher dimension\n",
    "print('v=', v, 'now has has v.ndim=', v.ndim, 'and array shape v.shape=', v.shape, '\\n\\n')\n",
    " "
   ]
  },
  {
   "cell_type": "code",
   "execution_count": 9,
   "id": "786e3c10",
   "metadata": {},
   "outputs": [
    {
     "name": "stdout",
     "output_type": "stream",
     "text": [
      "v= [1. 1. 1. 1. 1. 1. 1. 1. 1. 1.] \n",
      "\n",
      "v= [[1.]\n",
      " [1.]\n",
      " [1.]\n",
      " [1.]\n",
      " [1.]\n",
      " [1.]\n",
      " [1.]\n",
      " [1.]\n",
      " [1.]\n",
      " [1.]] now has has v.ndim= 2 and array shape v.shape= (10, 1) \n",
      "\n",
      "\n"
     ]
    }
   ],
   "source": [
    "v=np.ones(10)\n",
    "print('v=', v, '\\n')\n",
    "v=v[:, np.newaxis] #<---turns v into a column array this time\n",
    "print('v=', v, 'now has has v.ndim=', v.ndim, 'and array shape v.shape=', v.shape, '\\n\\n')"
   ]
  },
  {
   "cell_type": "markdown",
   "id": "a5c71f67",
   "metadata": {},
   "source": [
    "# Multiplying arrays with np.dot(A,B) or np.matmul(A,B):\n",
    "(Do not reshape, unless abolutely necessary!)\n",
    "\n",
    "As mentioned in class last time, Python can take the inner products of two arrays v1 and v2 of vi.ndim=1 with vi.shape=(n,) **without having to reshape them!**. We illustrate this with a matrix, we extract rows and columns of it and we note that we do not have to reshape anything since **by default, numpy takes rows and columns of arrays as being 1-dimensional numpy arrays with shapes of type (n,)!**\n",
    "\n"
   ]
  },
  {
   "cell_type": "code",
   "execution_count": 10,
   "id": "4d8fc4c7",
   "metadata": {},
   "outputs": [
    {
     "name": "stdout",
     "output_type": "stream",
     "text": [
      "A.shape= (3, 3) \n",
      "\n",
      "v1= [1 2 3] with v1.shape= (3,)\n",
      "w1= [1 4 7] with w1.shape= (3,)\n"
     ]
    }
   ],
   "source": [
    "A=np.array([\n",
    "    [1,2,3],\n",
    "    [4,5,6],\n",
    "    [7,8,9]\n",
    "])\n",
    "print('A.shape=', A.shape, '\\n')\n",
    "\n",
    "v1=A[0,:]\n",
    "print('v1=', v1, 'with v1.shape=', v1.shape)\n",
    "w1=A[:,0]\n",
    "print('w1=', w1, 'with w1.shape=', w1.shape)"
   ]
  },
  {
   "cell_type": "markdown",
   "id": "a230db65",
   "metadata": {},
   "source": [
    "Note in the above cell that it treats v1 and w1 as having the same shape! Even though v1 was extracted from the first row of A and w1 from the first **column** of A! That is why np.dot(v1,w1) or np.matmul(v1,w1) both work and essentially take the inner product both:"
   ]
  },
  {
   "cell_type": "code",
   "execution_count": 11,
   "id": "da6a7a8c",
   "metadata": {},
   "outputs": [
    {
     "name": "stdout",
     "output_type": "stream",
     "text": [
      "np.dot(v1,w1)= 30\n",
      "np.matmul(v1,w1)= 30\n"
     ]
    }
   ],
   "source": [
    "print('np.dot(v1,w1)=', np.dot(v1,w1))\n",
    "print('np.matmul(v1,w1)=', np.matmul(v1,w1))"
   ]
  },
  {
   "cell_type": "markdown",
   "id": "6e82c029",
   "metadata": {},
   "source": [
    "So, under what numpy calls a 1 dimensional array, if v1 and w1 have the same shape, it treats their product as an inner product! **But only because they are one-dimensional numpy arrays.**\n",
    "\n",
    "Trouble breaks loose if I had tried to reshape to the same shape when they are **first upgraded to two-dimensional arrays with the same shape!** In other words, note what happens and we get ERROR MESSAGE:"
   ]
  },
  {
   "cell_type": "code",
   "execution_count": 12,
   "id": "fbe906e5",
   "metadata": {},
   "outputs": [
    {
     "ename": "ValueError",
     "evalue": "shapes (3,1) and (3,1) not aligned: 1 (dim 1) != 3 (dim 0)",
     "output_type": "error",
     "traceback": [
      "\u001b[0;31m---------------------------------------------------------------------------\u001b[0m",
      "\u001b[0;31mValueError\u001b[0m                                Traceback (most recent call last)",
      "\u001b[0;32m<ipython-input-12-d3e13ca4be2e>\u001b[0m in \u001b[0;36m<module>\u001b[0;34m\u001b[0m\n\u001b[1;32m      3\u001b[0m \u001b[0mv1\u001b[0m\u001b[0;34m=\u001b[0m\u001b[0mv1\u001b[0m\u001b[0;34m.\u001b[0m\u001b[0mreshape\u001b[0m\u001b[0;34m(\u001b[0m\u001b[0;34m-\u001b[0m\u001b[0;36m1\u001b[0m\u001b[0;34m,\u001b[0m\u001b[0;36m1\u001b[0m\u001b[0;34m)\u001b[0m\u001b[0;34m\u001b[0m\u001b[0;34m\u001b[0m\u001b[0m\n\u001b[1;32m      4\u001b[0m \u001b[0mw1\u001b[0m\u001b[0;34m=\u001b[0m\u001b[0mw1\u001b[0m\u001b[0;34m.\u001b[0m\u001b[0mreshape\u001b[0m\u001b[0;34m(\u001b[0m\u001b[0;34m-\u001b[0m\u001b[0;36m1\u001b[0m\u001b[0;34m,\u001b[0m\u001b[0;36m1\u001b[0m\u001b[0;34m)\u001b[0m\u001b[0;34m\u001b[0m\u001b[0;34m\u001b[0m\u001b[0m\n\u001b[0;32m----> 5\u001b[0;31m \u001b[0mnp\u001b[0m\u001b[0;34m.\u001b[0m\u001b[0mdot\u001b[0m\u001b[0;34m(\u001b[0m\u001b[0mv1\u001b[0m\u001b[0;34m,\u001b[0m\u001b[0mw1\u001b[0m\u001b[0;34m)\u001b[0m \u001b[0;31m#<---same with np.matmul()\u001b[0m\u001b[0;34m\u001b[0m\u001b[0;34m\u001b[0m\u001b[0m\n\u001b[0m",
      "\u001b[0;32m<__array_function__ internals>\u001b[0m in \u001b[0;36mdot\u001b[0;34m(*args, **kwargs)\u001b[0m\n",
      "\u001b[0;31mValueError\u001b[0m: shapes (3,1) and (3,1) not aligned: 1 (dim 1) != 3 (dim 0)"
     ]
    }
   ],
   "source": [
    "#THIS GIVES ERROR MESSAGE!\n",
    "\n",
    "v1=v1.reshape(-1,1)\n",
    "w1=w1.reshape(-1,1)\n",
    "np.dot(v1,w1) #<---same with np.matmul()"
   ]
  },
  {
   "cell_type": "markdown",
   "id": "85d12b82",
   "metadata": {},
   "source": [
    "This is because now, for what Python denotes as 2-dimensional numpy arrays, we call these in linear algebra matrices. And matrices need to have: for AB to be defined, we require #(columns A)=#(rows B). Thus the following now works:"
   ]
  },
  {
   "cell_type": "code",
   "execution_count": 13,
   "id": "125aaa9b",
   "metadata": {},
   "outputs": [
    {
     "name": "stdout",
     "output_type": "stream",
     "text": [
      "np.dot(v1,w1)= outer product of v1 and w1= \n",
      " [[ 1  4  7]\n",
      " [ 2  8 14]\n",
      " [ 3 12 21]]\n",
      "\n",
      "\n",
      "np.dot(w1,v1)= inner product of w1 and v1=\n",
      " [[30]]\n"
     ]
    }
   ],
   "source": [
    "v1=v1.reshape(-1,1)\n",
    "w1=w1.reshape(1,-1)\n",
    "print('np.dot(v1,w1)= outer product of v1 and w1= \\n', np.dot(v1,w1)) #<--outer product!\n",
    "print('\\n')\n",
    "print('np.dot(w1,v1)= inner product of w1 and v1=\\n', np.dot(w1,v1))#<---inner product! "
   ]
  },
  {
   "cell_type": "markdown",
   "id": "068a9dc9",
   "metadata": {},
   "source": [
    "# Why these Python conventions are of interest to us:\n",
    "\n",
    "These conventions are important to understand from the array manipulation standpoint because, for example, if I give you two arrays A, B and we want to do the outer product of a certain COLUMN of A with a certain ROW of B, we cannot just extract them so easily and use np.dot(COL,ROW), as the following shows:"
   ]
  },
  {
   "cell_type": "code",
   "execution_count": 14,
   "id": "ab476ece",
   "metadata": {},
   "outputs": [
    {
     "name": "stdout",
     "output_type": "stream",
     "text": [
      "A=\n",
      " [[1 2]\n",
      " [4 5]\n",
      " [7 8]] \n",
      "\n",
      "B=\n",
      " [[ 1  0 -1]\n",
      " [ 0  2  0]] \n",
      "\n",
      "column 0 of A is A[:,0]= [1 4 7] and row 1 of B is B[1,:]= [0 2 0]\n",
      "Thus np.dot(A[:,0], B[1,:])= 8 <---NOT OUTER PRODUCT!\n"
     ]
    }
   ],
   "source": [
    "A=A=np.array([\n",
    "    [1,2],\n",
    "    [4,5],\n",
    "    [7,8]\n",
    "])\n",
    "\n",
    "B=np.array([[1,0,-1],  [0, 2, 0]])\n",
    "print('A=\\n', A, '\\n')\n",
    "print('B=\\n', B, '\\n')\n",
    "\n",
    "print('column 0 of A is A[:,0]=', A[:,0], 'and row 1 of B is B[1,:]=', B[1,:])\n",
    "print('Thus np.dot(A[:,0], B[1,:])=', np.dot(A[:,0], B[1,:]), '<---NOT OUTER PRODUCT!')"
   ]
  },
  {
   "cell_type": "markdown",
   "id": "610bfd36",
   "metadata": {},
   "source": [
    "This is because, as mentioned above, **both rows and columns of a 2-dimensional numpy array are seen by Python as a 1-dimensional numpy array!** Thus it does not see them as having shapes like (3,1) and (1,3) respectively and does not compute an outer product!\n",
    "\n",
    "This is why reshape is useful. So we upgrade the columns and rows of interest to 2-dimensional arrays and now use np.dot():"
   ]
  },
  {
   "cell_type": "code",
   "execution_count": 15,
   "id": "560a0ccf",
   "metadata": {},
   "outputs": [
    {
     "name": "stdout",
     "output_type": "stream",
     "text": [
      "Now we can do the outer product and get:\n",
      "\n",
      " with column 0 of A:\n",
      "\n",
      " [[1]\n",
      " [4]\n",
      " [7]] \n",
      " and row 1 of B:  [[0 2 0]] \n",
      "\n",
      "\n",
      " we now have the outer product= np.dot(column_of_A, row_of_B)=\n",
      " [[ 0  2  0]\n",
      " [ 0  8  0]\n",
      " [ 0 14  0]]\n"
     ]
    }
   ],
   "source": [
    "column_of_A= A[:,0].reshape(-1,1)\n",
    "row_of_B=B[1,:].reshape(1,-1)\n",
    "print('Now we can do the outer product and get:\\n')\n",
    "print(' with column 0 of A:\\n\\n',  column_of_A, '\\n and row 1 of B: ', row_of_B, '\\n\\n')\n",
    "print(' we now have the outer product= np.dot(column_of_A, row_of_B)=\\n', np.dot(column_of_A, row_of_B))\n",
    " "
   ]
  },
  {
   "cell_type": "markdown",
   "id": "4f4c54e8",
   "metadata": {},
   "source": [
    "# Nonetheless:\n",
    "\n",
    "Even though Python sees stuff like np.array([0,0,1]) as a 1-dimensional numpy array, it still knows how to redefine a column of a 2-dimensional numpy array if necessary, or a row if necessary. It depends on using the correct row and column syntax wihin the 2-dimensional array:\n",
    "\n",
    "Suppose we want to change column A[:,1] by [0,0,1]^T, and then row 1 of A by [-3,-3]: "
   ]
  },
  {
   "cell_type": "code",
   "execution_count": 16,
   "id": "259f0562",
   "metadata": {},
   "outputs": [
    {
     "name": "stdout",
     "output_type": "stream",
     "text": [
      "Initially, A=\n",
      " [[1 2]\n",
      " [4 5]\n",
      " [7 8]] \n",
      "\n",
      "\n",
      "Now A=\n",
      " [[1 0]\n",
      " [4 0]\n",
      " [7 1]] \n",
      "\n",
      "\n",
      "Now A=\n",
      " [[ 1  0]\n",
      " [-3 -3]\n",
      " [ 7  1]] \n",
      "\n",
      "\n"
     ]
    }
   ],
   "source": [
    "A=A=np.array([\n",
    "    [1,2],\n",
    "    [4,5],\n",
    "    [7,8]\n",
    "])\n",
    "print('Initially, A=\\n', A, '\\n\\n')\n",
    "A[:,1]=np.array([0,0,1])\n",
    "print('Now A=\\n', A, '\\n\\n')\n",
    "\n",
    "A[1,:]=np.array([-3,-3])\n",
    "print('Now A=\\n', A, '\\n\\n')"
   ]
  },
  {
   "cell_type": "markdown",
   "id": "68b35dda",
   "metadata": {},
   "source": [
    " # Other manipulations, swapping rows and columns of an array\n",
    " \n",
    " Suppose we want to swap the first row of A with the last row of A. Note the interesting-looking way Python can do this, using the following syntax:"
   ]
  },
  {
   "cell_type": "code",
   "execution_count": 17,
   "id": "5bcc8550",
   "metadata": {},
   "outputs": [
    {
     "name": "stdout",
     "output_type": "stream",
     "text": [
      "A= [[1 2 3]\n",
      " [4 5 6]\n",
      " [7 8 9]] \n",
      "\n",
      "Now \n",
      " A= [[7 8 9]\n",
      " [4 5 6]\n",
      " [1 2 3]]\n"
     ]
    }
   ],
   "source": [
    "A=np.array([\n",
    "    [1,2,3],\n",
    "    [4,5,6],\n",
    "    [7,8,9]\n",
    "])\n",
    "\n",
    "print('A=', A, '\\n')\n",
    "\n",
    "A[[0,2],:]=A[[2,0],:] # for ROWS can also do A[[0,2]]=A[[2,0]]. \n",
    "print('Now \\n A=', A)"
   ]
  },
  {
   "cell_type": "markdown",
   "id": "ff74a248",
   "metadata": {},
   "source": [
    "For columns it is similar:"
   ]
  },
  {
   "cell_type": "code",
   "execution_count": 18,
   "id": "51bd2c39",
   "metadata": {},
   "outputs": [
    {
     "name": "stdout",
     "output_type": "stream",
     "text": [
      "After swapping colums 0 and 2, now A=\n",
      " [[9 8 7]\n",
      " [6 5 4]\n",
      " [3 2 1]]\n"
     ]
    }
   ],
   "source": [
    "A[:,[0,2]]=A[:,[2,0]] # for columns it always is A[:,[0,2]]=A[:,[2,0]] \n",
    "print('After swapping colums 0 and 2, now A=\\n', A)"
   ]
  },
  {
   "cell_type": "markdown",
   "id": "d40c3999",
   "metadata": {},
   "source": [
    " "
   ]
  },
  {
   "cell_type": "code",
   "execution_count": null,
   "id": "001e75a8",
   "metadata": {},
   "outputs": [],
   "source": [
    " "
   ]
  },
  {
   "cell_type": "code",
   "execution_count": null,
   "id": "6935348d",
   "metadata": {},
   "outputs": [],
   "source": []
  },
  {
   "cell_type": "code",
   "execution_count": null,
   "id": "effd95dd",
   "metadata": {},
   "outputs": [],
   "source": []
  }
 ],
 "metadata": {
  "kernelspec": {
   "display_name": "Python 3",
   "language": "python",
   "name": "python3"
  },
  "language_info": {
   "codemirror_mode": {
    "name": "ipython",
    "version": 3
   },
   "file_extension": ".py",
   "mimetype": "text/x-python",
   "name": "python",
   "nbconvert_exporter": "python",
   "pygments_lexer": "ipython3",
   "version": "3.8.8"
  }
 },
 "nbformat": 4,
 "nbformat_minor": 5
}
