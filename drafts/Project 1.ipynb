{
 "cells": [
  {
   "cell_type": "code",
   "execution_count": 1,
   "id": "d1f1855c",
   "metadata": {},
   "outputs": [],
   "source": [
    "import numpy as np\n",
    "import numpy.linalg as LA\n",
    "import scipy.linalg as la\n",
    "import matplotlib.pyplot as plt"
   ]
  },
  {
   "cell_type": "markdown",
   "id": "a8c40251",
   "metadata": {},
   "source": [
    "# Project 1 SVD\n",
    "\n",
    "The singular value decomposition (SVD) of an $m\\times d$ matrix $A$ is a factorization of the form\n",
    "\n",
    "\\begin{equation}\\label{eq1}\\tag{1}\n",
    "A=V\\Sigma U^T\n",
    "\\end{equation}\n",
    "\n",
    "where $V$ is an $m\\times m$ orthogonal matrix and $U$ is a $d\\times d$ orthogonal matrix. $\\Sigma$ is an $m\\times d$ diagonal matrix with nonnegative real numbers $\\sigma_i$ on the diagonal.\n",
    "\n",
    "Alternatively this expresses $A$ as a sum of rank 1 matrices\n",
    "\n",
    "\\begin{equation}\\label{eq2}\\tag{2}\n",
    "A=\\sum_{i=1}^r \\sigma_i \\mathbf{v}_i\\mathbf{u}_i^T\n",
    "\\end{equation}\n",
    "\n",
    "where $\\sigma_i$ $i=1,...,r$ are the positive diagonal entries of $\\Sigma$ and $\\mathbf{v}_i, \\mathbf{u}_i$ are the $i$th column vectors of $V$ and $U$, respectively."
   ]
  },
  {
   "cell_type": "markdown",
   "id": "a0cd72d4",
   "metadata": {},
   "source": [
    "# Problems\n",
    "\n",
    "**Parts (a)-(c) can be handwritten somewhere else and attached as a separate file (or typed in Latex). If you know how to type Latex within a Jupyter notebook, you are welcome to type it here as long as its done in Latex notation.**\n",
    "\n",
    "\n",
    "#### a) [5pt] \n",
    "\n",
    "\n",
    "Show that the columns of $U$ form an orthonormal basis in $\\mathbb{R}^d$ of eigenvectors of $A^TA$. Show that the columns of $V$ form an orthonormal basis in $\\mathbb{R}^n$ of eigenvectors of $AA^T$.\n",
    "\n"
   ]
  },
  {
   "cell_type": "markdown",
   "id": "dc92ee9b",
   "metadata": {},
   "source": [
    "\n",
    "#### b) [5pt]\n",
    "\n",
    "Use the fact that $U^T A^T AU=\\Sigma^T \\Sigma$ to show that \n",
    "\n",
    "\\begin{equation}\\label{eq3}\\tag{3}\n",
    "U_1^T A^T AU_1=\\Sigma_1^2\n",
    "\\end{equation}\n",
    "\n",
    "where $U_1=[\\mathbf{u}_1\\;\\, \\mathbf{u}_2 \\cdots \\mathbf{u}_r]$ and $\\Sigma_1$ is the $r\\times r$ diagonal matrix with all positive $\\sigma_i$ on the diagonal. \n",
    "How does one find the $m\\times r$ matrix \n",
    "\n",
    "$$V_1=[\\mathbf{v}_1\\;\\, \\mathbf{v}_2 \\cdots \\mathbf{v}_r]$$ \n",
    "\n",
    "based on $A$, $U_1$ and $\\Sigma_1$?\n",
    "\n"
   ]
  },
  {
   "cell_type": "markdown",
   "id": "739e8911",
   "metadata": {},
   "source": [
    "#### c) [20pt] \n",
    "\n",
    "(Two simple examples) With \n",
    "\n",
    "$$ A_1=\n",
    "\\begin{bmatrix}\n",
    "   2 & 1\\\\\n",
    "   1 & 2\n",
    "   \\end{bmatrix}\n",
    "   $$\n",
    "and \n",
    "$$ A_2=\n",
    "\\begin{bmatrix}\n",
    "   2 & 1/2\\\\\n",
    "   2 & 2\n",
    "   \\end{bmatrix}\n",
    "   $$\n",
    "   \n",
    "find the eigenvectors and eigenvalues of $A_1$ and $A_2$. Find matrices $C_1$ and $C_2$ such that\n",
    "\n",
    "\\begin{equation}\n",
    "A_i=C_i \\Sigma_i C_i^{-1}\\;\\;\\; i=1,2.\n",
    "\\end{equation}\n",
    "\n",
    "Use this decomposition to write $A_1$ and $A_2$ as a sum of rank 1 matrices. Find the SVD of $A_1$ and $A_2$. Can you explain the differences (and similarities) to what you found above?\n"
   ]
  },
  {
   "cell_type": "markdown",
   "id": "5dca353a",
   "metadata": {},
   "source": [
    "\n",
    "#### d) [50 pts]\n",
    "Write a python function to perform the singular value decomposition, based on the QR algorithm applied to $A^T A$. You may use Hessenberg from (la.hessenberg) and QR decomposition in the scipy.linalg module. Type help(la.hessenberg) and help(la.qr) for more details. The function should return the matrices $U_1, V_1$ and $\\Sigma_1$. \n",
    "(No credit if you use the la.svd directly!) "
   ]
  },
  {
   "cell_type": "code",
   "execution_count": null,
   "id": "0dd22d9b",
   "metadata": {},
   "outputs": [],
   "source": []
  },
  {
   "cell_type": "markdown",
   "id": "1f029b69",
   "metadata": {},
   "source": [
    "#### e) [10 pts]\n",
    "\n",
    "As a modification, try to shift the QR algorithm. That is, instead of \n",
    "\n",
    "\\begin{equation}\n",
    "H^{(0)}=Q_0 R_0 \\rightarrow H^{(1)}=R_0 Q_0,\n",
    "\\end{equation}\n",
    "\n",
    "iterate this time on $H^{(0)}-\\tau I$:\n",
    "\n",
    "\\begin{equation}\n",
    "H^{(0)}-\\tau I=Q_0 R_0 \\rightarrow H^{(1)}=R_0 Q_0+\\tau I.\n",
    "\\end{equation}\n",
    "\n",
    "You may, for instance start with\n",
    "\n",
    "\\begin{equation}\n",
    "\\tau= H_{dd}^{0}\n",
    "\\end{equation}\n",
    "\n",
    "and change to $H_{d-1 d-1}^{k}$ when the off diagonal elements of the $d$th row of $H^{(k)}$ ($H_{d d-1}^{k}$) are sufficiently small, and so on...\n",
    "\n"
   ]
  },
  {
   "cell_type": "code",
   "execution_count": null,
   "id": "47787266",
   "metadata": {},
   "outputs": [],
   "source": []
  },
  {
   "cell_type": "markdown",
   "id": "332747ab",
   "metadata": {},
   "source": [
    "#### f) [10 pts]\n",
    "\n",
    "Load the file image.npy as the matrix $A$ (this is a pixel image of the digit 3). Use the python function from d) (or e)) to find\n",
    "\n",
    "\n",
    "\\begin{equation}\\label{eq4}\\tag{4}\n",
    "A_k=\\sum_{i=1}^k \\sigma_i \\mathbf{v}_i\\mathbf{u}_i^T\\;\\;k=4, 10 \\text{ and } r\n",
    "\\end{equation}\n",
    "\n",
    "and plot the corresponding images for each value of $k$ used.\n",
    "\n",
    "Here $\\sigma_i$ $i=1,...,r$ are the positive singular values in decreasing order. Calculate the Frobenius norm of $A-A_k$ for $k=4, 10$ and $r$. You may use a Python built-in function to compute the Frobenius norm. The Frobenius norm of matrix $A$ is defined as\n",
    "$$\n",
    "\\| A \\|_F = \\sqrt{\\sum_{i,j=1}^{i=m,j=d} a_{ij}^2}.\n",
    "$$\n"
   ]
  },
  {
   "cell_type": "code",
   "execution_count": 2,
   "id": "6802c350",
   "metadata": {},
   "outputs": [
    {
     "data": {
      "image/png": "[encoded data removed]",
      "text/plain": [
       "<Figure size 432x288 with 1 Axes>"
      ]
     },
     "metadata": {
      "needs_background": "light"
     },
     "output_type": "display_data"
    }
   ],
   "source": [
    "A = np.load('image.npy')\n",
    "plt.imshow(A, cmap=\"binary\")\n",
    "plt.axis(\"off\")\n",
    "plt.show()"
   ]
  },
  {
   "cell_type": "code",
   "execution_count": null,
   "id": "fccf0daa",
   "metadata": {},
   "outputs": [],
   "source": []
  }
 ],
 "metadata": {
  "kernelspec": {
   "display_name": "Python 3",
   "language": "python",
   "name": "python3"
  },
  "language_info": {
   "codemirror_mode": {
    "name": "ipython",
    "version": 3
   },
   "file_extension": ".py",
   "mimetype": "text/x-python",
   "name": "python",
   "nbconvert_exporter": "python",
   "pygments_lexer": "ipython3",
   "version": "3.8.8"
  }
 },
 "nbformat": 4,
 "nbformat_minor": 5
}
