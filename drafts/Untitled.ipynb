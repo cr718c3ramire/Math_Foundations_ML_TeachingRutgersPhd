{
 "cells": [
  {
   "cell_type": "markdown",
   "id": "20f5e90d",
   "metadata": {},
   "source": [
    "# Basic Linear Regression Set Up\n",
    "\n",
    "Suppose we have noisy data of a linear model:\n",
    "\n",
    "\\begin{equation}\\label{eq1}\\tag{1}\n",
    "y_{\\text{obs}}=4+3x+W\n",
    "\\end{equation}\n",
    "\n",
    "where $W\\sim N(0,1)$ standard normal random variable represents a Gaussian type noise or interference that\n",
    "keeps us from obtaining the perfect linear output $y(x)=4+3x$. \n",
    "\n",
    "The following code snippet generates 100 $x$-axis random values from the interval $[0,2]$ and associates a corresponding $y$-value to each of these 100 $x$-values using relation \\eqref{eq1}. We then plot the $(x,y)$ pairs. This corresponds to 100 data points. \n"
   ]
  },
  {
   "cell_type": "code",
   "execution_count": 1,
   "id": "49cf8584",
   "metadata": {
    "scrolled": true
   },
   "outputs": [
    {
     "data": {
      "text/plain": [
       "Text(0, 0.5, '$y_{obs}$')"
      ]
     },
     "execution_count": 1,
     "metadata": {},
     "output_type": "execute_result"
    },
    {
     "data": {
      "image/png": "[encoded data removed]",
      "text/plain": [
       "<Figure size 432x288 with 1 Axes>"
      ]
     },
     "metadata": {
      "needs_background": "light"
     },
     "output_type": "display_data"
    }
   ],
   "source": [
    "import numpy as np\n",
    "import matplotlib.pyplot as plt\n",
    "\n",
    "X=2*np.random.rand(100,1)\n",
    "y=4+3*X+np.random.randn(100,1)\n",
    "\n",
    "plt.scatter(X,y)\n",
    "plt.title(r'Observed data points')  \n",
    "plt.xlabel(r'$x$') \n",
    "plt.ylabel(r'$y_{obs}$')"
   ]
  },
  {
   "cell_type": "markdown",
   "id": "36d1a8b0",
   "metadata": {},
   "source": [
    "We try to illustrate in this toy example how linear regression works by trying to recover the linear model. We assume that the true values satisfy $y_{\\text{true}}=\\theta_0+\\theta_1 x$ for $\\theta_0$ the $y$-intercept and $\\theta_1$ the slope. This is our working hypothesis. Note if $\\theta=[\\theta_0,\\theta_1]^T$, then \n",
    "\n",
    "\\begin{equation}\n",
    "y_{\\text{true}}=[\\theta_0,\\theta_1]\n",
    "\\begin{bmatrix}\n",
    "1\\\\\n",
    "x\n",
    "\\end{bmatrix}\n",
    "=\\theta_0+\\theta_1 x\n",
    "\\end{equation}\n",
    "\n",
    " \n",
    "\n",
    "## Some boring details\n",
    "\n",
    "Remember Python distinguishes between 1-D arrays and 2-D arrays. Remember also the difference between the dimensions of an array in a computer sense that Python uses, versus the concept of dimension of a matrix. An $m$-rows by $n$-columns matrix $(A_{ij})$ is a Python 2-D array of shape $(m,n)$. Note how the independent variable $X$ we generated prints out:"
   ]
  },
  {
   "cell_type": "code",
   "execution_count": 2,
   "id": "32ba056d",
   "metadata": {},
   "outputs": [
    {
     "name": "stdout",
     "output_type": "stream",
     "text": [
      "[[0.38473844]\n",
      " [1.56967495]\n",
      " [1.23390404]\n",
      " [0.77117673]\n",
      " [0.88265775]\n",
      " [0.91233078]\n",
      " [0.2042059 ]\n",
      " [1.9926047 ]\n",
      " [0.63739524]\n",
      " [0.72194371]]\n"
     ]
    }
   ],
   "source": [
    "print(X[0:10])"
   ]
  },
  {
   "cell_type": "markdown",
   "id": "6eca0374",
   "metadata": {},
   "source": [
    "# Setting up Normal equation\n",
    "\n",
    "  \n",
    "\n",
    "Let us use the commonly used MSE (mean-squared-error) function, defined as\n",
    "\n",
    " \\begin{equation}\n",
    "    \\text{MSE}(\\theta):=\\frac{1}{m}\\sum_{i=1}^m (\\mathbf{\\theta}^T \\mathbf{x}^{(i)}-y^{(i)})^2\n",
    " \\end{equation}\n",
    " where $\\theta$ is a column vector storing the necessary parameters that define the linear model. For our case this column vector $\\theta$ is\n",
    " \n",
    "  \\begin{equation}\n",
    " \\theta=[\\theta_0, \\theta_1]^T\n",
    " \\end{equation}\n",
    " and each observed independent variable $\\mathbf{x}^{(i)}$ for our case adds a dummy variable $\\mathbf{x}^{(i)}_0:=1$ to obtain the row vector\n",
    " \n",
    "  \\begin{equation}\\label{eq2}\\tag{2}\n",
    " \\mathbf{x}^{(i)}=[x^{(i)}_0, x^{(i)}_1]=[1, x^{(i)}_1]\n",
    " \\end{equation} \n",
    " \n",
    " where the $\\mathbf{x}^{(i)}_0:=1$ fixed dummy value is so we can write a linear regression in this simple form to get \n",
    " \\begin{equation}\n",
    " y^{(i)}\\approx \\mathbf{\\theta}^T \\mathbf{x}^{(i)}=\\theta_0+ \\theta_1 x^{(i)}_1\n",
    " \\end{equation}\n",
    " \n",
    " Note you may have seen the loss function expressed as\n",
    " \n",
    " \\begin{equation}\n",
    "    J(\\theta):=\\frac{1}{2}\\sum_{i=1}^m (\\mathbf{\\theta}^T \\mathbf{x}^{(i)}-y^{(i)})^2\n",
    " \\end{equation}\n",
    " \n",
    " or with some other factor in front of the sum of the squared errors. For the purposes of minimization and using orthogonality relations, this factor is not too relevant as we still have a normal equation relation as we now explain.\n",
    " \n",
    " **We will use different notation from the class notation $A^T Ax= A^T y$. Here we introduce a slightly different but common notation in machine learning textbooks. We will collect our data into a matrix $X$ (instead of $A$) and solve for a parameter vector $\\theta$ (instead of solving for a vector $\\mathbf{x}$). This data matrix $X$ is defined by having its $i$th row made of the components of $\\mathbf{x}^{(i)}$.** \n",
    " \n"
   ]
  },
  {
   "cell_type": "markdown",
   "id": "db7e1453",
   "metadata": {},
   "source": [
    "# Problem 1\n",
    "\n",
    " **(A) Note the first code snippet above generated 100 $x$-values and stored them into an array $X$. \n",
    " But to get vectors in the row forms $[1,x_1^{(i)}]$, we need to add 1's to each of the 100 $x$-values generated in the Jupyter cell above. Add 1's first to modify $X$, and print the first 10 entries of your modified $X$ array:** "
   ]
  },
  {
   "cell_type": "code",
   "execution_count": 3,
   "id": "6fab0f5f",
   "metadata": {},
   "outputs": [
    {
     "name": "stdout",
     "output_type": "stream",
     "text": [
      "[[1.         0.38473844]\n",
      " [1.         1.56967495]\n",
      " [1.         1.23390404]\n",
      " [1.         0.77117673]\n",
      " [1.         0.88265775]\n",
      " [1.         0.91233078]\n",
      " [1.         0.2042059 ]\n",
      " [1.         1.9926047 ]\n",
      " [1.         0.63739524]\n",
      " [1.         0.72194371]]\n"
     ]
    }
   ],
   "source": [
    "#Insert code here\n",
    "\n",
    "X_b=np.c_[np.ones((100,1)), X]\n",
    "print(X_b[0:10])"
   ]
  },
  {
   "cell_type": "markdown",
   "id": "da86a8fd",
   "metadata": {},
   "source": [
    "**(B) To get the best estimate $\\widehat{\\theta}$ of our parameters to determine the linear model, we solve the normal equation $X^T X \\widehat{\\theta}=X^T y$ corresponding to our data points $X$ and $y$: Assuming we have an invertible $X^T X$ we could simply solve**\n",
    "\\begin{equation}\n",
    "\\widehat{\\theta}= (X^T X)^{-1} X^T y\n",
    "\\end{equation}\n",
    "\n",
    "**If the matrix is not invertible, we have to settle for finding solutions to**\n",
    "\\begin{equation}\n",
    "X^T X\\widehat{\\theta}=  X^T y\n",
    "\\end{equation}\n",
    "\n",
    "\n",
    " **Question: Is it the case that we have an invertible matrix here?** *Note and hint: Assume the 100 obtained $\\mathbf{x}^{(i)}$ points are different. Do not just use a built-in determinant Python function to compute the determinant!  \n",
    " \n",
    " **(C) Code something that can solve the normal equation given above. The function has to solve for the parameter vector $\\theta=[\\theta_0, \\theta_1]^T$. You can use Python built-in functions to solve the normal equation.** Note and Hint: But you cannot use built-in linear regression functions, since we will use those built-in functions below. This question does not require a long code! It can be done very concisely once you have put in the adequate arrays!  \n",
    " \n",
    " \n",
    " \n",
    " \n",
    " \n",
    " \n",
    " \n",
    " \n",
    " \n",
    " \n",
    " \n",
    " \n",
    " "
   ]
  },
  {
   "cell_type": "code",
   "execution_count": 85,
   "id": "613e185f",
   "metadata": {},
   "outputs": [
    {
     "data": {
      "text/plain": [
       "array([[4.18942558],\n",
       "       [2.81689747]])"
      ]
     },
     "execution_count": 85,
     "metadata": {},
     "output_type": "execute_result"
    }
   ],
   "source": [
    "#Your code here\n",
    " "
   ]
  },
  {
   "cell_type": "markdown",
   "id": "4deb9980",
   "metadata": {},
   "source": [
    "# Problem 2: Plot predictions\n",
    "\n",
    "What we just did computed the paramenters in $\\theta$ using the normal equation corresponding to the data points in $X$ and $y$. Due to the Gaussian noise, it does not capture the exact slope of $\\theta_1=3$ and intercept $\\theta_0=4$. Nonetheless, we have our model according to the normal equation. So now, if someone gives us $X_{\\text{new}}$ particular new inputs to which we want to know the predicted outputs (on which we did not train or calculate the parameter $\\widehat{\\theta}$). Suppose $X_{\\text{new}}$ are two different inputs to which we want to know their predicted values\n",
    " "
   ]
  },
  {
   "cell_type": "code",
   "execution_count": 72,
   "id": "03258e67",
   "metadata": {},
   "outputs": [
    {
     "data": {
      "text/plain": [
       "array([[ 3.9397403 ],\n",
       "       [10.22186412]])"
      ]
     },
     "execution_count": 72,
     "metadata": {},
     "output_type": "execute_result"
    }
   ],
   "source": [
    " "
   ]
  },
  {
   "cell_type": "code",
   "execution_count": 73,
   "id": "d60a0cfa",
   "metadata": {},
   "outputs": [
    {
     "data": {
      "image/png": "[encoded data removed]",
      "text/plain": [
       "<Figure size 432x288 with 1 Axes>"
      ]
     },
     "metadata": {
      "needs_background": "light"
     },
     "output_type": "display_data"
    }
   ],
   "source": [
    " "
   ]
  },
  {
   "cell_type": "markdown",
   "id": "0bea6a7d",
   "metadata": {},
   "source": [
    "## Scikit-Learn approach (sklearn)\n",
    "Let us now quickly use a built-in library to perform linear regression this time. "
   ]
  },
  {
   "cell_type": "code",
   "execution_count": 43,
   "id": "36e6c782",
   "metadata": {},
   "outputs": [],
   "source": [
    " "
   ]
  },
  {
   "cell_type": "code",
   "execution_count": 44,
   "id": "636ccdf6",
   "metadata": {
    "scrolled": true
   },
   "outputs": [
    {
     "name": "stdout",
     "output_type": "stream",
     "text": [
      "[3.9397403025422824 3.1410619067263568]\n"
     ]
    }
   ],
   "source": [
    " "
   ]
  },
  {
   "cell_type": "markdown",
   "id": "cc089fa1",
   "metadata": {},
   "source": [
    "We get the same result using sklearn as solving the normal equation. The skleanr LinearRegression function computes the optimal value $\\widehat{\\theta}$ using $\\widehat{\\theta}=X^+ y$ where $X^+$ is the pseudoinverse of $X$. The pseudoinverse $X^+$ in Python is computed using the SVD decomposition. You can actually get the pseudoinverse using np.linalg.pinv() as follows:"
   ]
  },
  {
   "cell_type": "code",
   "execution_count": 47,
   "id": "16e969f9",
   "metadata": {},
   "outputs": [
    {
     "name": "stdout",
     "output_type": "stream",
     "text": [
      "[[3.9397403 ]\n",
      " [3.14106191]]\n"
     ]
    }
   ],
   "source": [
    " "
   ]
  },
  {
   "cell_type": "markdown",
   "id": "7ec7e6fc",
   "metadata": {},
   "source": [
    " # Gradient Descent Approach\n",
    " Let us now use\n",
    " \\begin{equation}\n",
    " \\theta^{(i+1)}=\\theta^{(i)}-\\eta \\nabla_{\\theta}\\text{MSE}(\\theta)\n",
    " \\end{equation}\n",
    " \n",
    " We use the gradient method to minimize the resulting mean squared error cost function, defined as\n",
    "\n",
    " \\begin{equation}\n",
    "    \\text{MSE}(\\theta):=\\frac{1}{m}\\sum_{i=1}^m (\\mathbf{\\theta}^T \\mathbf{x}^{(i)}-y^{(i)})^2\n",
    " \\end{equation}\n",
    " where $\\theta$ is a column vector storing the necessary parameters that define the linear model. For our case \n",
    " \n",
    "  \\begin{equation}\n",
    " \\theta=[\\theta_0, \\theta_1]^T\n",
    " \\end{equation}\n",
    " and each data point for our case is\n",
    "  \\begin{equation}\n",
    " \\mathbf{x}^{(i)}=[x^{(i)}_0, x^{(i)}_1]=[1, x^{(i)}_1]\n",
    " \\end{equation}\n",
    " \n",
    " where the $\\mathbf{x}^{(i)}_0:=1$ fixed dummy value is so we can write a linear regression in this simple form to get \n",
    " \\begin{equation}\n",
    " y^{(i)}\\approx \\mathbf{\\theta}^T \\mathbf{x}^{(i)}=\\theta_0+ \\theta_1 x^{(i)}_1\n",
    " \\end{equation}\n",
    " \n",
    " Though in general $d$-dimensions (reprensenting $d$ variables or inputs that we assume characterize a desired output to be predicted, namely, $y^{(i)}=\\mathbf{\\theta}^T \\mathbf{x}^{(i)}$) or $d$ features we have\n",
    " \\begin{equation}\n",
    " \\theta=[\\theta_0, \\theta_1, \\theta_2,\\cdots , \\theta_d]^T\\in \\mathbb{R}^d\n",
    " \\end{equation}\n",
    " and each data point\n",
    "  \\begin{equation}\n",
    " \\mathbf{x}^{(i)}=[1, x^{(i)}_1, \\cdots , x^{(i)}_d]^T \\in \\mathbb{R}^d\n",
    " \\end{equation}\n",
    " \n",
    " \n",
    " ## Gradient of MSE\n",
    " \n",
    " The gradient of the above function can be expressed elegantly as\n",
    " \n",
    "\\begin{align*}\n",
    "\\nabla_{\\theta} \\text{MSE}=  \n",
    "\\begin{bmatrix}\n",
    "\\frac{\\partial}{\\partial \\theta_0}\\text{MSE}(\\theta) \\\\ \n",
    "\\frac{\\partial}{\\partial \\theta_1}\\text{MSE}(\\theta) \\\\ \n",
    "\\vdots \\\\ \n",
    "\\frac{\\partial}{\\partial \\theta_d}\\text{MSE}(\\theta)\n",
    "\\end{bmatrix}  =\\frac{2}{m}X^T(X\\theta -y)\n",
    "\\end{align*}\n",
    " \n",
    " \n",
    " The following actually stores all the gradients in an array. We have the directions computed"
   ]
  },
  {
   "cell_type": "code",
   "execution_count": 15,
   "id": "1b148a28",
   "metadata": {},
   "outputs": [],
   "source": [
    "eta=0.1 #<---learning rate/step size\n",
    "n_iterations=10000\n",
    "m=100 #<---number of data points used\n",
    "\n",
    "theta=np.random.randn(2,1) #<---random initialization of theta/random guess\n",
    "\n",
    "for iteration in range(n_iterations):\n",
    "    gradient=2/m*X_b.T.dot(X_b.dot(theta)-y)\n",
    "    theta=theta-eta*gradient"
   ]
  },
  {
   "cell_type": "code",
   "execution_count": 16,
   "id": "8af7d93a",
   "metadata": {},
   "outputs": [
    {
     "data": {
      "text/plain": [
       "array([[4.06427571],\n",
       "       [3.27369165]])"
      ]
     },
     "execution_count": 16,
     "metadata": {},
     "output_type": "execute_result"
    }
   ],
   "source": [
    "theta #<---get the same as above!"
   ]
  },
  {
   "cell_type": "code",
   "execution_count": 18,
   "id": "abe15b93",
   "metadata": {},
   "outputs": [
    {
     "data": {
      "image/png": "[encoded data removed]",
      "text/plain": [
       "<Figure size 432x288 with 1 Axes>"
      ]
     },
     "metadata": {
      "needs_background": "light"
     },
     "output_type": "display_data"
    }
   ],
   "source": [
    "eta=0.02 #<---learning rate/step size\n",
    "n_iterations=100\n",
    "m=100 #<---number of data points used\n",
    "\n",
    "theta=np.random.randn(2,1) #<---random initialization of theta/random guess\n",
    "  \n",
    "X_new=np.array([ [0], [2]]) #<---note a column vector of shape (2,1), it is two inputs\n",
    "X_new_b=np.c_[np.ones((2,1)), X_new] #<--remember we want x_0=1 so the off-set gets included\n",
    "y_predicted_by_model=np.dot(X_new_b, theta)\n",
    "plt.plot(X_new, y_predicted_by_model, 'g-')\n",
    "plt.plot(X,y, 'b.')\n",
    " \n",
    "for iteration in range(n_iterations):\n",
    "    gradient=2/m*X_b.T.dot(X_b.dot(theta)-y)\n",
    "    theta=theta-eta*gradient\n",
    "    y_predicted_by_model=np.dot(X_new_b, theta)\n",
    "    plt.plot(X_new, y_predicted_by_model, 'r-')\n",
    "    plt.plot(X,y, 'b.')\n",
    "plt.show()    \n",
    "    "
   ]
  },
  {
   "cell_type": "code",
   "execution_count": 19,
   "id": "8b64d612",
   "metadata": {},
   "outputs": [
    {
     "data": {
      "image/png": "[encoded data removed]",
      "text/plain": [
       "<Figure size 432x288 with 1 Axes>"
      ]
     },
     "metadata": {
      "needs_background": "light"
     },
     "output_type": "display_data"
    }
   ],
   "source": [
    "eta=0.1 #<---learning rate/step size\n",
    "n_iterations=10\n",
    "m=100 #<---number of data points used\n",
    "\n",
    "theta=np.random.randn(2,1) #<---random initialization of theta/random guess\n",
    "  \n",
    "X_new=np.array([ [0], [2]]) #<---note a column vector of shape (2,1), it is two inputs\n",
    "X_new_b=np.c_[np.ones((2,1)), X_new] #<--remember we want x_0=1 so the off-set gets included\n",
    "y_predicted_by_model=np.dot(X_new_b, theta)\n",
    "plt.plot(X_new, y_predicted_by_model, 'g-')\n",
    "plt.plot(X,y, 'b.')\n",
    " \n",
    "for iteration in range(n_iterations):\n",
    "    gradient=2/m*X_b.T.dot(X_b.dot(theta)-y)\n",
    "    theta=theta-eta*gradient\n",
    "    y_predicted_by_model=np.dot(X_new_b, theta)\n",
    "    plt.plot(X_new, y_predicted_by_model, 'r-')\n",
    "    plt.plot(X,y, 'b.')\n",
    "plt.show()"
   ]
  },
  {
   "cell_type": "code",
   "execution_count": 24,
   "id": "da56bf2c",
   "metadata": {},
   "outputs": [
    {
     "data": {
      "image/png": "[encoded data removed]",
      "text/plain": [
       "<Figure size 432x288 with 1 Axes>"
      ]
     },
     "metadata": {
      "needs_background": "light"
     },
     "output_type": "display_data"
    }
   ],
   "source": [
    "eta=0.5 #<---learning rate/step size\n",
    "n_iterations=10\n",
    "m=100 #<---number of data points used\n",
    "\n",
    "theta=np.random.randn(2,1) #<---random initialization of theta/random guess\n",
    "  \n",
    "X_new=np.array([ [0], [2]]) #<---note a column vector of shape (2,1), it is two inputs\n",
    "X_new_b=np.c_[np.ones((2,1)), X_new] #<--remember we want x_0=1 so the off-set gets included\n",
    "y_predicted_by_model=np.dot(X_new_b, theta)\n",
    "plt.plot(X_new, y_predicted_by_model, 'g-')\n",
    "plt.plot(X,y, 'b.')\n",
    " \n",
    "for iteration in range(n_iterations):\n",
    "    gradient=2/m*X_b.T.dot(X_b.dot(theta)-y)\n",
    "    theta=theta-eta*gradient\n",
    "    y_predicted_by_model=np.dot(X_new_b, theta)\n",
    "    plt.plot(X_new, y_predicted_by_model, 'r-')\n",
    "    plt.plot(X,y, 'b.')\n",
    "plt.show()"
   ]
  },
  {
   "cell_type": "code",
   "execution_count": 23,
   "id": "b1cd0f4d",
   "metadata": {},
   "outputs": [
    {
     "data": {
      "text/plain": [
       "array([[4.04177952],\n",
       "       [3.24913409]])"
      ]
     },
     "execution_count": 23,
     "metadata": {},
     "output_type": "execute_result"
    }
   ],
   "source": [
    "theta"
   ]
  },
  {
   "cell_type": "code",
   "execution_count": null,
   "id": "06c53827",
   "metadata": {},
   "outputs": [],
   "source": []
  }
 ],
 "metadata": {
  "kernelspec": {
   "display_name": "Python 3",
   "language": "python",
   "name": "python3"
  },
  "language_info": {
   "codemirror_mode": {
    "name": "ipython",
    "version": 3
   },
   "file_extension": ".py",
   "mimetype": "text/x-python",
   "name": "python",
   "nbconvert_exporter": "python",
   "pygments_lexer": "ipython3",
   "version": "3.8.8"
  }
 },
 "nbformat": 4,
 "nbformat_minor": 5
}
