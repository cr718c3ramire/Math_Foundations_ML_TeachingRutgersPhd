{
 "cells": [
  {
   "cell_type": "code",
   "execution_count": 1,
   "id": "0619228d",
   "metadata": {},
   "outputs": [],
   "source": [
    "import numpy as np\n",
    "import numpy.linalg as LA\n",
    "import scipy.linalg as la\n",
    "import matplotlib.pyplot as plt"
   ]
  },
  {
   "cell_type": "code",
   "execution_count": 2,
   "id": "7363e712",
   "metadata": {},
   "outputs": [],
   "source": [
    "#Function SVD returns U, SVT for matrix M. If you want decomposition for MMt you must input MMt\n",
    "def SVD(M, tol=1e-4, max_it=1000):\n",
    "    \n",
    "    #Initializing variables for finding U, solving MM.T\n",
    "    A = np.dot(M, M.T)\n",
    "    \n",
    "    dim_A = np.shape(A)[0]\n",
    "    A, H=la.hessenberg(A, calc_q=True)\n",
    "    err_A = tol + 1 #Set initial error larger than tol\n",
    "    num_it = 0\n",
    "    A_i = A\n",
    "    U = np.identity(dim_A)\n",
    "    while err_A>tol:\n",
    "        num_it +=1\n",
    "        Q_i , R_i = la.qr(A_i)\n",
    "        A_j = np.dot(R_i, Q_i)\n",
    "        err_A = la.norm(A_j - A_i)\n",
    "        A_i = A_j\n",
    "        \n",
    "        U = np.dot(U,Q_i)\n",
    "        if num_it>max_it:\n",
    "            print('The QR decomposition does not converge in %d iterations!' % max_it)\n",
    "            break        \n",
    "    SSt = A_j  #<---sufficiently \"diagonal matrix\"\n",
    "    U=np.dot(H.T, U)\n",
    "    SVT=np.dot(U.T, M)\n",
    "    \n",
    "\n",
    "    return U, SSt, SVT"
   ]
  },
  {
   "cell_type": "markdown",
   "id": "90b46436",
   "metadata": {},
   "source": [
    "The above assumes $$M=U\\Sigma V^T$$ with $M\\in\\mathbb{R}^{m\\times d}$. It computes the diagonalization of\n",
    "\\begin{equation}\\label{eq1}\\tag{1}\n",
    "MM^T= U \\Sigma \\Sigma^T U^T \n",
    "\\end{equation}\n",
    "\n",
    "# The implementation detail\n",
    "\n",
    "In short the biggest potential difficulty is that you get the positive singular values within an inner block of $\\Sigma$, i.e., something like\n",
    "\\begin{align*}\n",
    "\\Sigma\\Sigma^T=\\begin{bmatrix}\n",
    "\\mathbf{0} &   &  \\\\ \n",
    "  & \\Sigma_1^2 &   \\\\ \n",
    "  &  & \\mathbf{0}\n",
    "\\end{bmatrix} \n",
    "\\end{align*}\n",
    "where\n",
    "\\begin{equation}\n",
    "\\Sigma_1^2=\\text{diag}[\\sigma_1^2, \\sigma_2^2,...,\\sigma_r^2]\\in\\mathbb{R}^{r\\times r}\n",
    "\\end{equation}\n",
    "\n",
    "where at least we're lucky $\\sigma_1^2\\geq \\sigma_2^2\\geq \\cdots \\sigma_r^2>0$ and $r=$rank$(M)$.\n",
    "\n",
    "So if $M$ is an $m\\times d$ matrix and thus $U\\in \\mathbb{R}^{m\\times m}$, $\\Sigma \\in \\mathbb{R}^{m\\times d}$, $V \\in \\mathbb{R}^{d\\times d}$ and \n",
    "\n",
    "\n",
    "\\begin{equation}\\label{eq2}\\tag{2}\n",
    "U^T MM^T U=  \\begin{bmatrix}\n",
    "\\mathbf{0} &   &  \\\\ \n",
    "  & \\Sigma_1^2 &   \\\\ \n",
    "  &  & \\mathbf{0}\n",
    "\\end{bmatrix}, \\hspace{0.4in} U=[\\mathbf{u}_1, \\cdots , \\mathbf{u}_m]\\in \\mathbb{R}^{m\\times m}, \\;\\; \n",
    "(\\mathbf{u}_i \\in \\mathbb{R}^m)\n",
    "\\end{equation}\n",
    "\n",
    "# Reduce according to rank\n",
    "\n",
    "**It would make sense to extract only the columns of $U$ corresponding to the $r$ INNER columns of $\\Sigma$ that comprise $\\Sigma_1$**. With this\n",
    "\n",
    "\\begin{equation}\\label{eq3}\\tag{3}\n",
    "U_1 =[\\mathbf{u}'_1, \\cdots , \\mathbf{u}'_r]\\in \\mathbb{R}^{m\\times r}\n",
    "\\end{equation}\n",
    "\n",
    "where the $r$ column vectors $\\mathbf{u}'_i \\in \\mathbb{R}^{m}$ correspond to the inner columns that match with $\\Sigma_1^2$. With this $U_1$, and noting the square array $\\Sigma_1$ is invertible, we define\n",
    "\n",
    "\\begin{equation}\\label{eq4}\\tag{4}\n",
    "V_1 =M^T U_1 \\Sigma_1^{-1} \\in \\mathbb{R}^{d\\times r}\n",
    "\\end{equation}\n",
    "\n",
    "Therefore we could work with \n",
    "\\begin{equation}\\label{eq5}\\tag{5}\n",
    "  U_1\\Sigma_1V_1^T   \\in \\mathbb{R}^{m\\times d}\n",
    "\\end{equation}\n",
    "\n",
    "and note\n",
    "\n",
    "\\begin{equation}\\label{eq6}\\tag{6}\n",
    "  \\Sigma_1V_1^T = \n",
    "   \\begin{bmatrix}\n",
    "\\sigma_1\\mathbf{v}_1^T    \\\\ \n",
    "  \\vdots   \\\\ \n",
    "  \\sigma_r \\mathbf{v}_r^T\n",
    "\\end{bmatrix}\n",
    "  \\in \\mathbb{R}^{r\\times d}, \\hspace{0.4in} \\|\\sigma_k \\mathbf{v}_k^T\\|=\\sigma_k\n",
    "\\end{equation}\n",
    "\n",
    "and so\n",
    "\n",
    "\\begin{equation} \n",
    "U_1\\Sigma_1 V_1^T= \\sigma_1 \\mathbf{u}'_1 \\mathbf{v}_1^T+ \\cdots +\\sigma_r\\mathbf{u}'_r\\mathbf{v}_r^T\n",
    "\\end{equation}\n",
    "\n",
    "# Complete $V$ to $d$ columns?\n",
    "\n",
    "So far $V_1$ is a $d\\times r$ matrix. While $V$ in $M=U\\Sigma V^T$ is a $d\\times d$ array.\n",
    "\n",
    "We could complete $V$ to have $d$ columns when $d>r$. For this we would have to complete the $r$ columns $\\mathbf{v}_1, \\cdots , \\mathbf{v}_r$ to add $\\mathbf{v}_{r+1},\\cdots, \\mathbf{v}_d$ with\n",
    "\n",
    "\\begin{equation}\n",
    "\\text{span}(\\mathbf{v}_1, \\cdots , \\mathbf{v}_r)\\perp \\text{span}(\\mathbf{v}_{r+1}, \\cdots , \\mathbf{v}_d)\n",
    "\\end{equation}"
   ]
  },
  {
   "cell_type": "code",
   "execution_count": 3,
   "id": "07ced741",
   "metadata": {},
   "outputs": [
    {
     "data": {
      "image/png": "[encoded data removed]",
      "text/plain": [
       "<Figure size 432x288 with 1 Axes>"
      ]
     },
     "metadata": {
      "needs_background": "light"
     },
     "output_type": "display_data"
    }
   ],
   "source": [
    "M = np.load('image.npy') # a 28x28 matrix\n",
    "plt.imshow(M, cmap=\"binary\")\n",
    "plt.axis(\"off\")\n",
    "plt.show()"
   ]
  },
  {
   "cell_type": "code",
   "execution_count": 4,
   "id": "d6525739",
   "metadata": {},
   "outputs": [
    {
     "name": "stdout",
     "output_type": "stream",
     "text": [
      "(28, 28)\n",
      "SSt.shape= (28, 28)\n",
      "0.0\n",
      "0.0\n",
      "0.0\n",
      "0.0\n",
      "1826.0497241970006\n",
      "1163.1860640980049\n",
      "903.1101744076648\n",
      "786.6087731763706\n",
      "467.9544971493111\n",
      "429.30415530637435\n",
      "355.81046742581015\n",
      "197.76328338928516\n",
      "151.07602134528958\n",
      "130.82080857810774\n",
      "84.89447051726313\n",
      "66.67246696850485\n",
      "56.66594985599676\n",
      "46.846394051104795\n",
      "38.007821790201454\n",
      "25.635951056155903\n",
      "20.678819313867468\n",
      "nan\n",
      "nan\n",
      "3.1471162211151005e-06\n",
      "0.0\n",
      "0.0\n",
      "0.0\n",
      "0.0\n"
     ]
    },
    {
     "name": "stderr",
     "output_type": "stream",
     "text": [
      "<ipython-input-4-a172c8402403>:6: RuntimeWarning: invalid value encountered in sqrt\n",
      "  print(np.sqrt(SSt[i,i]) )\n"
     ]
    }
   ],
   "source": [
    "U, SSt, SVT=SVD(M)\n",
    "\n",
    "print('SSt.shape=', SSt.shape)\n",
    "for i in range(28):\n",
    "    print(np.sqrt(SSt[i,i]) )\n",
    "     "
   ]
  },
  {
   "cell_type": "code",
   "execution_count": 5,
   "id": "691f8a6a",
   "metadata": {},
   "outputs": [
    {
     "name": "stdout",
     "output_type": "stream",
     "text": [
      "[4, 1826.0497241970006]\n",
      "[5, 1163.1860640980049]\n",
      "[6, 903.1101744076648]\n",
      "[7, 786.6087731763706]\n",
      "[8, 467.9544971493111]\n",
      "[9, 429.30415530637435]\n",
      "[10, 355.81046742581015]\n",
      "[11, 197.76328338928516]\n",
      "[12, 151.07602134528958]\n",
      "[13, 130.82080857810774]\n",
      "[14, 84.89447051726313]\n",
      "[15, 66.67246696850485]\n",
      "[16, 56.66594985599676]\n",
      "[17, 46.846394051104795]\n",
      "[18, 38.007821790201454]\n",
      "[19, 25.635951056155903]\n",
      "[20, 20.678819313867468]\n"
     ]
    }
   ],
   "source": [
    "for i in range(28):\n",
    "    for j in range(28):\n",
    "        if(np.abs(SSt[i,j])<10e-2):\n",
    "            SSt[i,j]=0\n",
    "positive_values=[]\n",
    "for i in range(28):\n",
    "    if(SSt[i,i]>0):\n",
    "        positive_values.append([i, np.sqrt(SSt[i,i])])\n",
    "        \n",
    "for i in range(len(positive_values)):\n",
    "    print(positive_values[i]) "
   ]
  },
  {
   "cell_type": "code",
   "execution_count": 6,
   "id": "e9828eda",
   "metadata": {},
   "outputs": [
    {
     "name": "stdout",
     "output_type": "stream",
     "text": [
      "0.0 \n",
      "\n",
      "0.0 \n",
      "\n",
      "0.0 \n",
      "\n",
      "0.0 \n",
      "\n",
      "608.9770880461518 \n",
      "\n",
      "437.5650944279952 \n",
      "\n",
      "979.7381866123167 \n",
      "\n",
      "467.1778631991554 \n",
      "\n",
      "641.4713334532497 \n",
      "\n",
      "810.6831081126423 \n",
      "\n",
      "371.23763373579686 \n",
      "\n",
      "729.0393149336114 \n",
      "\n",
      "525.1909559226718 \n",
      "\n",
      "471.3893250621875 \n",
      "\n",
      "578.1386968698737 \n",
      "\n",
      "657.2135369483054 \n",
      "\n",
      "598.1825776690846 \n",
      "\n",
      "705.5738599291536 \n",
      "\n",
      "610.6753119045768 \n",
      "\n",
      "460.8844763254074 \n",
      "\n",
      "418.33327140593866 \n",
      "\n",
      "480.8012351656843 \n",
      "\n",
      "317.4667034986378 \n",
      "\n",
      "244.36357905224116 \n",
      "\n",
      "0.0 \n",
      "\n",
      "0.0 \n",
      "\n",
      "0.0 \n",
      "\n",
      "0.0 \n",
      "\n"
     ]
    }
   ],
   "source": [
    "M = np.load('image.npy')\n",
    "U, SSt, SVT=SVD(M)\n",
    "big_product=np.dot(U.T, np.dot(M, M.T))\n",
    "big_product=np.dot(big_product, U)\n",
    "\n",
    "for i in range(28):\n",
    "    print(np.sqrt(big_product[i,i]), '\\n' ) #<---For some reason this is not good! Not even in order! "
   ]
  },
  {
   "cell_type": "code",
   "execution_count": 7,
   "id": "07a1667d",
   "metadata": {},
   "outputs": [
    {
     "name": "stdout",
     "output_type": "stream",
     "text": [
      "V1.shape= (28, 17)\n",
      "(17, 17)\n",
      "0.11121841654084214\n",
      "0.141509944090513\n",
      "1.1768973936822913\n",
      "0.3527336888230316\n",
      "1.8790885902475039\n",
      "3.565923841301644\n",
      "1.0885955411957082\n",
      "13.589721934937181\n",
      "12.084909416153657\n",
      "12.983919930538198\n",
      "46.37727962562912\n",
      "97.16725873990292\n",
      "111.4353993484803\n",
      "226.84678628544714\n",
      "258.1515657994863\n",
      "323.21037498935505\n",
      "409.25438052744016\n"
     ]
    }
   ],
   "source": [
    "r=len(positive_values)\n",
    "U1=np.zeros([28,r])\n",
    "sigma_1=np.zeros([r,r])\n",
    "for k in range(r):\n",
    "    i=positive_values[k][0]\n",
    "    #print('k=', k, 'i=', i)\n",
    "    U1[:,k]=U[:,i]\n",
    "    sigma_1[k,k]=positive_values[k][1]\n",
    "    \n",
    "V1=M.T.dot(U1.dot(LA.inv(sigma_1)))\n",
    "print('V1.shape=', V1.shape)\n",
    "vvt=V1.T@V1\n",
    "print(vvt.shape)\n",
    "for i in range(17):\n",
    "    print(vvt[i,i]) "
   ]
  },
  {
   "cell_type": "code",
   "execution_count": 11,
   "id": "c466ab5c",
   "metadata": {},
   "outputs": [
    {
     "name": "stdout",
     "output_type": "stream",
     "text": [
      "M_rank_r.shape= (28, 28)\n"
     ]
    },
    {
     "data": {
      "image/png": "[encoded data removed]",
      "text/plain": [
       "<Figure size 432x288 with 1 Axes>"
      ]
     },
     "metadata": {
      "needs_background": "light"
     },
     "output_type": "display_data"
    }
   ],
   "source": [
    "M_rank_r=U1@sigma_1@V1.T\n",
    "print('M_rank_r.shape=', M_rank_r.shape) \n",
    "plt.imshow(M_rank_r, cmap=\"binary\")\n",
    "plt.axis(\"off\")\n",
    "plt.show()"
   ]
  },
  {
   "cell_type": "code",
   "execution_count": 12,
   "id": "adf29f22",
   "metadata": {},
   "outputs": [
    {
     "name": "stdout",
     "output_type": "stream",
     "text": [
      "SVT.shape= (17, 28)\n",
      "n= 17\n"
     ]
    },
    {
     "data": {
      "image/png": "[encoded data removed]",
      "text/plain": [
       "<Figure size 432x288 with 1 Axes>"
      ]
     },
     "metadata": {
      "needs_background": "light"
     },
     "output_type": "display_data"
    }
   ],
   "source": [
    "#Now we compress the previous \n",
    "\n",
    "SVT=sigma_1@V1.T\n",
    "print('SVT.shape=', SVT.shape)\n",
    "\n",
    "n=SVT.shape[0]\n",
    "print('n=', n)\n",
    "Theta = sorted([LA.norm(row) for row in SVT], reverse=True)[10] #<--This returns reverse-sorted list of vectors by norm\n",
    "                                                                 #  and then grabs the last one, i.e. smallest norm?  \n",
    "for i in range(n):\n",
    "    if LA.norm(SVT[i])<Theta:\n",
    "        SVT[i] = np.zeros(28) #<----Replace with zeros, the ROWS of SVT that have smaller norm \n",
    "tilde_M = np.dot(U1, SVT) #<--smaller rank than rank M\n",
    "plt.imshow(tilde_M, cmap=\"binary\")\n",
    "plt.axis(\"off\")\n",
    "plt.show()"
   ]
  },
  {
   "cell_type": "code",
   "execution_count": 14,
   "id": "b57582a8",
   "metadata": {},
   "outputs": [
    {
     "data": {
      "text/plain": [
       "<matplotlib.image.AxesImage at 0x7f75d63be550>"
      ]
     },
     "execution_count": 14,
     "metadata": {},
     "output_type": "execute_result"
    },
    {
     "data": {
      "image/png": "[encoded data removed]",
      "text/plain": [
       "<Figure size 576x288 with 3 Axes>"
      ]
     },
     "metadata": {
      "needs_background": "light"
     },
     "output_type": "display_data"
    }
   ],
   "source": [
    "fig, axes = plt.subplots(1, 3, figsize=(8, 4))\n",
    "ax = axes.ravel()\n",
    "\n",
    " \n",
    "ax[0].imshow(M, cmap='binary')\n",
    "ax[1].imshow(M_rank_r, cmap='binary')\n",
    "ax[2].imshow(tilde_M, cmap='binary')"
   ]
  },
  {
   "cell_type": "code",
   "execution_count": 15,
   "id": "3370157d",
   "metadata": {},
   "outputs": [
    {
     "data": {
      "text/plain": [
       "<matplotlib.image.AxesImage at 0x7f75d65861f0>"
      ]
     },
     "execution_count": 15,
     "metadata": {},
     "output_type": "execute_result"
    },
    {
     "data": {
      "image/png": "[encoded data removed]",
      "text/plain": [
       "<Figure size 576x288 with 3 Axes>"
      ]
     },
     "metadata": {
      "needs_background": "light"
     },
     "output_type": "display_data"
    }
   ],
   "source": [
    "fig, axes = plt.subplots(1, 3, figsize=(8, 4))\n",
    "ax = axes.ravel()\n",
    "\n",
    " \n",
    "ax[0].imshow(M)\n",
    "ax[1].imshow(M_rank_r)\n",
    "ax[2].imshow(tilde_M)"
   ]
  },
  {
   "cell_type": "markdown",
   "id": "e351f44a",
   "metadata": {},
   "source": [
    "# Wujun's code\n",
    "\n",
    "From $M=U\\Sigma V^T$ we obtain using QR-method $U$. Using the SVD relationship, if we have $U$, then we also have $\\Sigma V^T$, because\n",
    "\n",
    "\\begin{equation}\\label{eq10}\\tag{10}\n",
    "U^T M= \\Sigma V^T=\n",
    "\\begin{bmatrix}\n",
    "0    \\\\ \n",
    "  \\vdots   \\\\ \n",
    "  0\\\\\n",
    "  \\sigma_1 \\mathbf{v}_{m+1}^T\\\\\n",
    "  \\cdots &\\\\\n",
    "  \\sigma_r \\mathbf{v}_{m+r}^T\\\\\n",
    "  0\\\\\n",
    "  \\cdots\\\\\n",
    "  0\n",
    "\\end{bmatrix}\n",
    "  \\in \\mathbb{R}^{r\\times d}, \\hspace{0.4in} \\|\\sigma_k \\mathbf{v}_{m+k}^T\\|=\\sigma_k\\;\\; 1\\leq k \\leq r\n",
    "\\end{equation}"
   ]
  },
  {
   "cell_type": "code",
   "execution_count": 17,
   "id": "d77189d8",
   "metadata": {},
   "outputs": [
    {
     "ename": "ValueError",
     "evalue": "could not broadcast input array from shape (17,) into shape (28,)",
     "output_type": "error",
     "traceback": [
      "\u001b[0;31m---------------------------------------------------------------------------\u001b[0m",
      "\u001b[0;31mValueError\u001b[0m                                Traceback (most recent call last)",
      "\u001b[0;32m<ipython-input-17-283ca2edb367>\u001b[0m in \u001b[0;36m<module>\u001b[0;34m\u001b[0m\n\u001b[1;32m      4\u001b[0m \u001b[0;32mfor\u001b[0m \u001b[0mi\u001b[0m \u001b[0;32min\u001b[0m \u001b[0mrange\u001b[0m\u001b[0;34m(\u001b[0m\u001b[0mn\u001b[0m\u001b[0;34m)\u001b[0m\u001b[0;34m:\u001b[0m\u001b[0;34m\u001b[0m\u001b[0;34m\u001b[0m\u001b[0m\n\u001b[1;32m      5\u001b[0m     \u001b[0;32mif\u001b[0m \u001b[0mLA\u001b[0m\u001b[0;34m.\u001b[0m\u001b[0mnorm\u001b[0m\u001b[0;34m(\u001b[0m\u001b[0mSVT\u001b[0m\u001b[0;34m[\u001b[0m\u001b[0mi\u001b[0m\u001b[0;34m]\u001b[0m\u001b[0;34m)\u001b[0m\u001b[0;34m<\u001b[0m\u001b[0mTheta\u001b[0m\u001b[0;34m:\u001b[0m\u001b[0;34m\u001b[0m\u001b[0;34m\u001b[0m\u001b[0m\n\u001b[0;32m----> 6\u001b[0;31m         \u001b[0mSVT\u001b[0m\u001b[0;34m[\u001b[0m\u001b[0mi\u001b[0m\u001b[0;34m]\u001b[0m \u001b[0;34m=\u001b[0m \u001b[0mnp\u001b[0m\u001b[0;34m.\u001b[0m\u001b[0mzeros\u001b[0m\u001b[0;34m(\u001b[0m\u001b[0mn\u001b[0m\u001b[0;34m)\u001b[0m \u001b[0;31m#<----Replace with zeros, the ROWS of SVT that have smaller norm\u001b[0m\u001b[0;34m\u001b[0m\u001b[0;34m\u001b[0m\u001b[0m\n\u001b[0m\u001b[1;32m      7\u001b[0m \u001b[0mtilde_M\u001b[0m \u001b[0;34m=\u001b[0m \u001b[0mnp\u001b[0m\u001b[0;34m.\u001b[0m\u001b[0mdot\u001b[0m\u001b[0;34m(\u001b[0m\u001b[0mU\u001b[0m\u001b[0;34m,\u001b[0m \u001b[0mSVT\u001b[0m\u001b[0;34m)\u001b[0m \u001b[0;31m#<--smaller rank than rank M\u001b[0m\u001b[0;34m\u001b[0m\u001b[0;34m\u001b[0m\u001b[0m\n\u001b[1;32m      8\u001b[0m \u001b[0mplt\u001b[0m\u001b[0;34m.\u001b[0m\u001b[0mimshow\u001b[0m\u001b[0;34m(\u001b[0m\u001b[0mtilde_M\u001b[0m\u001b[0;34m,\u001b[0m \u001b[0mcmap\u001b[0m\u001b[0;34m=\u001b[0m\u001b[0;34m\"binary\"\u001b[0m\u001b[0;34m)\u001b[0m\u001b[0;34m\u001b[0m\u001b[0;34m\u001b[0m\u001b[0m\n",
      "\u001b[0;31mValueError\u001b[0m: could not broadcast input array from shape (17,) into shape (28,)"
     ]
    }
   ],
   "source": [
    "SVT_wujun=np.dot(U.T, M)\n",
    "SVT=SVT_wujun\n",
    "Theta = sorted([LA.norm(row) for row in SVT], reverse=True)[10] #<--This seems to order the vectors by size?\n",
    "for i in range(n):\n",
    "    if LA.norm(SVT[i])<Theta:\n",
    "        SVT[i] = np.zeros(n) #<----Replace with zeros, the ROWS of SVT that have smaller norm \n",
    "tilde_M = np.dot(U, SVT) #<--smaller rank than rank M\n",
    "plt.imshow(tilde_M, cmap=\"binary\")\n",
    "plt.axis(\"off\")\n",
    "plt.show()"
   ]
  },
  {
   "cell_type": "code",
   "execution_count": null,
   "id": "8edbb827",
   "metadata": {},
   "outputs": [],
   "source": []
  }
 ],
 "metadata": {
  "kernelspec": {
   "display_name": "Python 3",
   "language": "python",
   "name": "python3"
  },
  "language_info": {
   "codemirror_mode": {
    "name": "ipython",
    "version": 3
   },
   "file_extension": ".py",
   "mimetype": "text/x-python",
   "name": "python",
   "nbconvert_exporter": "python",
   "pygments_lexer": "ipython3",
   "version": "3.8.8"
  }
 },
 "nbformat": 4,
 "nbformat_minor": 5
}
