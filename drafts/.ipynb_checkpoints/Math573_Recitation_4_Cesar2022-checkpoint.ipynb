{
 "cells": [
  {
   "cell_type": "code",
   "execution_count": 1,
   "id": "f049b513",
   "metadata": {},
   "outputs": [],
   "source": [
    "import numpy as np\n",
    "\n",
    "def lu2(A): # written sep 20, 2022, to test something\n",
    "    \n",
    "    #Get the number of rows\n",
    "    n = A.shape[0]\n",
    "    \n",
    "    U = A.copy()\n",
    "    L = np.eye(n, dtype=np.double)\n",
    "    \n",
    "    #Loop over rows\n",
    "    for i in range(n):\n",
    "            \n",
    "        #Eliminate entries below i with row operations \n",
    "        #on U and reverse the row operations to \n",
    "        #manipulate L\n",
    "        factor = U[i+1:, i] / U[i, i]\n",
    "        L[i+1:, i] = factor\n",
    "        factor=factor.reshape(-1,1)\n",
    "        other_factor=U[i].reshape(1,-1) # we want to define outer type products. Note shapes involved! \n",
    "        print('factor.shape=', factor.shape)\n",
    "        print('other_factor.shape=', other_factor.shape)\n",
    " \n",
    "            \n",
    "        U[i+1:, :] -=np.dot(factor,other_factor) #<--by above comment, this also works!     \n",
    "        \n",
    "    return L, U  #Does not return a permutation matrix P!"
   ]
  },
  {
   "cell_type": "code",
   "execution_count": 2,
   "id": "f381fdfc",
   "metadata": {},
   "outputs": [
    {
     "name": "stdout",
     "output_type": "stream",
     "text": [
      "factor.shape= (2, 1)\n",
      "other_factor.shape= (1, 3)\n",
      "factor.shape= (1, 1)\n",
      "other_factor.shape= (1, 3)\n",
      "factor.shape= (0, 1)\n",
      "other_factor.shape= (1, 3)\n",
      "A= [[ 3.5   7.    8.3 ]\n",
      " [ 5.73  0.   -5.  ]\n",
      " [ 4.   18.   22.  ]] \n",
      "\n",
      "L= [[ 1.          0.          0.        ]\n",
      " [ 1.63714286  1.          0.        ]\n",
      " [ 1.14285714 -0.87260035  1.        ]]\n",
      "\n",
      "\n",
      "U= [[  3.5          7.           8.3       ]\n",
      " [  0.         -11.46       -18.58828571]\n",
      " [  0.           0.          -3.70585889]]\n",
      "\n",
      "\n",
      "Verification: LU=\n",
      " [[ 3.5   7.    8.3 ]\n",
      " [ 5.73  0.   -5.  ]\n",
      " [ 4.   18.   22.  ]]\n"
     ]
    }
   ],
   "source": [
    "A = np.array([[3.5, 7., 8.3], [5.73, 0., -5.], [4., 18., 22.]])\n",
    "[L,U]=lu2(A)\n",
    "print('A=', A, '\\n')\n",
    "print('L=', L)\n",
    "print('\\n')\n",
    "print('U=', U)\n",
    "print('\\n')\n",
    "print('Verification: LU=\\n',  np.dot(L, U))  #matrix product L*U np.dot(L,U)"
   ]
  },
  {
   "cell_type": "markdown",
   "id": "ad3dc540",
   "metadata": {},
   "source": [
    "# A Naive LU\n",
    "\n",
    "We can obtain an LU-factorization from using \n",
    "\n",
    "\\begin{equation}\n",
    "U=L_{n-1}L_{n-2}\\cdots L_{1}A=\\tilde{L}A\n",
    "\\end{equation}"
   ]
  },
  {
   "cell_type": "code",
   "execution_count": null,
   "id": "d85d20e8",
   "metadata": {},
   "outputs": [],
   "source": [
    "\n",
    "\n",
    "def lu(A): # written sep 20, 2022, to test something\n",
    "    \n",
    "    #Get the number of rows\n",
    "    n = A.shape[0]\n",
    "    \n",
    "    U = A.copy()\n",
    "    L = np.eye(n, dtype=np.double)\n",
    "    \n",
    "    #Loop over rows\n",
    "    for i in range(n):\n",
    "            \n",
    "        #Eliminate entries below i with row operations \n",
    "        #on U and reverse the row operations to \n",
    "        #manipulate L\n",
    "        factor = U[i+1:, i] / U[i, i]\n",
    "        L[i+1:, i] = factor\n",
    "        U=\n",
    "        U[i+1:, :] -=np.dot(factor,other_factor) #<--by above comment, this also works!     \n",
    "        \n",
    "    return L, U  #Does not return a permutation matrix P!"
   ]
  }
 ],
 "metadata": {
  "kernelspec": {
   "display_name": "Python 3",
   "language": "python",
   "name": "python3"
  },
  "language_info": {
   "codemirror_mode": {
    "name": "ipython",
    "version": 3
   },
   "file_extension": ".py",
   "mimetype": "text/x-python",
   "name": "python",
   "nbconvert_exporter": "python",
   "pygments_lexer": "ipython3",
   "version": "3.8.8"
  }
 },
 "nbformat": 4,
 "nbformat_minor": 5
}
