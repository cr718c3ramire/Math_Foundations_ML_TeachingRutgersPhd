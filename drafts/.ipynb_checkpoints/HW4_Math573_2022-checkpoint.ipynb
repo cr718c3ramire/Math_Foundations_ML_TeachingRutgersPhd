{
 "cells": [
  {
   "cell_type": "markdown",
   "id": "20f5e90d",
   "metadata": {},
   "source": [
    "# Basic Linear Regression Set Up\n",
    "\n",
    "Suppose we have noisy data of a linear model:\n",
    "\n",
    "\\begin{equation}\\label{eq1}\\tag{1}\n",
    "y_{\\text{obs}}=4+3x+W\n",
    "\\end{equation}\n",
    "\n",
    "where $W\\sim N(0,1)$ standard normal random variable represents a Gaussian type noise or interference that\n",
    "keeps us from obtaining the perfect linear output $y(x)=4+3x$. \n",
    "\n",
    "The following code snippet generates 100 $x$-axis random values from the interval $[0,2]$ and associates a corresponding $y$-value to each of these 100 $x$-values using relation \\eqref{eq1}, which includes a Gaussian perturbation from the exact linear relation. We then plot the $(x,y)$ pairs. This corresponds to 100 data points. \n"
   ]
  },
  {
   "cell_type": "code",
   "execution_count": 3,
   "id": "49cf8584",
   "metadata": {
    "scrolled": true
   },
   "outputs": [
    {
     "data": {
      "text/plain": [
       "Text(0, 0.5, '$y_{obs}$')"
      ]
     },
     "execution_count": 3,
     "metadata": {},
     "output_type": "execute_result"
    },
    {
     "data": {
      "image/png": "[encoded data removed]",
      "text/plain": [
       "<Figure size 432x288 with 1 Axes>"
      ]
     },
     "metadata": {
      "needs_background": "light"
     },
     "output_type": "display_data"
    }
   ],
   "source": [
    "import numpy as np\n",
    "import matplotlib.pyplot as plt\n",
    "\n",
    "X=2*np.random.rand(100,1) # observed independent variables\n",
    "y=4+3*X+np.random.randn(100,1) # output\n",
    "\n",
    "plt.scatter(X,y)\n",
    "plt.title(r'Observed data points')  \n",
    "plt.xlabel(r'$x$') \n",
    "plt.ylabel(r'$y_{obs}$')"
   ]
  },
  {
   "cell_type": "markdown",
   "id": "36d1a8b0",
   "metadata": {},
   "source": [
    "We try to illustrate in this toy example how linear regression works by trying to recover the linear model. We assume that the true values satisfy $y_{\\text{true}}=\\theta_0+\\theta_1 x$ for $\\theta_0$ the $y$-intercept and $\\theta_1$ the slope. This is our working hypothesis. Note if $\\theta=[\\theta_0,\\theta_1]^T$, then \n",
    "\n",
    "\\begin{equation}\n",
    "y_{\\text{true}}=[\\theta_0,\\theta_1]\n",
    "\\begin{bmatrix}\n",
    "1\\\\\n",
    "x\n",
    "\\end{bmatrix}\n",
    "=\\theta_0+\\theta_1 x\n",
    "\\end{equation}\n",
    "\n",
    " \n",
    "\n",
    "## A boring detail \n",
    "\n",
    "Remember Python distinguishes between 1-D arrays and 2-D arrays. Remember also the difference between the dimensions of an array in a computer sense that Python uses, versus the concept of dimension of a matrix. An $m$-rows by $n$-columns matrix $(A_{ij})$ is a Python 2-D array of shape $(m,n)$. The reason I mention this is because some Python functions expect matrix versions of column or row vectors. (I mentioned this in a recitation for which the second Jupyter notebook I uploaded is useful in case you want to review)\n",
    "\n",
    "Note how the independent variable $X$ we generated prints out:"
   ]
  },
  {
   "cell_type": "code",
   "execution_count": 2,
   "id": "32ba056d",
   "metadata": {},
   "outputs": [
    {
     "name": "stdout",
     "output_type": "stream",
     "text": [
      "[[0.9707451 ]\n",
      " [1.3494893 ]\n",
      " [1.99112009]\n",
      " [0.27886308]\n",
      " [0.93950523]\n",
      " [0.04880667]\n",
      " [0.05931985]\n",
      " [1.17487521]\n",
      " [1.43312552]\n",
      " [0.93821473]]\n"
     ]
    }
   ],
   "source": [
    "print(X[0:10])"
   ]
  },
  {
   "cell_type": "markdown",
   "id": "6eca0374",
   "metadata": {},
   "source": [
    "# Setting up Normal equation\n",
    "\n",
    "  \n",
    "\n",
    "Let us use the commonly used MSE (mean-squared-error) function, defined as\n",
    "\n",
    " \\begin{equation}\n",
    "    \\text{MSE}(\\theta):=\\frac{1}{m}\\sum_{i=1}^m (\\mathbf{\\theta}^T \\mathbf{x}^{(i)}-y^{(i)})^2\n",
    " \\end{equation}\n",
    " where $\\theta$ is a column vector storing the necessary parameters that define the linear model. For our case this column vector $\\theta$ is\n",
    " \n",
    "  \\begin{equation}\n",
    " \\theta=[\\theta_0, \\theta_1]^T\n",
    " \\end{equation}\n",
    " and each observed independent variable $\\mathbf{x}^{(i)}$ for our case adds a dummy variable $\\mathbf{x}^{(i)}_0:=1$ to obtain the row vector\n",
    " \n",
    "  \\begin{equation}\\label{eq2}\\tag{2}\n",
    " \\mathbf{x}^{(i)}=[x^{(i)}_0, x^{(i)}_1]=[1, x^{(i)}_1]\n",
    " \\end{equation} \n",
    " \n",
    " where the $\\mathbf{x}^{(i)}_0:=1$ fixed dummy value is so we can write a linear regression in this simple form to get \n",
    " \\begin{equation}\n",
    " y^{(i)}\\approx \\mathbf{\\theta}^T \\mathbf{x}^{(i)}=\\theta_0+ \\theta_1 x^{(i)}_1\n",
    " \\end{equation}\n",
    " \n",
    " Note you may have seen the loss function expressed as\n",
    " \n",
    " \\begin{equation}\n",
    "    J(\\theta):=\\frac{1}{2}\\sum_{i=1}^m (\\mathbf{\\theta}^T \\mathbf{x}^{(i)}-y^{(i)})^2\n",
    " \\end{equation}\n",
    " \n",
    " or with some other factor in front of the sum of the squared errors. For the purposes of minimization and using orthogonality relations, this factor is not too relevant as we still have a normal equation relation as we now explain.\n",
    " \n",
    " **We will use different notation from the class notation $A^T Ax= A^T y$. Here we introduce a slightly different but common notation in machine learning textbooks. We will collect our data into a matrix $X$ (instead of $A$) and solve for a parameter vector $\\theta$ (instead of solving for a vector $\\mathbf{x}$). This data matrix $X$ is defined by having its $i$th row made of the components of $\\mathbf{x}^{(i)}$.** \n",
    " \n"
   ]
  },
  {
   "cell_type": "markdown",
   "id": "db7e1453",
   "metadata": {},
   "source": [
    "# Problem 1\n",
    "\n",
    " **(A) Note the first code snippet above generated 100 $x$-values and stored them into an array $X$. \n",
    " But to get vectors in the row forms $[1,x_1^{(i)}]$, we need to add 1's to each of the 100 $x$-values generated in the Jupyter cell above. Add 1's first to modify $X$, and print the first 10 entries of your modified $X$ array:** "
   ]
  },
  {
   "cell_type": "code",
   "execution_count": null,
   "id": "6fab0f5f",
   "metadata": {},
   "outputs": [],
   "source": [
    "# Modify X array here\n",
    "\n",
    " "
   ]
  },
  {
   "cell_type": "markdown",
   "id": "da86a8fd",
   "metadata": {},
   "source": [
    "**(B) To get the best estimate $\\widehat{\\theta}$ of our parameters to determine the linear model, we solve the normal equation $X^T X \\widehat{\\theta}=X^T y$ corresponding to our data points $X$ and $y$: Assuming we have an invertible $X^T X$ we could simply solve**\n",
    "\\begin{equation}\n",
    "\\widehat{\\theta}= (X^T X)^{-1} X^T y\n",
    "\\end{equation}\n",
    "\n",
    "**If the matrix is not invertible, we have to settle for finding solutions to**\n",
    "\\begin{equation}\n",
    "X^T X\\widehat{\\theta}=  X^T y\n",
    "\\end{equation}\n",
    "\n",
    "\n",
    " **Question: Is it the case that we have an invertible matrix here?** *Note and hint: Assume the 100 obtained $\\mathbf{x}^{(i)}$ points are different. Do not just use a built-in determinant Python function to compute the determinant!  \n",
    " \n",
    " **(C) Code something that can solve the normal equation given above. The function has to solve for the parameter vector $\\theta=[\\theta_0, \\theta_1]^T$. You can use Python built-in functions to solve the normal equation.** Note and Hint: But you cannot use built-in linear regression functions, since we will use those built-in functions below. This question does not require a long code! It can be done very concisely once you have put in the adequate arrays!  \n",
    " \n",
    " \n",
    " \n",
    " \n",
    " \n",
    " \n",
    " \n",
    " \n",
    " \n",
    " \n",
    " \n",
    " \n",
    " "
   ]
  },
  {
   "cell_type": "code",
   "execution_count": null,
   "id": "613e185f",
   "metadata": {},
   "outputs": [],
   "source": [
    "#Your code here\n",
    " "
   ]
  },
  {
   "cell_type": "markdown",
   "id": "4deb9980",
   "metadata": {},
   "source": [
    "# Problem 2: Plot predictions\n",
    "\n",
    "**(A) Using the parameters $\\theta_0$ and $\\theta_1$ obtained above, plot the straight line obtained and show it within the plot of the 100 data points. Does it seem like a good fit?**\n",
    "\n",
    "**(B) Print out the mean square error corresponding to this optimal $\\widehat{\\theta}$, i.e. print out $MSE(\\theta)$.**"
   ]
  },
  {
   "cell_type": "code",
   "execution_count": null,
   "id": "70bbf8c1",
   "metadata": {},
   "outputs": [],
   "source": [
    "# plot here"
   ]
  },
  {
   "cell_type": "code",
   "execution_count": null,
   "id": "030ecf08",
   "metadata": {},
   "outputs": [],
   "source": [
    "# print MSE()"
   ]
  },
  {
   "cell_type": "markdown",
   "id": "0bea6a7d",
   "metadata": {},
   "source": [
    "# Question 3: Scikit-Learn approach (sklearn)\n",
    "\n",
    "(A) Let us now quickly use a built-in library to perform linear regression this time. In a previous recitation, the TA uploaded how to use a scikit-learn model for LinearRegression. Check if the sklearn method agrees with your optimal  parameter above. Just calculate and print $\\theta$ from sklearn so we can see the agreement (or not). You do not need to plot anything this time."
   ]
  },
  {
   "cell_type": "code",
   "execution_count": null,
   "id": "36e6c782",
   "metadata": {},
   "outputs": [],
   "source": [
    "# sklearn Code Here\n",
    " "
   ]
  }
 ],
 "metadata": {
  "kernelspec": {
   "display_name": "Python 3",
   "language": "python",
   "name": "python3"
  },
  "language_info": {
   "codemirror_mode": {
    "name": "ipython",
    "version": 3
   },
   "file_extension": ".py",
   "mimetype": "text/x-python",
   "name": "python",
   "nbconvert_exporter": "python",
   "pygments_lexer": "ipython3",
   "version": "3.8.8"
  }
 },
 "nbformat": 4,
 "nbformat_minor": 5
}
