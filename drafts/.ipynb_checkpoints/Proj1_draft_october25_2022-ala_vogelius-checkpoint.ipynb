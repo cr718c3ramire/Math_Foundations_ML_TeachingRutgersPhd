{
 "cells": [
  {
   "cell_type": "code",
   "execution_count": 1,
   "id": "168b5780",
   "metadata": {},
   "outputs": [],
   "source": [
    "import numpy as np\n",
    "import numpy.linalg as LA\n",
    "import scipy.linalg as la\n",
    "import matplotlib.pyplot as plt"
   ]
  },
  {
   "cell_type": "markdown",
   "id": "61d5038e",
   "metadata": {},
   "source": [
    "# What this function below does:\n",
    "\n",
    "Given a matrix $M=U\\Sigma V^T \\in \\mathbb{R}^{m\\times d}$, it returns $U$, $\\Sigma\\Sigma^T$ and $\\Sigma V^T$. The $\\Sigma V^T$ part is not necessary for doing this SVD \"a la Vogelius\". "
   ]
  },
  {
   "cell_type": "code",
   "execution_count": 2,
   "id": "33985cf1",
   "metadata": {},
   "outputs": [],
   "source": [
    "#October 24, modified Wujun's function. Wujun's did not return SSt (=H here) but I added it here. \n",
    "\n",
    "def SVD(M, tol=1e-4, max_it=1000):\n",
    "    # write your code here\n",
    "    \n",
    "    A = np.dot(M, M.T)\n",
    "    H, Q = la.hessenberg(A,calc_q=True)\n",
    "    I = np.eye(A.shape[0])\n",
    "    U = Q\n",
    "    B = H\n",
    "    \n",
    "    num_it = 0 # count the number of iterations of QR algorithm\n",
    "    err = 1\n",
    "    \n",
    "    while err>tol:\n",
    "        num_it +=1\n",
    "        Q,R = la.qr(H)\n",
    "        U = np.dot(U, Q)\n",
    "        H = np.dot(R,Q)\n",
    "        err = LA.norm(H - B, np.inf)\n",
    "        B = H\n",
    "      \n",
    "        if num_it>max_it:\n",
    "            print('The QR decomposition does not converge in %d iterations!' % max_it)\n",
    "            break\n",
    "    \n",
    "    SVT = np.dot(U.T, M)\n",
    "    return U, SVT, H"
   ]
  },
  {
   "cell_type": "markdown",
   "id": "8c07b078",
   "metadata": {},
   "source": [
    "The above assumes $$M=U\\Sigma V^T$$ with $M\\in\\mathbb{R}^{m\\times d}$. It computes the diagonalization of\n",
    "\\begin{equation}\\label{eq1}\\tag{1}\n",
    "MM^T= U \\Sigma \\Sigma^T U^T \n",
    "\\end{equation}\n",
    "\n",
    "# The implementation detail\n",
    "\n",
    "In short the biggest potential difficulty is that you get the positive singular values within an inner block of $\\Sigma$, i.e., something like\n",
    "\\begin{align*}\n",
    "\\Sigma\\Sigma^T=\\begin{bmatrix}\n",
    "\\mathbf{0} &   &  \\\\ \n",
    "  & \\Sigma_1^2 &   \\\\ \n",
    "  &  & \\mathbf{0}\n",
    "\\end{bmatrix} \n",
    "\\end{align*}\n",
    "where\n",
    "\\begin{equation}\n",
    "\\Sigma_1^2=\\text{diag}[\\sigma_1^2, \\sigma_2^2,...,\\sigma_r^2]\\in\\mathbb{R}^{r\\times r}\n",
    "\\end{equation}\n",
    "\n",
    "where at least we're lucky $\\sigma_1^2\\geq \\sigma_2^2\\geq \\cdots \\sigma_r^2>0$ and $r=$rank$(M)$.\n",
    "\n",
    "So if $M$ is an $m\\times d$ matrix and thus $U\\in \\mathbb{R}^{m\\times m}$, $\\Sigma \\in \\mathbb{R}^{m\\times d}$, $V \\in \\mathbb{R}^{d\\times d}$ and \n",
    "\n",
    "\n",
    "\\begin{equation}\\label{eq2}\\tag{2}\n",
    "U^T MM^T U=  \\begin{bmatrix}\n",
    "\\mathbf{0} &   &  \\\\ \n",
    "  & \\Sigma_1^2 &   \\\\ \n",
    "  &  & \\mathbf{0}\n",
    "\\end{bmatrix}, \\hspace{0.4in} U=[\\mathbf{u}_1, \\cdots , \\mathbf{u}_m]\\in \\mathbb{R}^{m\\times m}, \\;\\; \n",
    "(\\mathbf{u}_i \\in \\mathbb{R}^m)\n",
    "\\end{equation}\n",
    "\n",
    "# Reduce according to rank\n",
    "\n",
    "**It would make sense to extract only the columns of $U$ corresponding to the $r$ INNER columns of $\\Sigma$ that comprise $\\Sigma_1$**. With this\n",
    "\n",
    "\\begin{equation}\\label{eq3}\\tag{3}\n",
    "U_1 =[\\mathbf{u}'_1, \\cdots , \\mathbf{u}'_r]\\in \\mathbb{R}^{m\\times r}\n",
    "\\end{equation}\n",
    "\n",
    "where the $r$ column vectors $\\mathbf{u}'_i \\in \\mathbb{R}^{m}$ correspond to the inner columns that match with $\\Sigma_1^2$. With this $U_1$, and noting the square array $\\Sigma_1$ is invertible, we define\n",
    "\n",
    "\\begin{equation}\\label{eq4}\\tag{4}\n",
    "V_1 =M^T U_1 \\Sigma_1^{-1} \\in \\mathbb{R}^{d\\times r}\n",
    "\\end{equation}\n",
    "\n",
    "Therefore we could work with \n",
    "\\begin{equation}\\label{eq5}\\tag{5}\n",
    "  U_1\\Sigma_1V_1^T   \\in \\mathbb{R}^{m\\times d}\n",
    "\\end{equation}\n",
    "\n",
    "and note\n",
    "\n",
    "\\begin{equation}\\label{eq6}\\tag{6}\n",
    "  \\Sigma_1V_1^T = \n",
    "   \\begin{bmatrix}\n",
    "\\sigma_1\\mathbf{v}_1^T    \\\\ \n",
    "  \\vdots   \\\\ \n",
    "  \\sigma_r \\mathbf{v}_r^T\n",
    "\\end{bmatrix}\n",
    "  \\in \\mathbb{R}^{r\\times d}, \\hspace{0.4in} \\|\\sigma_k \\mathbf{v}_k^T\\|=\\sigma_k\n",
    "\\end{equation}\n",
    "\n",
    "and so\n",
    "\n",
    "\\begin{equation} \n",
    "U_1\\Sigma_1 V_1^T= \\sigma_1 \\mathbf{u}'_1 \\mathbf{v}_1^T+ \\cdots +\\sigma_r\\mathbf{u}'_r\\mathbf{v}_r^T\n",
    "\\end{equation}\n",
    "\n",
    "# Complete $V$ to $d$ columns?\n",
    "\n",
    "So far $V_1$ is a $d\\times r$ matrix. While $V$ in $M=U\\Sigma V^T$ is a $d\\times d$ array.\n",
    "\n",
    "We could complete $V$ to have $d$ columns when $d>r$. For this we would have to complete the $r$ columns $\\mathbf{v}_1, \\cdots , \\mathbf{v}_r$ to add $\\mathbf{v}_{r+1},\\cdots, \\mathbf{v}_d$ with\n",
    "\n",
    "\\begin{equation}\n",
    "\\text{span}(\\mathbf{v}_1, \\cdots , \\mathbf{v}_r)\\perp \\text{span}(\\mathbf{v}_{r+1}, \\cdots , \\mathbf{v}_d)\n",
    "\\end{equation}"
   ]
  },
  {
   "cell_type": "code",
   "execution_count": 9,
   "id": "5b300eee",
   "metadata": {
    "scrolled": true
   },
   "outputs": [
    {
     "data": {
      "image/png": "[encoded data removed]",
      "text/plain": [
       "<Figure size 432x288 with 1 Axes>"
      ]
     },
     "metadata": {
      "needs_background": "light"
     },
     "output_type": "display_data"
    }
   ],
   "source": [
    "M = np.load('image2.npy') # a 28x28 matrix\n",
    "\n",
    "U, SVT, SSt = SVD(M)\n",
    "\n",
    "plt.imshow(M, cmap=\"binary\")\n",
    "plt.axis(\"off\")\n",
    "plt.show()"
   ]
  },
  {
   "cell_type": "code",
   "execution_count": 10,
   "id": "d9c796ad",
   "metadata": {},
   "outputs": [
    {
     "name": "stdout",
     "output_type": "stream",
     "text": [
      "[5, 2167.8393412553423]\n",
      "[6, 1268.1906324315346]\n",
      "[7, 819.2278208057658]\n",
      "[8, 640.7615904282343]\n",
      "[9, 494.51868678426274]\n",
      "[10, 308.27397667875323]\n",
      "[11, 215.60924755774175]\n",
      "[12, 157.88188358468273]\n",
      "[13, 137.56991463087013]\n",
      "[14, 116.5039076599126]\n",
      "[15, 109.13857170769408]\n",
      "[16, 88.08301502539162]\n",
      "[17, 83.09568511057533]\n",
      "[18, 70.54452988535633]\n",
      "[19, 44.20139373389551]\n",
      "[20, 29.666455046296765]\n",
      "[21, 20.286426944763967]\n",
      "[22, 13.55373115864933]\n",
      "[23, 3.895720647791954]\n",
      "[24, 1.6331208831012702]\n"
     ]
    }
   ],
   "source": [
    "for i in range(28):\n",
    "    for j in range(28):\n",
    "        if(np.abs(SSt[i,j])<10e-2):\n",
    "            SSt[i,j]=0\n",
    "positive_values=[]\n",
    "for i in range(28):\n",
    "    if(SSt[i,i]>0):\n",
    "        positive_values.append([i, np.sqrt(SSt[i,i])])\n",
    "        \n",
    "for i in range(len(positive_values)):\n",
    "    print(positive_values[i])  "
   ]
  },
  {
   "cell_type": "markdown",
   "id": "bd6b2d86",
   "metadata": {},
   "source": [
    "# Define $U_1, V_1$\n",
    "\n",
    "We get $V_1=M^T U_1 \\Sigma_1^{-1}$, then I compute the product $U_1 \\Sigma_1 V_1^T$, and plot it just to double check"
   ]
  },
  {
   "cell_type": "code",
   "execution_count": 5,
   "id": "d72d0d56",
   "metadata": {},
   "outputs": [
    {
     "name": "stdout",
     "output_type": "stream",
     "text": [
      "M_rank_r.shape= (28, 28)\n"
     ]
    },
    {
     "data": {
      "image/png": "[encoded data removed]",
      "text/plain": [
       "<Figure size 432x288 with 1 Axes>"
      ]
     },
     "metadata": {
      "needs_background": "light"
     },
     "output_type": "display_data"
    }
   ],
   "source": [
    "# Here everything is square so I can define\n",
    "r=len(positive_values)\n",
    "U1=np.zeros([28,r])\n",
    "sigma_1=np.zeros([r,r])\n",
    "for k in range(r):\n",
    "    i=positive_values[k][0]\n",
    "    #print('k=', k, 'i=', i)\n",
    "    U1[:,k]=U[:,i]\n",
    "    sigma_1[k,k]=positive_values[k][1]\n",
    "    \n",
    "V1=M.T@U1@LA.inv(sigma_1) \n",
    "\n",
    "M_rank_r=U1@sigma_1@V1.T\n",
    "print('M_rank_r.shape=', M_rank_r.shape) \n",
    "plt.imshow(M_rank_r, cmap=\"binary\")\n",
    "plt.axis(\"off\")\n",
    "plt.show()"
   ]
  },
  {
   "cell_type": "code",
   "execution_count": 8,
   "id": "e502f525",
   "metadata": {},
   "outputs": [
    {
     "name": "stdout",
     "output_type": "stream",
     "text": [
      "SVT.shape= (20, 28)\n",
      "n= 20\n"
     ]
    },
    {
     "data": {
      "text/plain": [
       "<matplotlib.image.AxesImage at 0x7f3c11a57550>"
      ]
     },
     "execution_count": 8,
     "metadata": {},
     "output_type": "execute_result"
    },
    {
     "data": {
      "image/png": "[encoded data removed]",
      "text/plain": [
       "<Figure size 864x504 with 3 Axes>"
      ]
     },
     "metadata": {
      "needs_background": "light"
     },
     "output_type": "display_data"
    }
   ],
   "source": [
    "#Now we compress the previous \n",
    "\n",
    "SVT=sigma_1@V1.T\n",
    "print('SVT.shape=', SVT.shape)\n",
    "\n",
    "n=SVT.shape[0]\n",
    "print('n=', n)\n",
    "Theta = sorted([LA.norm(row) for row in SVT], reverse=True)[4] #<--This returns reverse-sorted list of vectors by norm\n",
    "                                                                 #  and then grabs the last one, i.e. smallest norm?  \n",
    "for i in range(n):\n",
    "    if LA.norm(SVT[i])<Theta:\n",
    "        SVT[i] = np.zeros(28) #<----Replace with zeros, the ROWS of SVT that have smaller norm \n",
    "tilde_M = np.dot(U1, SVT) #<--smaller rank than rank M\n",
    "fig, axes = plt.subplots(1, 3, figsize=(12, 7))\n",
    "ax = axes.ravel()\n",
    "\n",
    " \n",
    "ax[0].imshow(M, cmap='binary')\n",
    "ax[1].imshow(M_rank_r, cmap='binary')\n",
    "ax[2].imshow(tilde_M, cmap='binary')"
   ]
  },
  {
   "cell_type": "code",
   "execution_count": 8,
   "id": "965683c0",
   "metadata": {},
   "outputs": [
    {
     "data": {
      "text/plain": [
       "<matplotlib.image.AxesImage at 0x7fa567347460>"
      ]
     },
     "execution_count": 8,
     "metadata": {},
     "output_type": "execute_result"
    },
    {
     "data": {
      "image/png": "[encoded data removed]",
      "text/plain": [
       "<Figure size 576x288 with 3 Axes>"
      ]
     },
     "metadata": {
      "needs_background": "light"
     },
     "output_type": "display_data"
    }
   ],
   "source": [
    "fig, axes = plt.subplots(1, 3, figsize=(8, 4))\n",
    "ax = axes.ravel()\n",
    "\n",
    " \n",
    "ax[0].imshow(M)\n",
    "ax[1].imshow(M_rank_r)\n",
    "ax[2].imshow(tilde_M)"
   ]
  },
  {
   "cell_type": "markdown",
   "id": "8582a94e",
   "metadata": {},
   "source": [
    "# Wujun's code\n",
    "\n",
    "From $M=U\\Sigma V^T$ we obtain using QR-method $U$. Using the SVD relationship, if we have $U$, then we also have $\\Sigma V^T$, because\n",
    "\n",
    "\\begin{equation}\\label{eq10}\\tag{10}\n",
    "U^T M= \\Sigma V^T=\n",
    "\\begin{bmatrix}\n",
    "0    \\\\ \n",
    "  \\vdots   \\\\ \n",
    "  0\\\\\n",
    "  \\sigma_1 \\mathbf{v}_{m+1}^T\\\\\n",
    "  \\cdots &\\\\\n",
    "  \\sigma_r \\mathbf{v}_{m+r}^T\\\\\n",
    "  0\\\\\n",
    "  \\cdots\\\\\n",
    "  0\n",
    "\\end{bmatrix}\n",
    "  \\in \\mathbb{R}^{r\\times d}, \\hspace{0.4in} \\|\\sigma_k \\mathbf{v}_{m+k}^T\\|=\\sigma_k\\;\\; 1\\leq k \\leq r\n",
    "\\end{equation}\n",
    "\n",
    "What Wujun's code does, after its SVD function returns only $U$ and $\\Sigma V^T$, it sets to zero all the rows in $\\Sigma V^T$ that are smaller in norm than the $k$ largest. This defines a new array called $\\hat{S}\\approx \\Sigma V^T$ and then defines (note using complete $U$, did not remove any vectors/columns of $U$!)\n",
    "\n",
    "\\begin{equation}\n",
    "\\hat{M}:= U \\hat{S}= \\sum_{i=1}^k \\sigma_i \\mathbf{u}_i\\mathbf{v}_{m+i}^T \\leftarrow \\text{approximation rank } k\n",
    "\\end{equation}"
   ]
  },
  {
   "cell_type": "code",
   "execution_count": 9,
   "id": "ec1c1204",
   "metadata": {},
   "outputs": [
    {
     "data": {
      "text/plain": [
       "<matplotlib.image.AxesImage at 0x7fa569ba3a60>"
      ]
     },
     "execution_count": 9,
     "metadata": {},
     "output_type": "execute_result"
    },
    {
     "data": {
      "image/png": "[encoded data removed]",
      "text/plain": [
       "<Figure size 576x288 with 2 Axes>"
      ]
     },
     "metadata": {
      "needs_background": "light"
     },
     "output_type": "display_data"
    }
   ],
   "source": [
    "U, SVT, SSt = SVD(M)\n",
    "\n",
    "n = SVT.shape[0] #Note LA.norm along rows! Not along cols! Because it involves V^T, not V.\n",
    "Theta = sorted([LA.norm(row) for row in SVT], reverse=True)[10] #<--This returns reverse-sorted list of vectors by norm\n",
    "                                                                 #  and then grabs the last one, i.e. smallest norm?  \n",
    "for i in range(n):\n",
    "    if LA.norm(SVT[i])<Theta:\n",
    "        SVT[i] = np.zeros(n) #<----Replace with zeros, the ROWS of SVT that have smaller norm \n",
    "tilde_M = np.dot(U, SVT) #<--smaller rank than rank M\n",
    "\n",
    "fig, axes = plt.subplots(1, 2, figsize=(8, 4))\n",
    "ax = axes.ravel()\n",
    "\n",
    " \n",
    "ax[0].imshow(M, cmap='binary')\n",
    "ax[1].imshow(tilde_M, cmap='binary')"
   ]
  },
  {
   "cell_type": "code",
   "execution_count": null,
   "id": "7696de8c",
   "metadata": {},
   "outputs": [],
   "source": [
    "A=np.array([[1,2,3],[5,6,7],[0,8,11],[6,8,15],[7,13,14]])\n",
    "U2, SVT2, SSt2 = SVD(A)\n",
    "m=SSt2.shape[0]\n",
    "k=SSt2.shape[1]\n",
    "for i in range(m):\n",
    "    for j in range(k):\n",
    "        if(np.abs(SSt2[i,j])<10e-2):\n",
    "            SSt2[i,j]=0\n",
    "positive_values=[]\n",
    "for i in range(np.maximum(m,k)):\n",
    "    if(SSt2[i,i]>0):\n",
    "        positive_values.append([i, np.sqrt(SSt2[i,i])])\n",
    "        \n",
    "for i in range(len(positive_values)):\n",
    "    print(positive_values[i])"
   ]
  }
 ],
 "metadata": {
  "kernelspec": {
   "display_name": "Python 3",
   "language": "python",
   "name": "python3"
  },
  "language_info": {
   "codemirror_mode": {
    "name": "ipython",
    "version": 3
   },
   "file_extension": ".py",
   "mimetype": "text/x-python",
   "name": "python",
   "nbconvert_exporter": "python",
   "pygments_lexer": "ipython3",
   "version": "3.8.8"
  }
 },
 "nbformat": 4,
 "nbformat_minor": 5
}
