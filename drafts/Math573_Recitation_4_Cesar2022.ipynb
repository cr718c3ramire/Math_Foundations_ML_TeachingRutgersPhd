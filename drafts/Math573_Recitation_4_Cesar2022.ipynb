{
 "cells": [
  {
   "cell_type": "code",
   "execution_count": 2,
   "id": "f049b513",
   "metadata": {},
   "outputs": [],
   "source": [
    "import numpy as np\n",
    "\n",
    "def lu2(A): # written sep 20, 2022, to test something\n",
    "    \n",
    "    #Get the number of rows\n",
    "    n = A.shape[0]\n",
    "    \n",
    "    U = A.copy()\n",
    "    L = np.eye(n, dtype=np.double)\n",
    "    \n",
    "    #Loop over rows\n",
    "    for i in range(n):\n",
    "            \n",
    "        #Eliminate entries below i with row operations \n",
    "        #on U and reverse the row operations to \n",
    "        #manipulate L\n",
    "        factor = U[i+1:, i] / U[i, i]\n",
    "        L[i+1:, i] = factor\n",
    "        factor=factor.reshape(-1,1)\n",
    "        other_factor=U[i].reshape(1,-1) # we want to define outer type products. Note shapes involved! \n",
    "        print('factor.shape=', factor.shape)\n",
    "        print('other_factor.shape=', other_factor.shape)\n",
    " \n",
    "            \n",
    "        U[i+1:, :] =U[i+1:, :] - np.dot(factor,other_factor) #<--by above comment, this also works!     \n",
    "        \n",
    "    return L, U  #Does not return a permutation matrix P!"
   ]
  },
  {
   "cell_type": "code",
   "execution_count": null,
   "id": "f381fdfc",
   "metadata": {},
   "outputs": [],
   "source": [
    "A = np.array([[3.5, 7., 8.3], [5.73, 0., -5.], [4., 18., 22.]])\n",
    "[L,U]=lu2(A)\n",
    "print('A=', A, '\\n')\n",
    "print('L=', L)\n",
    "print('\\n')\n",
    "print('U=', U)\n",
    "print('\\n')\n",
    "print('Verification: LU=\\n',  np.dot(L, U))  #matrix product L*U np.dot(L,U)"
   ]
  },
  {
   "cell_type": "code",
   "execution_count": 7,
   "id": "17c92d08",
   "metadata": {},
   "outputs": [
    {
     "name": "stdout",
     "output_type": "stream",
     "text": [
      "the model scored= 0.715875613747954\n",
      "intercept: 5.633333333333329\n",
      "slope: [0.54]\n"
     ]
    }
   ],
   "source": [
    "from sklearn.linear_model import LinearRegression\n",
    "from sklearn.metrics import mean_squared_error, r2_score\n",
    "import matplotlib.pyplot as plt\n",
    "from matplotlib.pyplot import cm #<--this allows a color palette to loop through when plot\n",
    "\n",
    "x = np.array([5, 15, 25, 35, 45, 55]).reshape((-1, 1))\n",
    "y = np.array([5, 20, 14, 32, 22, 38])\n",
    "\n",
    "model = LinearRegression()\n",
    "model.fit(x, y)\n",
    "r_sq = model.score(x, y)\n",
    "print('the model scored=', r_sq)\n",
    "print(f\"intercept: {model.intercept_}\")\n",
    "print(f\"slope: {model.coef_}\")\n",
    "b_0=model.intercept_\n",
    "b_1=model.coef_  #<---slope\n"
   ]
  },
  {
   "cell_type": "code",
   "execution_count": 8,
   "id": "d85d20e8",
   "metadata": {},
   "outputs": [
    {
     "data": {
      "text/plain": [
       "[<matplotlib.lines.Line2D at 0x7f9fa2d26dc0>]"
      ]
     },
     "execution_count": 8,
     "metadata": {},
     "output_type": "execute_result"
    },
    {
     "data": {
      "image/png": "[encoded data removed]",
      "text/plain": [
       "<Figure size 432x288 with 1 Axes>"
      ]
     },
     "metadata": {
      "needs_background": "light"
     },
     "output_type": "display_data"
    }
   ],
   "source": [
    "lengths=np.array([0,75])\n",
    "y_pred=b_0+b_1*lengths\n",
    "plt.clf()\n",
    "plt.scatter(x,y)\n",
    "plt.plot(lengths, y_pred, color='r')"
   ]
  },
  {
   "cell_type": "code",
   "execution_count": null,
   "id": "835a25c9",
   "metadata": {},
   "outputs": [],
   "source": [
    "def estimate_coef(x, y):\n",
    "    # number of observations/points\n",
    "    n = np.size(x)\n",
    "  \n",
    "    # mean of x and y vector\n",
    "    m_x = np.mean(x)\n",
    "    m_y = np.mean(y)\n",
    "  \n",
    "    # calculating cross-deviation and deviation about x\n",
    "    SS_xy = np.sum(y*x) - n*m_y*m_x\n",
    "    SS_xx = np.sum(x*x) - n*m_x*m_x\n",
    "  \n",
    "    # calculating regression coefficients\n",
    "    b_1 = SS_xy / SS_xx\n",
    "    b_0 = m_y - b_1*m_x\n",
    "  \n",
    "    return (b_0, b_1)"
   ]
  }
 ],
 "metadata": {
  "kernelspec": {
   "display_name": "Python 3",
   "language": "python",
   "name": "python3"
  },
  "language_info": {
   "codemirror_mode": {
    "name": "ipython",
    "version": 3
   },
   "file_extension": ".py",
   "mimetype": "text/x-python",
   "name": "python",
   "nbconvert_exporter": "python",
   "pygments_lexer": "ipython3",
   "version": "3.8.8"
  }
 },
 "nbformat": 4,
 "nbformat_minor": 5
}
