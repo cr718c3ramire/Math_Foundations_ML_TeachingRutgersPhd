{
 "cells": [
  {
   "cell_type": "code",
   "execution_count": 3,
   "id": "fe5bbad1",
   "metadata": {},
   "outputs": [],
   "source": [
    "import numpy as np\n",
    "\n",
    "N=10\n",
    "A=np.zeros([N,N])\n",
    "for i in range(N):\n",
    "    A[i,i]=6\n",
    "    if i+1<N:\n",
    "        A[i,i+1]=1.25\n",
    "    if i+2<N:\n",
    "        A[i,i+2]=1.25\n",
    "    for j in range(N):\n",
    "        if(np.abs(i-j)>=3):\n",
    "            A[i,j]=0"
   ]
  },
  {
   "cell_type": "code",
   "execution_count": 4,
   "id": "d3702805",
   "metadata": {},
   "outputs": [
    {
     "name": "stdout",
     "output_type": "stream",
     "text": [
      "[[6.   1.25 1.25 0.   0.   0.   0.   0.   0.   0.  ]\n",
      " [0.   6.   1.25 1.25 0.   0.   0.   0.   0.   0.  ]\n",
      " [0.   0.   6.   1.25 1.25 0.   0.   0.   0.   0.  ]\n",
      " [0.   0.   0.   6.   1.25 1.25 0.   0.   0.   0.  ]\n",
      " [0.   0.   0.   0.   6.   1.25 1.25 0.   0.   0.  ]\n",
      " [0.   0.   0.   0.   0.   6.   1.25 1.25 0.   0.  ]\n",
      " [0.   0.   0.   0.   0.   0.   6.   1.25 1.25 0.  ]\n",
      " [0.   0.   0.   0.   0.   0.   0.   6.   1.25 1.25]\n",
      " [0.   0.   0.   0.   0.   0.   0.   0.   6.   1.25]\n",
      " [0.   0.   0.   0.   0.   0.   0.   0.   0.   6.  ]]\n"
     ]
    }
   ],
   "source": [
    "print(A)"
   ]
  },
  {
   "cell_type": "code",
   "execution_count": null,
   "id": "45fb865a",
   "metadata": {},
   "outputs": [],
   "source": []
  }
 ],
 "metadata": {
  "kernelspec": {
   "display_name": "Python 3",
   "language": "python",
   "name": "python3"
  },
  "language_info": {
   "codemirror_mode": {
    "name": "ipython",
    "version": 3
   },
   "file_extension": ".py",
   "mimetype": "text/x-python",
   "name": "python",
   "nbconvert_exporter": "python",
   "pygments_lexer": "ipython3",
   "version": "3.8.8"
  }
 },
 "nbformat": 4,
 "nbformat_minor": 5
}
